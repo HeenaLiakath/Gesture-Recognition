{
  "cells": [
    {
      "cell_type": "markdown",
      "metadata": {
        "id": "mBjQj6br_e4O"
      },
      "source": [
        "# Gesture Recognition\n",
        "In this group project, you are going to build a 3D Conv model that will be able to predict the 5 gestures correctly. Please import the following libraries to get started."
      ]
    },
    {
      "cell_type": "code",
      "source": [
        "!nvidia-smi"
      ],
      "metadata": {
        "colab": {
          "base_uri": "https://localhost:8080/"
        },
        "id": "A4ckoXOz_vE9",
        "outputId": "db745bf3-2236-4b8d-ef39-b6d1ade0ca54"
      },
      "execution_count": 1,
      "outputs": [
        {
          "output_type": "stream",
          "name": "stdout",
          "text": [
            "Wed Jan  5 09:44:26 2022       \n",
            "+-----------------------------------------------------------------------------+\n",
            "| NVIDIA-SMI 495.44       Driver Version: 460.32.03    CUDA Version: 11.2     |\n",
            "|-------------------------------+----------------------+----------------------+\n",
            "| GPU  Name        Persistence-M| Bus-Id        Disp.A | Volatile Uncorr. ECC |\n",
            "| Fan  Temp  Perf  Pwr:Usage/Cap|         Memory-Usage | GPU-Util  Compute M. |\n",
            "|                               |                      |               MIG M. |\n",
            "|===============================+======================+======================|\n",
            "|   0  Tesla K80           Off  | 00000000:00:04.0 Off |                    0 |\n",
            "| N/A   63C    P8    31W / 149W |      0MiB / 11441MiB |      0%      Default |\n",
            "|                               |                      |                  N/A |\n",
            "+-------------------------------+----------------------+----------------------+\n",
            "                                                                               \n",
            "+-----------------------------------------------------------------------------+\n",
            "| Processes:                                                                  |\n",
            "|  GPU   GI   CI        PID   Type   Process name                  GPU Memory |\n",
            "|        ID   ID                                                   Usage      |\n",
            "|=============================================================================|\n",
            "|  No running processes found                                                 |\n",
            "+-----------------------------------------------------------------------------+\n"
          ]
        }
      ]
    },
    {
      "cell_type": "code",
      "source": [
        "from google.colab import drive\n",
        "drive.mount('/content/drive')"
      ],
      "metadata": {
        "colab": {
          "base_uri": "https://localhost:8080/"
        },
        "id": "hr5ZG_fZ_rVN",
        "outputId": "a966f186-f539-4666-8b9e-962ab3db10c9"
      },
      "execution_count": 2,
      "outputs": [
        {
          "output_type": "stream",
          "name": "stdout",
          "text": [
            "Mounted at /content/drive\n"
          ]
        }
      ]
    },
    {
      "cell_type": "code",
      "source": [
        "#!unzip /content/drive/MyDrive/Project_data.zip"
      ],
      "metadata": {
        "id": "soWBXF9F_sE-"
      },
      "execution_count": 41,
      "outputs": []
    },
    {
      "cell_type": "code",
      "execution_count": 4,
      "metadata": {
        "id": "IEqcQmFr_e4S"
      },
      "outputs": [],
      "source": [
        "import numpy as np\n",
        "import os\n",
        "#from scipy.misc import imread, imresize\n",
        "from imageio import imread\n",
        "from skimage.transform import resize as imresize\n",
        "#import image as im\n",
        "import datetime\n",
        "import os\n",
        "import PIL\n",
        "import cv2 \n",
        "import matplotlib.pyplot as plt\n",
        "\n",
        "import warnings\n",
        "warnings.filterwarnings('ignore')"
      ]
    },
    {
      "cell_type": "markdown",
      "metadata": {
        "id": "wCqBN_fH_e4U"
      },
      "source": [
        "We set the random seed so that the results don't vary drastically."
      ]
    },
    {
      "cell_type": "code",
      "execution_count": 5,
      "metadata": {
        "id": "H73RSgVB_e4V"
      },
      "outputs": [],
      "source": [
        "np.random.seed(30)\n",
        "import random as rn\n",
        "rn.seed(30)\n",
        "import keras as Keras\n",
        "from keras import backend as K\n",
        "import tensorflow as tf\n",
        "#tf.set_random_seed(30)\n",
        "tf.random.set_seed(30)"
      ]
    },
    {
      "cell_type": "markdown",
      "metadata": {
        "id": "UGZya8Wp_e4W"
      },
      "source": [
        "In this block, you read the folder names for training and validation. You also set the `batch_size` here. Note that you set the batch size in such a way that you are able to use the GPU in full capacity. You keep increasing the batch size until the machine throws an error."
      ]
    },
    {
      "cell_type": "code",
      "execution_count": 6,
      "metadata": {
        "id": "3WInzfHO_e4W"
      },
      "outputs": [],
      "source": [
        "train_doc = np.random.permutation(open('/content/Project_data/train.csv').readlines())\n",
        "val_doc = np.random.permutation(open('/content/Project_data/val.csv').readlines())\n",
        "batch_size = 10"
      ]
    },
    {
      "cell_type": "markdown",
      "metadata": {
        "id": "YdyEExfY_e4X"
      },
      "source": [
        "## Generator\n",
        "This is one of the most important part of the code. The overall structure of the generator has been given. In the generator, you are going to preprocess the images as you have images of 2 different dimensions as well as create a batch of video frames. You have to experiment with `img_idx`, `y`,`z` and normalization such that you get high accuracy."
      ]
    },
    {
      "cell_type": "code",
      "execution_count": 7,
      "metadata": {
        "id": "lcX2Lski_e4Y"
      },
      "outputs": [],
      "source": [
        "x = 30 # number of frames\n",
        "y = 120 # image width\n",
        "z = 120 # image height\n",
        "\n",
        "def generator(source_path, folder_list, batch_size):\n",
        "    print( 'Source path = ', source_path, '; batch size =', batch_size)\n",
        "    img_idx = [x for x in range(0,x)] #create a list of image numbers you want to use for a particular video\n",
        "    while True:\n",
        "        t = np.random.permutation(folder_list)\n",
        "        num_batches = len(folder_list)//batch_size # calculate the number of batches\n",
        "        for batch in range(num_batches): # we iterate over the number of batches\n",
        "            batch_data = np.zeros((batch_size,x,y,z,3)) # x is the number of images you use for each video, (y,z) is the final size of the input images and 3 is the number of channels RGB\n",
        "            batch_labels = np.zeros((batch_size,5)) # batch_labels is the one hot representation of the output\n",
        "            for folder in range(batch_size): # iterate over the batch_size\n",
        "                imgs = os.listdir(source_path+'/'+ t[folder + (batch*batch_size)].split(';')[0]) # read all the images in the folder\n",
        "                for idx,item in enumerate(img_idx): #  Iterate iver the frames/images of a folder to read them in\n",
        "                    image = imread(source_path+'/'+ t[folder + (batch*batch_size)].strip().split(';')[0]+'/'+imgs[item]).astype(np.float32)\n",
        "                    \n",
        "                    #crop the images and resize them. Note that the images are of 2 different shape \n",
        "                    #and the conv3D will throw error if the inputs in a batch have different shapes\n",
        "                    \n",
        "                    temp = imresize(image,(120,120))\n",
        "                    temp = temp/127.5-1 #Normalize data\n",
        "                    \n",
        "                    batch_data[folder,idx,:,:,0] = (temp[:,:,0]) #normalise and feed in the image\n",
        "                    batch_data[folder,idx,:,:,1] = (temp[:,:,1]) #normalise and feed in the image\n",
        "                    batch_data[folder,idx,:,:,2] = (temp[:,:,2]) #normalise and feed in the image\n",
        "                    \n",
        "                batch_labels[folder, int(t[folder + (batch*batch_size)].strip().split(';')[2])] = 1\n",
        "            yield batch_data, batch_labels #you yield the batch_data and the batch_labels, remember what does yield do\n",
        "\n",
        "        \n",
        "        # write the code for the remaining data points which are left after full batches\n",
        "        if (len(folder_list) != batch_size*num_batches):\n",
        "            print(\"Batch: \",num_batches+1,\"Index:\", batch_size)\n",
        "            batch_size = len(folder_list) - (batch_size*num_batches)\n",
        "            batch_data = np.zeros((batch_size,x,y,z,3)) # x is the number of images you use for each video, (y,z) is the final size of the input images and 3 is the number of channels RGB\n",
        "            batch_labels = np.zeros((batch_size,5)) # batch_labels is the one hot representation of the output\n",
        "            for folder in range(batch_size): # iterate over the batch_size\n",
        "                imgs = os.listdir(source_path+'/'+ t[folder + (batch*batch_size)].split(';')[0]) # read all the images in the folder\n",
        "                for idx,item in enumerate(img_idx): #  Iterate iver the frames/images of a folder to read them in\n",
        "                    image = imread(source_path+'/'+ t[folder + (batch*batch_size)].strip().split(';')[0]+'/'+imgs[item]).astype(np.float32)\n",
        "                    \n",
        "                    #crop the images and resize them. Note that the images are of 2 different shape \n",
        "                    #and the conv3D will throw error if the inputs in a batch have different shapes\n",
        "                    temp = imresize(image,(120,120))\n",
        "                    temp = temp/127.5-1 #Normalize data\n",
        "                    \n",
        "                    batch_data[folder,idx,:,:,0] = (temp[:,:,0])\n",
        "                    batch_data[folder,idx,:,:,1] = (temp[:,:,1])\n",
        "                    batch_data[folder,idx,:,:,2] = (temp[:,:,2])\n",
        "                   \n",
        "                batch_labels[folder, int(t[folder + (batch*batch_size)].strip().split(';')[2])] = 1\n",
        "            yield batch_data, batch_labels"
      ]
    },
    {
      "cell_type": "markdown",
      "metadata": {
        "id": "ns6vphF3_e4Z"
      },
      "source": [
        "Note here that a video is represented above in the generator as (number of images, height, width, number of channels). Take this into consideration while creating the model architecture."
      ]
    },
    {
      "cell_type": "code",
      "execution_count": 8,
      "metadata": {
        "id": "Js9SsJIF_e4a",
        "colab": {
          "base_uri": "https://localhost:8080/"
        },
        "outputId": "51b1dcc4-3574-4f41-c122-93ee77b6047d"
      },
      "outputs": [
        {
          "output_type": "stream",
          "name": "stdout",
          "text": [
            "# training sequences = 663\n",
            "# validation sequences = 100\n",
            "# epochs = 10\n"
          ]
        }
      ],
      "source": [
        "curr_dt_time = datetime.datetime.now()\n",
        "train_path = '/content/Project_data/train'\n",
        "val_path = '/content/Project_data/val'\n",
        "num_train_sequences = len(train_doc)\n",
        "print('# training sequences =', num_train_sequences)\n",
        "num_val_sequences = len(val_doc)\n",
        "print('# validation sequences =', num_val_sequences)\n",
        "num_epochs = 10 # choose the number of epochs\n",
        "print ('# epochs =', num_epochs)"
      ]
    },
    {
      "cell_type": "markdown",
      "metadata": {
        "id": "FypX-nuR_e4b"
      },
      "source": [
        "## Model\n",
        "Here you make the model using different functionalities that Keras provides. Remember to use `Conv3D` and `MaxPooling3D` and not `Conv2D` and `Maxpooling2D` for a 3D convolution model. You would want to use `TimeDistributed` while building a Conv2D + RNN model. Also remember that the last layer is the softmax. Design the network in such a way that the model is able to give good accuracy on the least number of parameters so that it can fit in the memory of the webcam."
      ]
    },
    {
      "cell_type": "code",
      "execution_count": 22,
      "metadata": {
        "id": "5HT4LoYB_e4b"
      },
      "outputs": [],
      "source": [
        "from keras.models import Sequential, Model\n",
        "from keras.layers import Dense, GRU, Flatten, TimeDistributed, Flatten, BatchNormalization, Activation, Dropout\n",
        "from keras.layers.convolutional import Conv3D, MaxPooling3D, Conv2D, MaxPooling2D\n",
        "from keras.callbacks import ModelCheckpoint, ReduceLROnPlateau\n",
        "from keras import optimizers\n",
        "import keras\n",
        "\n",
        "#write your model here\n",
        "#model a\n",
        "model_a = Sequential()\n",
        "\n",
        "model_a.add(Conv3D(8, #number of filters \n",
        "                 kernel_size=(3,3,3), \n",
        "                 input_shape=(30, 120, 120, 3),\n",
        "                 padding='same'))\n",
        "model_a.add(BatchNormalization())\n",
        "model_a.add(Activation('relu'))\n",
        "\n",
        "model_a.add(MaxPooling3D(pool_size=(2,2,2)))\n",
        "\n",
        "model_a.add(Conv3D(16, #Number of filters, \n",
        "                 kernel_size=(3,3,3), \n",
        "                 padding='same'))\n",
        "model_a.add(BatchNormalization())\n",
        "model_a.add(Activation('relu'))\n",
        "\n",
        "model_a.add(MaxPooling3D(pool_size=(2,2,2)))\n",
        "\n",
        "model_a.add(Conv3D(32, #Number of filters \n",
        "                 kernel_size=(1,3,3), \n",
        "                 padding='same'))\n",
        "model_a.add(BatchNormalization())\n",
        "model_a.add(Activation('relu'))\n",
        "\n",
        "model_a.add(MaxPooling3D(pool_size=(2,2,2)))\n",
        "\n",
        "model_a.add(Conv3D(64, #Number pf filters \n",
        "                 kernel_size=(1,3,3), \n",
        "                 padding='same'))\n",
        "model_a.add(BatchNormalization())\n",
        "model_a.add(Activation('relu'))\n",
        "\n",
        "model_a.add(MaxPooling3D(pool_size=(2,2,2)))\n",
        "\n",
        "#Flatten Layers\n",
        "model_a.add(Flatten())\n",
        "\n",
        "model_a.add(Dense(1000, activation='relu'))\n",
        "model_a.add(Dropout(0.5))\n",
        "\n",
        "model_a.add(Dense(500, activation='relu'))\n",
        "model_a.add(Dropout(0.5))\n",
        "\n",
        "#softmax layer\n",
        "model_a.add(Dense(5, activation='softmax'))"
      ]
    },
    {
      "cell_type": "markdown",
      "metadata": {
        "id": "Q4ONUIFv_e4c"
      },
      "source": [
        "Now that you have written the model, the next step is to `compile` the model. When you print the `summary` of the model, you'll see the total number of parameters you have to train."
      ]
    },
    {
      "cell_type": "code",
      "execution_count": 10,
      "metadata": {
        "scrolled": true,
        "id": "qsA4GDhh_e4c",
        "colab": {
          "base_uri": "https://localhost:8080/"
        },
        "outputId": "111c775a-5ad5-47c0-deed-ccf487ec44a5"
      },
      "outputs": [
        {
          "output_type": "stream",
          "name": "stdout",
          "text": [
            "Model: \"sequential\"\n",
            "_________________________________________________________________\n",
            " Layer (type)                Output Shape              Param #   \n",
            "=================================================================\n",
            " conv3d (Conv3D)             (None, 30, 120, 120, 8)   656       \n",
            "                                                                 \n",
            " batch_normalization (BatchN  (None, 30, 120, 120, 8)  32        \n",
            " ormalization)                                                   \n",
            "                                                                 \n",
            " activation (Activation)     (None, 30, 120, 120, 8)   0         \n",
            "                                                                 \n",
            " max_pooling3d (MaxPooling3D  (None, 15, 60, 60, 8)    0         \n",
            " )                                                               \n",
            "                                                                 \n",
            " conv3d_1 (Conv3D)           (None, 15, 60, 60, 16)    3472      \n",
            "                                                                 \n",
            " batch_normalization_1 (Batc  (None, 15, 60, 60, 16)   64        \n",
            " hNormalization)                                                 \n",
            "                                                                 \n",
            " activation_1 (Activation)   (None, 15, 60, 60, 16)    0         \n",
            "                                                                 \n",
            " max_pooling3d_1 (MaxPooling  (None, 7, 30, 30, 16)    0         \n",
            " 3D)                                                             \n",
            "                                                                 \n",
            " conv3d_2 (Conv3D)           (None, 7, 30, 30, 32)     4640      \n",
            "                                                                 \n",
            " batch_normalization_2 (Batc  (None, 7, 30, 30, 32)    128       \n",
            " hNormalization)                                                 \n",
            "                                                                 \n",
            " activation_2 (Activation)   (None, 7, 30, 30, 32)     0         \n",
            "                                                                 \n",
            " max_pooling3d_2 (MaxPooling  (None, 3, 15, 15, 32)    0         \n",
            " 3D)                                                             \n",
            "                                                                 \n",
            " conv3d_3 (Conv3D)           (None, 3, 15, 15, 64)     18496     \n",
            "                                                                 \n",
            " batch_normalization_3 (Batc  (None, 3, 15, 15, 64)    256       \n",
            " hNormalization)                                                 \n",
            "                                                                 \n",
            " activation_3 (Activation)   (None, 3, 15, 15, 64)     0         \n",
            "                                                                 \n",
            " max_pooling3d_3 (MaxPooling  (None, 1, 7, 7, 64)      0         \n",
            " 3D)                                                             \n",
            "                                                                 \n",
            " flatten (Flatten)           (None, 3136)              0         \n",
            "                                                                 \n",
            " dense (Dense)               (None, 1000)              3137000   \n",
            "                                                                 \n",
            " dropout (Dropout)           (None, 1000)              0         \n",
            "                                                                 \n",
            " dense_1 (Dense)             (None, 500)               500500    \n",
            "                                                                 \n",
            " dropout_1 (Dropout)         (None, 500)               0         \n",
            "                                                                 \n",
            " dense_2 (Dense)             (None, 5)                 2505      \n",
            "                                                                 \n",
            "=================================================================\n",
            "Total params: 3,667,749\n",
            "Trainable params: 3,667,509\n",
            "Non-trainable params: 240\n",
            "_________________________________________________________________\n",
            "None\n"
          ]
        }
      ],
      "source": [
        "optimiser = tf.keras.optimizers.Adam(lr=0.001) #write your optimizer\n",
        "model_a.compile(optimizer=optimiser, loss='categorical_crossentropy', metrics=['categorical_accuracy'])\n",
        "print (model_a.summary())"
      ]
    },
    {
      "cell_type": "markdown",
      "metadata": {
        "id": "ixdniPps_e4d"
      },
      "source": [
        "Let us create the `train_generator` and the `val_generator` which will be used in `.fit_generator`."
      ]
    },
    {
      "cell_type": "code",
      "execution_count": 11,
      "metadata": {
        "id": "8QtPzsNF_e4d"
      },
      "outputs": [],
      "source": [
        "train_generator = generator(train_path, train_doc, batch_size)\n",
        "val_generator = generator(val_path, val_doc, batch_size)"
      ]
    },
    {
      "cell_type": "code",
      "execution_count": 12,
      "metadata": {
        "id": "Ytd7GZWM_e4d",
        "colab": {
          "base_uri": "https://localhost:8080/"
        },
        "outputId": "06184623-e4dc-4592-e9ac-495261e5b536"
      },
      "outputs": [
        {
          "output_type": "stream",
          "name": "stdout",
          "text": [
            "WARNING:tensorflow:`period` argument is deprecated. Please use `save_freq` to specify the frequency in number of batches seen.\n"
          ]
        }
      ],
      "source": [
        "model_name = 'model_init' + '_' + str(curr_dt_time).replace(' ','').replace(':','_') + '/'\n",
        "    \n",
        "if not os.path.exists(model_name):\n",
        "    os.mkdir(model_name)\n",
        "        \n",
        "filepath = model_name + 'model-{epoch:05d}-{loss:.5f}-{categorical_accuracy:.5f}-{val_loss:.5f}-{val_categorical_accuracy:.5f}.h5'\n",
        "\n",
        "checkpoint = ModelCheckpoint(filepath, monitor='val_loss', verbose=1, save_best_only=False, save_weights_only=False, mode='auto', period=1)\n",
        "\n",
        "LR = ReduceLROnPlateau(monitor='val_loss', factor=0.5, patience=2, cooldown=1, verbose=1) # write the REducelronplateau code here\n",
        "callbacks_list = [checkpoint, LR]"
      ]
    },
    {
      "cell_type": "markdown",
      "metadata": {
        "id": "N_sVdRZg_e4d"
      },
      "source": [
        "The `steps_per_epoch` and `validation_steps` are used by `fit_generator` to decide the number of next() calls it need to make."
      ]
    },
    {
      "cell_type": "code",
      "execution_count": 13,
      "metadata": {
        "id": "QYA_A6Eu_e4e"
      },
      "outputs": [],
      "source": [
        "if (num_train_sequences%batch_size) == 0:\n",
        "    steps_per_epoch = int(num_train_sequences/batch_size)\n",
        "else:\n",
        "    steps_per_epoch = (num_train_sequences//batch_size) + 1\n",
        "\n",
        "if (num_val_sequences%batch_size) == 0:\n",
        "    validation_steps = int(num_val_sequences/batch_size)\n",
        "else:\n",
        "    validation_steps = (num_val_sequences//batch_size) + 1"
      ]
    },
    {
      "cell_type": "markdown",
      "metadata": {
        "id": "oy8con1B_e4e"
      },
      "source": [
        "Let us now fit the model. This will start training the model and with the help of the checkpoints, you'll be able to save the model at the end of each epoch."
      ]
    },
    {
      "cell_type": "code",
      "execution_count": null,
      "metadata": {
        "id": "bjDeb7mD_e4e",
        "colab": {
          "base_uri": "https://localhost:8080/"
        },
        "outputId": "dbc7d61d-0529-4d88-bfac-48aaabe9261e"
      },
      "outputs": [
        {
          "output_type": "stream",
          "name": "stdout",
          "text": [
            "Source path =  /content/Project_data/train ; batch size = 10\n",
            "Epoch 1/10\n",
            "65/67 [============================>.] - ETA: 6s - loss: 4.5094 - categorical_accuracy: 0.2831 Batch:  67 Index: 10\n",
            "67/67 [==============================] - ETA: 0s - loss: 4.4519 - categorical_accuracy: 0.2881Source path =  /content/Project_data/val ; batch size = 10\n",
            "\n",
            "Epoch 00001: saving model to model_init_2022-01-0414_50_06.200503/model-00001-4.45187-0.28808-1.21259-0.45000.h5\n",
            "67/67 [==============================] - 279s 4s/step - loss: 4.4519 - categorical_accuracy: 0.2881 - val_loss: 1.2126 - val_categorical_accuracy: 0.4500 - lr: 0.0010\n",
            "Epoch 2/10\n",
            "67/67 [==============================] - ETA: 0s - loss: 2.3758 - categorical_accuracy: 0.3383\n",
            "Epoch 00002: saving model to model_init_2022-01-0414_50_06.200503/model-00002-2.37584-0.33831-1.54641-0.36000.h5\n",
            "67/67 [==============================] - 107s 2s/step - loss: 2.3758 - categorical_accuracy: 0.3383 - val_loss: 1.5464 - val_categorical_accuracy: 0.3600 - lr: 0.0010\n",
            "Epoch 3/10\n",
            "67/67 [==============================] - ETA: 0s - loss: 1.9715 - categorical_accuracy: 0.3035\n",
            "Epoch 00003: saving model to model_init_2022-01-0414_50_06.200503/model-00003-1.97150-0.30348-1.42637-0.36000.h5\n",
            "\n",
            "Epoch 00003: ReduceLROnPlateau reducing learning rate to 0.0005000000237487257.\n",
            "67/67 [==============================] - 111s 2s/step - loss: 1.9715 - categorical_accuracy: 0.3035 - val_loss: 1.4264 - val_categorical_accuracy: 0.3600 - lr: 0.0010\n",
            "Epoch 4/10\n",
            "67/67 [==============================] - ETA: 0s - loss: 1.6680 - categorical_accuracy: 0.3333\n",
            "Epoch 00004: saving model to model_init_2022-01-0414_50_06.200503/model-00004-1.66799-0.33333-1.36030-0.33000.h5\n",
            "67/67 [==============================] - 109s 2s/step - loss: 1.6680 - categorical_accuracy: 0.3333 - val_loss: 1.3603 - val_categorical_accuracy: 0.3300 - lr: 5.0000e-04\n",
            "Epoch 5/10\n",
            "67/67 [==============================] - ETA: 0s - loss: 1.4914 - categorical_accuracy: 0.3433\n",
            "Epoch 00005: saving model to model_init_2022-01-0414_50_06.200503/model-00005-1.49140-0.34328-1.36866-0.37000.h5\n",
            "\n",
            "Epoch 00005: ReduceLROnPlateau reducing learning rate to 0.0002500000118743628.\n",
            "67/67 [==============================] - 112s 2s/step - loss: 1.4914 - categorical_accuracy: 0.3433 - val_loss: 1.3687 - val_categorical_accuracy: 0.3700 - lr: 5.0000e-04\n",
            "Epoch 6/10\n",
            "67/67 [==============================] - ETA: 0s - loss: 1.3549 - categorical_accuracy: 0.4229\n",
            "Epoch 00006: saving model to model_init_2022-01-0414_50_06.200503/model-00006-1.35491-0.42289-1.48697-0.37000.h5\n",
            "67/67 [==============================] - 115s 2s/step - loss: 1.3549 - categorical_accuracy: 0.4229 - val_loss: 1.4870 - val_categorical_accuracy: 0.3700 - lr: 2.5000e-04\n",
            "Epoch 7/10\n",
            "67/67 [==============================] - ETA: 0s - loss: 1.2678 - categorical_accuracy: 0.4677\n",
            "Epoch 00007: saving model to model_init_2022-01-0414_50_06.200503/model-00007-1.26778-0.46766-1.10254-0.63000.h5\n",
            "67/67 [==============================] - 111s 2s/step - loss: 1.2678 - categorical_accuracy: 0.4677 - val_loss: 1.1025 - val_categorical_accuracy: 0.6300 - lr: 2.5000e-04\n",
            "Epoch 8/10\n",
            "67/67 [==============================] - ETA: 0s - loss: 1.2682 - categorical_accuracy: 0.4826\n",
            "Epoch 00008: saving model to model_init_2022-01-0414_50_06.200503/model-00008-1.26819-0.48259-1.08369-0.48000.h5\n",
            "67/67 [==============================] - 109s 2s/step - loss: 1.2682 - categorical_accuracy: 0.4826 - val_loss: 1.0837 - val_categorical_accuracy: 0.4800 - lr: 2.5000e-04\n",
            "Epoch 9/10\n",
            "67/67 [==============================] - ETA: 0s - loss: 1.3164 - categorical_accuracy: 0.4129\n",
            "Epoch 00009: saving model to model_init_2022-01-0414_50_06.200503/model-00009-1.31640-0.41294-1.10926-0.55000.h5\n",
            "67/67 [==============================] - 114s 2s/step - loss: 1.3164 - categorical_accuracy: 0.4129 - val_loss: 1.1093 - val_categorical_accuracy: 0.5500 - lr: 2.5000e-04\n",
            "Epoch 10/10\n",
            "67/67 [==============================] - ETA: 0s - loss: 1.1989 - categorical_accuracy: 0.4925\n",
            "Epoch 00010: saving model to model_init_2022-01-0414_50_06.200503/model-00010-1.19888-0.49254-1.05329-0.61000.h5\n",
            "67/67 [==============================] - 108s 2s/step - loss: 1.1989 - categorical_accuracy: 0.4925 - val_loss: 1.0533 - val_categorical_accuracy: 0.6100 - lr: 2.5000e-04\n"
          ]
        },
        {
          "output_type": "execute_result",
          "data": {
            "text/plain": [
              "<keras.callbacks.History at 0x7fcb901f9150>"
            ]
          },
          "metadata": {},
          "execution_count": 14
        }
      ],
      "source": [
        "model_a.fit_generator(train_generator, steps_per_epoch=steps_per_epoch, epochs=num_epochs, verbose=1, \n",
        "                    callbacks=callbacks_list, validation_data=val_generator, \n",
        "                    validation_steps=validation_steps, class_weight=None, workers=1, initial_epoch=0)"
      ]
    },
    {
      "cell_type": "code",
      "execution_count": 14,
      "metadata": {
        "id": "5nw72S1h_e4f"
      },
      "outputs": [],
      "source": [
        "classes = 5 #left swipe, right swipe, thumbs up, thumbs down, stop\n",
        "channel = 3\n",
        "x = 30 # number of frames\n",
        "y = 120 # image width\n",
        "z = 120 # image height\n",
        "\n",
        "def generator_ex(source_path, folder_list, batch_size):\n",
        "    print( 'Source path = ', source_path, '; batch size =', batch_size)\n",
        "    img_idx = [x for x in range(0,x)] #create a list of image numbers you want to use for a particular video\n",
        "    while True:\n",
        "        t = np.random.permutation(folder_list)\n",
        "        num_batches = len(folder_list)//batch_size # calculate the number of batches\n",
        "        for batch in range(num_batches): # we iterate over the number of batches\n",
        "            batch_data = np.zeros((batch_size,x,y,z,channel)) # x is the number of images you use for each video, (y,z) is the final size of the input images and 3 is the number of channels RGB\n",
        "            batch_labels = np.zeros((batch_size,classes)) # batch_labels is the one hot representation of the output\n",
        "            for folder in range(batch_size): # iterate over the batch_size\n",
        "                imgs = os.listdir(source_path+'/'+ t[folder + (batch*batch_size)].split(';')[0]) # read all the images in the folder\n",
        "                for idx,item in enumerate(img_idx): #  Iterate iver the frames/images of a folder to read them in\n",
        "                    image = imread(source_path+'/'+ t[folder + (batch*batch_size)].strip().split(';')[0]+'/'+imgs[item]).astype(np.float32)\n",
        "                    \n",
        "                    #crop the images and resize them. Note that the images are of 2 different shape \n",
        "                    #and the conv3D will throw error if the inputs in a batch have different shapes\n",
        "                    \n",
        "                    temp = imresize(image,(y,z))\n",
        "                    #Converting to gray scale\n",
        "                    temp = temp.mean(axis=-1,keepdims=1) \n",
        "                    temp = temp/127.5-1 #Normalize data\n",
        "                    batch_data[folder,idx] = temp #normalise and feed in the image\n",
        "                    \n",
        "                batch_labels[folder, int(t[folder + (batch*batch_size)].strip().split(';')[2])] = 1\n",
        "                \n",
        "            yield batch_data, batch_labels #you yield the batch_data and the batch_labels, remember what does yield do\n",
        "\n",
        "        \n",
        "        # write the code for the remaining data points which are left after full batches\n",
        "        if (len(folder_list) != batch_size*num_batches):\n",
        "            print(\"Batch: \",num_batches+1,\"Index:\", batch_size)\n",
        "            batch_size = len(folder_list) - (batch_size*num_batches)\n",
        "            batch_data = np.zeros((batch_size,x,y,z,channel)) # x is the number of images you use for each video, (y,z) is the final size of the input images and 3 is the number of channels RGB\n",
        "            batch_labels = np.zeros((batch_size,classes)) # batch_labels is the one hot representation of the output\n",
        "            for folder in range(batch_size): # iterate over the batch_size\n",
        "                imgs = os.listdir(source_path+'/'+ t[folder + (batch*batch_size)].split(';')[0]) # read all the images in the folder\n",
        "                for idx,item in enumerate(img_idx): #  Iterate iver the frames/images of a folder to read them in\n",
        "                    image = imread(source_path+'/'+ t[folder + (batch*batch_size)].strip().split(';')[0]+'/'+imgs[item]).astype(np.float32)\n",
        "                    \n",
        "                    #crop the images and resize them. Note that the images are of 2 different shape \n",
        "                    #and the conv3D will throw error if the inputs in a batch have different shapes\n",
        "                    temp = imresize(image,(y,z))\n",
        "                    #Converting to gray scale\n",
        "                    temp = temp.mean(axis=-1,keepdims=1) \n",
        "                    temp = temp/127.5-1 #Normalize data\n",
        "                    \n",
        "                    batch_data[folder,idx] = temp\n",
        "                   \n",
        "                batch_labels[folder, int(t[folder + (batch*batch_size)].strip().split(';')[2])] = 1\n",
        "            yield batch_data, batch_labels"
      ]
    },
    {
      "cell_type": "code",
      "execution_count": null,
      "metadata": {
        "id": "LMLlVCwu_e4h",
        "colab": {
          "base_uri": "https://localhost:8080/"
        },
        "outputId": "09996d6d-8aa1-44fd-d078-13b8890b15a8"
      },
      "outputs": [
        {
          "output_type": "stream",
          "name": "stdout",
          "text": [
            "Model: \"sequential_2\"\n",
            "_________________________________________________________________\n",
            " Layer (type)                Output Shape              Param #   \n",
            "=================================================================\n",
            " conv3d_8 (Conv3D)           (None, 30, 120, 120, 32)  2624      \n",
            "                                                                 \n",
            " activation_8 (Activation)   (None, 30, 120, 120, 32)  0         \n",
            "                                                                 \n",
            " conv3d_9 (Conv3D)           (None, 30, 120, 120, 32)  27680     \n",
            "                                                                 \n",
            " activation_9 (Activation)   (None, 30, 120, 120, 32)  0         \n",
            "                                                                 \n",
            " max_pooling3d_8 (MaxPooling  (None, 10, 40, 40, 32)   0         \n",
            " 3D)                                                             \n",
            "                                                                 \n",
            " dropout_4 (Dropout)         (None, 10, 40, 40, 32)    0         \n",
            "                                                                 \n",
            " conv3d_10 (Conv3D)          (None, 10, 40, 40, 64)    55360     \n",
            "                                                                 \n",
            " activation_10 (Activation)  (None, 10, 40, 40, 64)    0         \n",
            "                                                                 \n",
            " conv3d_11 (Conv3D)          (None, 10, 40, 40, 64)    110656    \n",
            "                                                                 \n",
            " activation_11 (Activation)  (None, 10, 40, 40, 64)    0         \n",
            "                                                                 \n",
            " max_pooling3d_9 (MaxPooling  (None, 4, 14, 14, 64)    0         \n",
            " 3D)                                                             \n",
            "                                                                 \n",
            " dropout_5 (Dropout)         (None, 4, 14, 14, 64)     0         \n",
            "                                                                 \n",
            " flatten_2 (Flatten)         (None, 50176)             0         \n",
            "                                                                 \n",
            " dense_6 (Dense)             (None, 512)               25690624  \n",
            "                                                                 \n",
            " dropout_6 (Dropout)         (None, 512)               0         \n",
            "                                                                 \n",
            " dense_7 (Dense)             (None, 5)                 2565      \n",
            "                                                                 \n",
            "=================================================================\n",
            "Total params: 25,889,509\n",
            "Trainable params: 25,889,509\n",
            "Non-trainable params: 0\n",
            "_________________________________________________________________\n"
          ]
        }
      ],
      "source": [
        "from keras.losses import categorical_crossentropy\n",
        "\n",
        "# Define model b\n",
        "model_b = Sequential()\n",
        "model_b.add(Conv3D(32, kernel_size=(3, 3, 3), input_shape=(x,y,z,channel), padding='same'))\n",
        "model_b.add(Activation('relu'))\n",
        "model_b.add(Conv3D(32, kernel_size=(3, 3, 3), padding='same'))\n",
        "model_b.add(Activation('relu'))\n",
        "model_b.add(MaxPooling3D(pool_size=(3, 3, 3), padding='same'))\n",
        "model_b.add(Dropout(0.25))\n",
        "\n",
        "model_b.add(Conv3D(64, kernel_size=(3, 3, 3), padding='same'))\n",
        "model_b.add(Activation('relu'))\n",
        "model_b.add(Conv3D(64, kernel_size=(3, 3, 3), padding='same'))\n",
        "model_b.add(Activation('relu'))\n",
        "model_b.add(MaxPooling3D(pool_size=(3, 3, 3), padding='same'))\n",
        "model_b.add(Dropout(0.25))\n",
        "\n",
        "model_b.add(Flatten())\n",
        "model_b.add(Dense(512, activation='relu'))\n",
        "model_b.add(Dropout(0.5))\n",
        "model_b.add(Dense(classes, activation='softmax'))\n",
        "\n",
        "model_b.compile(optimizer=tf.keras.optimizers.Adam(), loss='categorical_crossentropy', metrics=['categorical_accuracy'])\n",
        "model_b.summary()"
      ]
    },
    {
      "cell_type": "code",
      "execution_count": null,
      "metadata": {
        "id": "ux6JonTt_e4j"
      },
      "outputs": [],
      "source": [
        "train_generator = generator_ex(train_path, train_doc, batch_size)\n",
        "val_generator = generator_ex(val_path, val_doc, batch_size)"
      ]
    },
    {
      "cell_type": "code",
      "execution_count": null,
      "metadata": {
        "id": "QgvqHYq2_e4j",
        "colab": {
          "base_uri": "https://localhost:8080/"
        },
        "outputId": "7082e454-2871-414d-9a1b-18cdee5e7443"
      },
      "outputs": [
        {
          "output_type": "stream",
          "name": "stdout",
          "text": [
            "Source path =  /content/Project_data/train ; batch size = 10\n",
            "Epoch 1/10\n",
            "65/67 [============================>.] - ETA: 8s - loss: 1.6632 - categorical_accuracy: 0.1815 Batch:  67 Index: 10\n",
            "67/67 [==============================] - ETA: 0s - loss: 1.6622 - categorical_accuracy: 0.1825Source path =  /content/Project_data/val ; batch size = 10\n",
            "\n",
            "Epoch 00001: saving model to model_init_2021-12-2910_13_59.732121/model-00001-1.66222-0.18250-1.60990-0.18000.h5\n",
            "67/67 [==============================] - 331s 5s/step - loss: 1.6622 - categorical_accuracy: 0.1825 - val_loss: 1.6099 - val_categorical_accuracy: 0.1800 - lr: 0.0010\n",
            "Epoch 2/10\n",
            "67/67 [==============================] - ETA: 0s - loss: 1.6105 - categorical_accuracy: 0.1741\n",
            "Epoch 00002: saving model to model_init_2021-12-2910_13_59.732121/model-00002-1.61047-0.17413-1.60659-0.21000.h5\n",
            "67/67 [==============================] - 125s 2s/step - loss: 1.6105 - categorical_accuracy: 0.1741 - val_loss: 1.6066 - val_categorical_accuracy: 0.2100 - lr: 0.0010\n",
            "Epoch 3/10\n",
            "67/67 [==============================] - ETA: 0s - loss: 1.6083 - categorical_accuracy: 0.1542\n",
            "Epoch 00003: saving model to model_init_2021-12-2910_13_59.732121/model-00003-1.60827-0.15423-1.60762-0.23000.h5\n",
            "67/67 [==============================] - 128s 2s/step - loss: 1.6083 - categorical_accuracy: 0.1542 - val_loss: 1.6076 - val_categorical_accuracy: 0.2300 - lr: 0.0010\n",
            "Epoch 4/10\n",
            "67/67 [==============================] - ETA: 0s - loss: 1.6136 - categorical_accuracy: 0.1592\n",
            "Epoch 00004: saving model to model_init_2021-12-2910_13_59.732121/model-00004-1.61359-0.15920-1.60441-0.28000.h5\n",
            "67/67 [==============================] - 124s 2s/step - loss: 1.6136 - categorical_accuracy: 0.1592 - val_loss: 1.6044 - val_categorical_accuracy: 0.2800 - lr: 0.0010\n",
            "Epoch 5/10\n",
            "67/67 [==============================] - ETA: 0s - loss: 1.6070 - categorical_accuracy: 0.1891\n",
            "Epoch 00005: saving model to model_init_2021-12-2910_13_59.732121/model-00005-1.60700-0.18905-1.60761-0.19000.h5\n",
            "67/67 [==============================] - 126s 2s/step - loss: 1.6070 - categorical_accuracy: 0.1891 - val_loss: 1.6076 - val_categorical_accuracy: 0.1900 - lr: 0.0010\n",
            "Epoch 6/10\n",
            "67/67 [==============================] - ETA: 0s - loss: 1.6083 - categorical_accuracy: 0.2090\n",
            "Epoch 00006: saving model to model_init_2021-12-2910_13_59.732121/model-00006-1.60828-0.20896-1.60933-0.18000.h5\n",
            "\n",
            "Epoch 00006: ReduceLROnPlateau reducing learning rate to 0.0005000000237487257.\n",
            "67/67 [==============================] - 127s 2s/step - loss: 1.6083 - categorical_accuracy: 0.2090 - val_loss: 1.6093 - val_categorical_accuracy: 0.1800 - lr: 0.0010\n",
            "Epoch 7/10\n",
            "67/67 [==============================] - ETA: 0s - loss: 1.6098 - categorical_accuracy: 0.1542\n",
            "Epoch 00007: saving model to model_init_2021-12-2910_13_59.732121/model-00007-1.60983-0.15423-1.61051-0.19000.h5\n",
            "67/67 [==============================] - 121s 2s/step - loss: 1.6098 - categorical_accuracy: 0.1542 - val_loss: 1.6105 - val_categorical_accuracy: 0.1900 - lr: 5.0000e-04\n",
            "Epoch 8/10\n",
            "67/67 [==============================] - ETA: 0s - loss: 1.6131 - categorical_accuracy: 0.1990\n",
            "Epoch 00008: saving model to model_init_2021-12-2910_13_59.732121/model-00008-1.61309-0.19900-1.60305-0.23000.h5\n",
            "67/67 [==============================] - 121s 2s/step - loss: 1.6131 - categorical_accuracy: 0.1990 - val_loss: 1.6030 - val_categorical_accuracy: 0.2300 - lr: 5.0000e-04\n",
            "Epoch 9/10\n",
            "67/67 [==============================] - ETA: 0s - loss: 1.6107 - categorical_accuracy: 0.1592\n",
            "Epoch 00009: saving model to model_init_2021-12-2910_13_59.732121/model-00009-1.61073-0.15920-1.61047-0.18000.h5\n",
            "67/67 [==============================] - 126s 2s/step - loss: 1.6107 - categorical_accuracy: 0.1592 - val_loss: 1.6105 - val_categorical_accuracy: 0.1800 - lr: 5.0000e-04\n",
            "Epoch 10/10\n",
            "67/67 [==============================] - ETA: 0s - loss: 1.6088 - categorical_accuracy: 0.2338\n",
            "Epoch 00010: saving model to model_init_2021-12-2910_13_59.732121/model-00010-1.60881-0.23383-1.60741-0.22000.h5\n",
            "\n",
            "Epoch 00010: ReduceLROnPlateau reducing learning rate to 0.0002500000118743628.\n",
            "67/67 [==============================] - 122s 2s/step - loss: 1.6088 - categorical_accuracy: 0.2338 - val_loss: 1.6074 - val_categorical_accuracy: 0.2200 - lr: 5.0000e-04\n"
          ]
        },
        {
          "output_type": "execute_result",
          "data": {
            "text/plain": [
              "<keras.callbacks.History at 0x7f36534bfb50>"
            ]
          },
          "metadata": {},
          "execution_count": 17
        }
      ],
      "source": [
        "model_b.fit_generator(train_generator, steps_per_epoch=steps_per_epoch, epochs=num_epochs, verbose=1, \n",
        "                    callbacks=callbacks_list, validation_data=val_generator, \n",
        "                    validation_steps=validation_steps, class_weight=None, workers=1, initial_epoch=0)"
      ]
    },
    {
      "cell_type": "markdown",
      "metadata": {
        "id": "loGa3jxw_e4j"
      },
      "source": [
        "### Changing x,y,z values Experiment [ 1]\n"
      ]
    },
    {
      "cell_type": "code",
      "execution_count": null,
      "metadata": {
        "id": "jGnjOf9Z_e4j"
      },
      "outputs": [],
      "source": [
        "x = 30 # number of frames\n",
        "y = 60 # image width\n",
        "z = 60 # image height"
      ]
    },
    {
      "cell_type": "code",
      "execution_count": null,
      "metadata": {
        "id": "VZKq_NRK_e4k",
        "colab": {
          "base_uri": "https://localhost:8080/"
        },
        "outputId": "5720702e-2a00-4eed-dbf0-2c335c03fb23"
      },
      "outputs": [
        {
          "output_type": "stream",
          "name": "stdout",
          "text": [
            "Model: \"sequential_3\"\n",
            "_________________________________________________________________\n",
            " Layer (type)                Output Shape              Param #   \n",
            "=================================================================\n",
            " conv3d_12 (Conv3D)          (None, 30, 60, 60, 32)    2624      \n",
            "                                                                 \n",
            " activation_12 (Activation)  (None, 30, 60, 60, 32)    0         \n",
            "                                                                 \n",
            " conv3d_13 (Conv3D)          (None, 30, 60, 60, 32)    27680     \n",
            "                                                                 \n",
            " activation_13 (Activation)  (None, 30, 60, 60, 32)    0         \n",
            "                                                                 \n",
            " max_pooling3d_10 (MaxPoolin  (None, 10, 20, 20, 32)   0         \n",
            " g3D)                                                            \n",
            "                                                                 \n",
            " dropout_7 (Dropout)         (None, 10, 20, 20, 32)    0         \n",
            "                                                                 \n",
            " conv3d_14 (Conv3D)          (None, 10, 20, 20, 64)    55360     \n",
            "                                                                 \n",
            " activation_14 (Activation)  (None, 10, 20, 20, 64)    0         \n",
            "                                                                 \n",
            " conv3d_15 (Conv3D)          (None, 10, 20, 20, 64)    110656    \n",
            "                                                                 \n",
            " activation_15 (Activation)  (None, 10, 20, 20, 64)    0         \n",
            "                                                                 \n",
            " max_pooling3d_11 (MaxPoolin  (None, 4, 7, 7, 64)      0         \n",
            " g3D)                                                            \n",
            "                                                                 \n",
            " dropout_8 (Dropout)         (None, 4, 7, 7, 64)       0         \n",
            "                                                                 \n",
            " flatten_3 (Flatten)         (None, 12544)             0         \n",
            "                                                                 \n",
            " dense_8 (Dense)             (None, 512)               6423040   \n",
            "                                                                 \n",
            " dropout_9 (Dropout)         (None, 512)               0         \n",
            "                                                                 \n",
            " dense_9 (Dense)             (None, 5)                 2565      \n",
            "                                                                 \n",
            "=================================================================\n",
            "Total params: 6,621,925\n",
            "Trainable params: 6,621,925\n",
            "Non-trainable params: 0\n",
            "_________________________________________________________________\n"
          ]
        }
      ],
      "source": [
        "# Define model b\n",
        "model_b = Sequential()\n",
        "model_b.add(Conv3D(32, kernel_size=(3, 3, 3), input_shape=(x,y,z,channel), padding='same'))\n",
        "model_b.add(Activation('relu'))\n",
        "model_b.add(Conv3D(32, kernel_size=(3, 3, 3), padding='same'))\n",
        "model_b.add(Activation('relu'))\n",
        "model_b.add(MaxPooling3D(pool_size=(3, 3, 3), padding='same'))\n",
        "model_b.add(Dropout(0.25))\n",
        "\n",
        "model_b.add(Conv3D(64, kernel_size=(3, 3, 3), padding='same'))\n",
        "model_b.add(Activation('relu'))\n",
        "model_b.add(Conv3D(64, kernel_size=(3, 3, 3), padding='same'))  \n",
        "model_b.add(Activation('relu'))\n",
        "model_b.add(MaxPooling3D(pool_size=(3, 3, 3), padding='same'))\n",
        "model_b.add(Dropout(0.25))\n",
        "\n",
        "model_b.add(Flatten())\n",
        "model_b.add(Dense(512, activation='relu'))\n",
        "model_b.add(Dropout(0.5))\n",
        "model_b.add(Dense(classes, activation='softmax'))\n",
        "\n",
        "model_b.compile(optimizer=tf.keras.optimizers.Adam(), loss='categorical_crossentropy', metrics=['categorical_accuracy'])\n",
        "model_b.summary()"
      ]
    },
    {
      "cell_type": "code",
      "execution_count": null,
      "metadata": {
        "id": "RAWN9vzd_e4k"
      },
      "outputs": [],
      "source": [
        "train_generator = generator_ex(train_path, train_doc, batch_size)\n",
        "val_generator = generator_ex(val_path, val_doc, batch_size)"
      ]
    },
    {
      "cell_type": "code",
      "execution_count": null,
      "metadata": {
        "id": "l4dnb7aW_e4k",
        "colab": {
          "base_uri": "https://localhost:8080/"
        },
        "outputId": "0763e3bb-1471-4042-ff53-af96ac845899"
      },
      "outputs": [
        {
          "output_type": "stream",
          "name": "stdout",
          "text": [
            "Source path =  /content/Project_data/train ; batch size = 10\n",
            "Epoch 1/10\n",
            "65/67 [============================>.] - ETA: 7s - loss: 1.6383 - categorical_accuracy: 0.2338 Batch:  67 Index: 10\n",
            "67/67 [==============================] - ETA: 0s - loss: 1.6365 - categorical_accuracy: 0.2368Source path =  /content/Project_data/val ; batch size = 10\n",
            "\n",
            "Epoch 00001: saving model to model_init_2021-12-2910_13_59.732121/model-00001-1.63648-0.23680-1.53127-0.34000.h5\n",
            "67/67 [==============================] - 292s 4s/step - loss: 1.6365 - categorical_accuracy: 0.2368 - val_loss: 1.5313 - val_categorical_accuracy: 0.3400 - lr: 0.0010\n",
            "Epoch 2/10\n",
            "67/67 [==============================] - ETA: 0s - loss: 1.5672 - categorical_accuracy: 0.3035\n",
            "Epoch 00002: saving model to model_init_2021-12-2910_13_59.732121/model-00002-1.56725-0.30348-1.36998-0.41000.h5\n",
            "67/67 [==============================] - 120s 2s/step - loss: 1.5672 - categorical_accuracy: 0.3035 - val_loss: 1.3700 - val_categorical_accuracy: 0.4100 - lr: 0.0010\n",
            "Epoch 3/10\n",
            "67/67 [==============================] - ETA: 0s - loss: 1.4206 - categorical_accuracy: 0.4030\n",
            "Epoch 00003: saving model to model_init_2021-12-2910_13_59.732121/model-00003-1.42061-0.40299-1.33483-0.44000.h5\n",
            "67/67 [==============================] - 128s 2s/step - loss: 1.4206 - categorical_accuracy: 0.4030 - val_loss: 1.3348 - val_categorical_accuracy: 0.4400 - lr: 0.0010\n",
            "Epoch 4/10\n",
            "67/67 [==============================] - ETA: 0s - loss: 1.4236 - categorical_accuracy: 0.3881\n",
            "Epoch 00004: saving model to model_init_2021-12-2910_13_59.732121/model-00004-1.42357-0.38806-1.42597-0.50000.h5\n",
            "67/67 [==============================] - 122s 2s/step - loss: 1.4236 - categorical_accuracy: 0.3881 - val_loss: 1.4260 - val_categorical_accuracy: 0.5000 - lr: 0.0010\n",
            "Epoch 5/10\n",
            "67/67 [==============================] - ETA: 0s - loss: 1.2950 - categorical_accuracy: 0.4776\n",
            "Epoch 00005: saving model to model_init_2021-12-2910_13_59.732121/model-00005-1.29504-0.47761-1.50762-0.41000.h5\n",
            "\n",
            "Epoch 00005: ReduceLROnPlateau reducing learning rate to 0.0005000000237487257.\n",
            "67/67 [==============================] - 109s 2s/step - loss: 1.2950 - categorical_accuracy: 0.4776 - val_loss: 1.5076 - val_categorical_accuracy: 0.4100 - lr: 0.0010\n",
            "Epoch 6/10\n",
            "67/67 [==============================] - ETA: 0s - loss: 1.3625 - categorical_accuracy: 0.4279\n",
            "Epoch 00006: saving model to model_init_2021-12-2910_13_59.732121/model-00006-1.36255-0.42786-1.22874-0.47000.h5\n",
            "67/67 [==============================] - 123s 2s/step - loss: 1.3625 - categorical_accuracy: 0.4279 - val_loss: 1.2287 - val_categorical_accuracy: 0.4700 - lr: 5.0000e-04\n",
            "Epoch 7/10\n",
            "67/67 [==============================] - ETA: 0s - loss: 1.2138 - categorical_accuracy: 0.5124\n",
            "Epoch 00007: saving model to model_init_2021-12-2910_13_59.732121/model-00007-1.21378-0.51244-1.17270-0.60000.h5\n",
            "67/67 [==============================] - 116s 2s/step - loss: 1.2138 - categorical_accuracy: 0.5124 - val_loss: 1.1727 - val_categorical_accuracy: 0.6000 - lr: 5.0000e-04\n",
            "Epoch 8/10\n",
            "67/67 [==============================] - ETA: 0s - loss: 1.1701 - categorical_accuracy: 0.5274\n",
            "Epoch 00008: saving model to model_init_2021-12-2910_13_59.732121/model-00008-1.17005-0.52736-1.24040-0.52000.h5\n",
            "67/67 [==============================] - 117s 2s/step - loss: 1.1701 - categorical_accuracy: 0.5274 - val_loss: 1.2404 - val_categorical_accuracy: 0.5200 - lr: 5.0000e-04\n",
            "Epoch 9/10\n",
            "67/67 [==============================] - ETA: 0s - loss: 1.0479 - categorical_accuracy: 0.5622\n",
            "Epoch 00009: saving model to model_init_2021-12-2910_13_59.732121/model-00009-1.04792-0.56219-1.12890-0.63000.h5\n",
            "67/67 [==============================] - 126s 2s/step - loss: 1.0479 - categorical_accuracy: 0.5622 - val_loss: 1.1289 - val_categorical_accuracy: 0.6300 - lr: 5.0000e-04\n",
            "Epoch 10/10\n",
            "67/67 [==============================] - ETA: 0s - loss: 1.1200 - categorical_accuracy: 0.5473\n",
            "Epoch 00010: saving model to model_init_2021-12-2910_13_59.732121/model-00010-1.11997-0.54726-1.19308-0.57000.h5\n",
            "67/67 [==============================] - 115s 2s/step - loss: 1.1200 - categorical_accuracy: 0.5473 - val_loss: 1.1931 - val_categorical_accuracy: 0.5700 - lr: 5.0000e-04\n"
          ]
        },
        {
          "output_type": "execute_result",
          "data": {
            "text/plain": [
              "<keras.callbacks.History at 0x7f36c02c56d0>"
            ]
          },
          "metadata": {},
          "execution_count": 22
        }
      ],
      "source": [
        "model_b.fit_generator(train_generator, steps_per_epoch=steps_per_epoch, epochs=num_epochs, verbose=1, \n",
        "                    callbacks=callbacks_list, validation_data=val_generator, \n",
        "                    validation_steps=validation_steps, class_weight=None, workers=1, initial_epoch=0)"
      ]
    },
    {
      "cell_type": "markdown",
      "metadata": {
        "id": "VTo87l1H_e4l"
      },
      "source": [
        "### Changing Batch size  to 20 Experiment [ 2]\n"
      ]
    },
    {
      "cell_type": "code",
      "execution_count": null,
      "metadata": {
        "id": "C6z-2jr6_e4l"
      },
      "outputs": [],
      "source": [
        "train_generator = generator_ex(train_path, train_doc, 20)\n",
        "val_generator = generator_ex(val_path, val_doc, 20)"
      ]
    },
    {
      "cell_type": "code",
      "execution_count": null,
      "metadata": {
        "id": "O9vvDGz8_e4l",
        "colab": {
          "base_uri": "https://localhost:8080/"
        },
        "outputId": "e5a53f98-f864-4b46-ed5c-5d217786bee1"
      },
      "outputs": [
        {
          "output_type": "stream",
          "name": "stdout",
          "text": [
            "Source path =  /content/Project_data/train ; batch size = 20\n",
            "Epoch 1/10\n",
            "32/67 [=============>................] - ETA: 4:11 - loss: 0.9814 - categorical_accuracy: 0.6047Batch:  34 Index: 20\n",
            "67/67 [==============================] - ETA: 0s - loss: 0.9589 - categorical_accuracy: 0.6168Source path =  /content/Project_data/val ; batch size = 20\n",
            "\n",
            "Epoch 00001: saving model to model_init_2021-12-2910_13_59.732121/model-00001-0.95892-0.61680-1.14136-0.57000.h5\n",
            "67/67 [==============================] - 358s 5s/step - loss: 0.9589 - categorical_accuracy: 0.6168 - val_loss: 1.1414 - val_categorical_accuracy: 0.5700 - lr: 5.0000e-04\n",
            "Epoch 2/10\n",
            "67/67 [==============================] - ETA: 0s - loss: 1.1246 - categorical_accuracy: 0.5373\n",
            "Epoch 00002: saving model to model_init_2021-12-2910_13_59.732121/model-00002-1.12460-0.53731-1.11825-0.56500.h5\n",
            "67/67 [==============================] - 165s 2s/step - loss: 1.1246 - categorical_accuracy: 0.5373 - val_loss: 1.1182 - val_categorical_accuracy: 0.5650 - lr: 5.0000e-04\n",
            "Epoch 3/10\n",
            "67/67 [==============================] - ETA: 0s - loss: 0.9623 - categorical_accuracy: 0.6368\n",
            "Epoch 00003: saving model to model_init_2021-12-2910_13_59.732121/model-00003-0.96227-0.63682-1.09510-0.58000.h5\n",
            "67/67 [==============================] - 161s 2s/step - loss: 0.9623 - categorical_accuracy: 0.6368 - val_loss: 1.0951 - val_categorical_accuracy: 0.5800 - lr: 5.0000e-04\n",
            "Epoch 4/10\n",
            "67/67 [==============================] - ETA: 0s - loss: 0.9536 - categorical_accuracy: 0.5970\n",
            "Epoch 00004: saving model to model_init_2021-12-2910_13_59.732121/model-00004-0.95357-0.59701-1.00225-0.62500.h5\n",
            "67/67 [==============================] - 168s 3s/step - loss: 0.9536 - categorical_accuracy: 0.5970 - val_loss: 1.0023 - val_categorical_accuracy: 0.6250 - lr: 5.0000e-04\n",
            "Epoch 5/10\n",
            "67/67 [==============================] - ETA: 0s - loss: 0.8697 - categorical_accuracy: 0.6816\n",
            "Epoch 00005: saving model to model_init_2021-12-2910_13_59.732121/model-00005-0.86968-0.68159-1.05852-0.60500.h5\n",
            "67/67 [==============================] - 156s 2s/step - loss: 0.8697 - categorical_accuracy: 0.6816 - val_loss: 1.0585 - val_categorical_accuracy: 0.6050 - lr: 5.0000e-04\n",
            "Epoch 6/10\n",
            "67/67 [==============================] - ETA: 0s - loss: 0.7503 - categorical_accuracy: 0.7114\n",
            "Epoch 00006: saving model to model_init_2021-12-2910_13_59.732121/model-00006-0.75028-0.71144-1.05226-0.64000.h5\n",
            "\n",
            "Epoch 00006: ReduceLROnPlateau reducing learning rate to 0.0002500000118743628.\n",
            "67/67 [==============================] - 162s 2s/step - loss: 0.7503 - categorical_accuracy: 0.7114 - val_loss: 1.0523 - val_categorical_accuracy: 0.6400 - lr: 5.0000e-04\n",
            "Epoch 7/10\n",
            "67/67 [==============================] - ETA: 0s - loss: 0.8564 - categorical_accuracy: 0.6816\n",
            "Epoch 00007: saving model to model_init_2021-12-2910_13_59.732121/model-00007-0.85641-0.68159-1.04653-0.63000.h5\n",
            "67/67 [==============================] - 168s 3s/step - loss: 0.8564 - categorical_accuracy: 0.6816 - val_loss: 1.0465 - val_categorical_accuracy: 0.6300 - lr: 2.5000e-04\n",
            "Epoch 8/10\n",
            "67/67 [==============================] - ETA: 0s - loss: 0.6029 - categorical_accuracy: 0.7861\n",
            "Epoch 00008: saving model to model_init_2021-12-2910_13_59.732121/model-00008-0.60290-0.78607-1.22659-0.66500.h5\n",
            "\n",
            "Epoch 00008: ReduceLROnPlateau reducing learning rate to 0.0001250000059371814.\n",
            "67/67 [==============================] - 170s 3s/step - loss: 0.6029 - categorical_accuracy: 0.7861 - val_loss: 1.2266 - val_categorical_accuracy: 0.6650 - lr: 2.5000e-04\n",
            "Epoch 9/10\n",
            "67/67 [==============================] - ETA: 0s - loss: 0.5883 - categorical_accuracy: 0.7512\n",
            "Epoch 00009: saving model to model_init_2021-12-2910_13_59.732121/model-00009-0.58832-0.75124-1.06016-0.65000.h5\n",
            "67/67 [==============================] - 158s 2s/step - loss: 0.5883 - categorical_accuracy: 0.7512 - val_loss: 1.0602 - val_categorical_accuracy: 0.6500 - lr: 1.2500e-04\n",
            "Epoch 10/10\n",
            "67/67 [==============================] - ETA: 0s - loss: 0.4637 - categorical_accuracy: 0.8259\n",
            "Epoch 00010: saving model to model_init_2021-12-2910_13_59.732121/model-00010-0.46367-0.82587-1.16009-0.69000.h5\n",
            "\n",
            "Epoch 00010: ReduceLROnPlateau reducing learning rate to 6.25000029685907e-05.\n",
            "67/67 [==============================] - 161s 2s/step - loss: 0.4637 - categorical_accuracy: 0.8259 - val_loss: 1.1601 - val_categorical_accuracy: 0.6900 - lr: 1.2500e-04\n"
          ]
        },
        {
          "output_type": "execute_result",
          "data": {
            "text/plain": [
              "<keras.callbacks.History at 0x7f35d47ea950>"
            ]
          },
          "metadata": {},
          "execution_count": 24
        }
      ],
      "source": [
        "model_b.fit_generator(train_generator, steps_per_epoch=steps_per_epoch, epochs=num_epochs, verbose=1, \n",
        "                    callbacks=callbacks_list, validation_data=val_generator, \n",
        "                    validation_steps=validation_steps, class_weight=None, workers=1, initial_epoch=0)"
      ]
    },
    {
      "cell_type": "markdown",
      "metadata": {
        "id": "A4cuFLJA_e4l"
      },
      "source": [
        "### Changing Batch size  to 30 Experiment [ 3]\n"
      ]
    },
    {
      "cell_type": "code",
      "execution_count": null,
      "metadata": {
        "id": "YS7i2Vqa_e4l"
      },
      "outputs": [],
      "source": [
        "train_generator = generator_ex(train_path, train_doc, 30)\n",
        "val_generator = generator_ex(val_path, val_doc, 30)"
      ]
    },
    {
      "cell_type": "code",
      "execution_count": null,
      "metadata": {
        "id": "4lxgAeno_e4l",
        "colab": {
          "base_uri": "https://localhost:8080/"
        },
        "outputId": "ae6bf354-be84-41ee-9c85-b0329ac052d2"
      },
      "outputs": [
        {
          "output_type": "stream",
          "name": "stdout",
          "text": [
            "Source path =  /content/Project_data/train ; batch size = 30\n",
            "Epoch 1/10\n",
            "21/67 [========>.....................] - ETA: 8:01 - loss: 0.4840 - categorical_accuracy: 0.8159Batch:  23 Index: 30\n",
            "67/67 [==============================] - ETA: 0s - loss: 0.4682 - categorical_accuracy: 0.8201Source path =  /content/Project_data/val ; batch size = 30\n",
            "Batch:  4 Index: 30\n",
            "\n",
            "Epoch 00001: saving model to model_init_2021-12-2910_13_59.732121/model-00001-0.46819-0.82013-1.13353-0.68750.h5\n",
            "67/67 [==============================] - 344s 5s/step - loss: 0.4682 - categorical_accuracy: 0.8201 - val_loss: 1.1335 - val_categorical_accuracy: 0.6875 - lr: 6.2500e-05\n",
            "Epoch 2/10\n",
            "67/67 [==============================] - ETA: 0s - loss: 0.4673 - categorical_accuracy: 0.8209\n",
            "Epoch 00002: saving model to model_init_2021-12-2910_13_59.732121/model-00002-0.46729-0.82090-1.11419-0.68000.h5\n",
            "67/67 [==============================] - 113s 2s/step - loss: 0.4673 - categorical_accuracy: 0.8209 - val_loss: 1.1142 - val_categorical_accuracy: 0.6800 - lr: 6.2500e-05\n",
            "Epoch 3/10\n",
            "67/67 [==============================] - ETA: 0s - loss: 0.4819 - categorical_accuracy: 0.8408\n",
            "Epoch 00003: saving model to model_init_2021-12-2910_13_59.732121/model-00003-0.48187-0.84080-1.09709-0.69000.h5\n",
            "67/67 [==============================] - 118s 2s/step - loss: 0.4819 - categorical_accuracy: 0.8408 - val_loss: 1.0971 - val_categorical_accuracy: 0.6900 - lr: 6.2500e-05\n",
            "Epoch 4/10\n",
            "67/67 [==============================] - ETA: 0s - loss: 0.3572 - categorical_accuracy: 0.8706\n",
            "Epoch 00004: saving model to model_init_2021-12-2910_13_59.732121/model-00004-0.35723-0.87065-1.21573-0.66000.h5\n",
            "67/67 [==============================] - 120s 2s/step - loss: 0.3572 - categorical_accuracy: 0.8706 - val_loss: 1.2157 - val_categorical_accuracy: 0.6600 - lr: 6.2500e-05\n",
            "Epoch 5/10\n",
            "67/67 [==============================] - ETA: 0s - loss: 0.3399 - categorical_accuracy: 0.9005\n",
            "Epoch 00005: saving model to model_init_2021-12-2910_13_59.732121/model-00005-0.33995-0.90050-1.15558-0.68000.h5\n",
            "\n",
            "Epoch 00005: ReduceLROnPlateau reducing learning rate to 3.125000148429535e-05.\n",
            "67/67 [==============================] - 112s 2s/step - loss: 0.3399 - categorical_accuracy: 0.9005 - val_loss: 1.1556 - val_categorical_accuracy: 0.6800 - lr: 6.2500e-05\n",
            "Epoch 6/10\n",
            "67/67 [==============================] - ETA: 0s - loss: 0.4006 - categorical_accuracy: 0.8557\n",
            "Epoch 00006: saving model to model_init_2021-12-2910_13_59.732121/model-00006-0.40062-0.85572-1.17370-0.69000.h5\n",
            "67/67 [==============================] - 122s 2s/step - loss: 0.4006 - categorical_accuracy: 0.8557 - val_loss: 1.1737 - val_categorical_accuracy: 0.6900 - lr: 3.1250e-05\n",
            "Epoch 7/10\n",
            "67/67 [==============================] - ETA: 0s - loss: 0.4809 - categorical_accuracy: 0.8408\n",
            "Epoch 00007: saving model to model_init_2021-12-2910_13_59.732121/model-00007-0.48093-0.84080-1.29352-0.64000.h5\n",
            "\n",
            "Epoch 00007: ReduceLROnPlateau reducing learning rate to 1.5625000742147677e-05.\n",
            "67/67 [==============================] - 121s 2s/step - loss: 0.4809 - categorical_accuracy: 0.8408 - val_loss: 1.2935 - val_categorical_accuracy: 0.6400 - lr: 3.1250e-05\n",
            "Epoch 8/10\n",
            "67/67 [==============================] - ETA: 0s - loss: 0.4054 - categorical_accuracy: 0.8458\n",
            "Epoch 00008: saving model to model_init_2021-12-2910_13_59.732121/model-00008-0.40539-0.84577-0.97067-0.74000.h5\n",
            "67/67 [==============================] - 115s 2s/step - loss: 0.4054 - categorical_accuracy: 0.8458 - val_loss: 0.9707 - val_categorical_accuracy: 0.7400 - lr: 1.5625e-05\n",
            "Epoch 9/10\n",
            "67/67 [==============================] - ETA: 0s - loss: 0.3697 - categorical_accuracy: 0.8706\n",
            "Epoch 00009: saving model to model_init_2021-12-2910_13_59.732121/model-00009-0.36969-0.87065-1.26669-0.63000.h5\n",
            "67/67 [==============================] - 120s 2s/step - loss: 0.3697 - categorical_accuracy: 0.8706 - val_loss: 1.2667 - val_categorical_accuracy: 0.6300 - lr: 1.5625e-05\n",
            "Epoch 10/10\n",
            "67/67 [==============================] - ETA: 0s - loss: 0.3307 - categorical_accuracy: 0.8856\n",
            "Epoch 00010: saving model to model_init_2021-12-2910_13_59.732121/model-00010-0.33074-0.88557-1.33250-0.64000.h5\n",
            "\n",
            "Epoch 00010: ReduceLROnPlateau reducing learning rate to 7.812500371073838e-06.\n",
            "67/67 [==============================] - 119s 2s/step - loss: 0.3307 - categorical_accuracy: 0.8856 - val_loss: 1.3325 - val_categorical_accuracy: 0.6400 - lr: 1.5625e-05\n"
          ]
        },
        {
          "output_type": "execute_result",
          "data": {
            "text/plain": [
              "<keras.callbacks.History at 0x7f35d47ef790>"
            ]
          },
          "metadata": {},
          "execution_count": 26
        }
      ],
      "source": [
        "model_b.fit_generator(train_generator, steps_per_epoch=steps_per_epoch, epochs=num_epochs, verbose=1, \n",
        "                    callbacks=callbacks_list, validation_data=val_generator, \n",
        "                    validation_steps=validation_steps, class_weight=None, workers=1, initial_epoch=0)"
      ]
    },
    {
      "cell_type": "markdown",
      "metadata": {
        "id": "tWYDK9mL_e4m"
      },
      "source": [
        "### Changing Batch size  to 40 Experiment [ 4]\n"
      ]
    },
    {
      "cell_type": "code",
      "execution_count": null,
      "metadata": {
        "id": "Kd4bP_yD_e4m"
      },
      "outputs": [],
      "source": [
        "train_generator = generator_ex(train_path, train_doc, 40)\n",
        "val_generator = generator_ex(val_path, val_doc, 40)"
      ]
    },
    {
      "cell_type": "code",
      "execution_count": null,
      "metadata": {
        "id": "UIs-k2bI_e4m",
        "colab": {
          "base_uri": "https://localhost:8080/"
        },
        "outputId": "f090908f-4cda-49eb-9abe-94a1195a1407"
      },
      "outputs": [
        {
          "output_type": "stream",
          "name": "stdout",
          "text": [
            "Source path =  /content/Project_data/train ; batch size = 40\n",
            "Epoch 1/10\n",
            "15/67 [=====>........................] - ETA: 12:25 - loss: 0.3607 - categorical_accuracy: 0.8733Batch:  17 Index: 40\n",
            "44/67 [==================>...........] - ETA: 3:56 - loss: 0.3589 - categorical_accuracy: 0.8684Batch:  29 Index: 23\n",
            "67/67 [==============================] - ETA: 0s - loss: 0.3565 - categorical_accuracy: 0.8655Source path =  /content/Project_data/val ; batch size = 40\n",
            "Batch:  3 Index: 40\n",
            "\n",
            "Epoch 00001: saving model to model_init_2021-12-2910_13_59.732121/model-00001-0.35651-0.86551-1.13510-0.69583.h5\n",
            "67/67 [==============================] - 726s 11s/step - loss: 0.3565 - categorical_accuracy: 0.8655 - val_loss: 1.1351 - val_categorical_accuracy: 0.6958 - lr: 7.8125e-06\n",
            "Epoch 2/10\n",
            "12/67 [====>.........................] - ETA: 5:54 - loss: 0.3541 - categorical_accuracy: 0.8772Batch:  35 Index: 19\n",
            "67/67 [==============================] - ETA: 0s - loss: 0.3709 - categorical_accuracy: 0.8652\n",
            "Epoch 00002: saving model to model_init_2021-12-2910_13_59.732121/model-00002-0.37087-0.86524-1.13143-0.69500.h5\n",
            "67/67 [==============================] - 503s 8s/step - loss: 0.3709 - categorical_accuracy: 0.8652 - val_loss: 1.1314 - val_categorical_accuracy: 0.6950 - lr: 7.8125e-06\n",
            "Epoch 3/10\n",
            "67/67 [==============================] - ETA: 0s - loss: 0.3819 - categorical_accuracy: 0.8692\n",
            "Epoch 00003: saving model to model_init_2021-12-2910_13_59.732121/model-00003-0.38191-0.86918-1.16928-0.69500.h5\n",
            "67/67 [==============================] - 491s 7s/step - loss: 0.3819 - categorical_accuracy: 0.8692 - val_loss: 1.1693 - val_categorical_accuracy: 0.6950 - lr: 7.8125e-06\n",
            "Epoch 4/10\n",
            "67/67 [==============================] - ETA: 0s - loss: 0.3702 - categorical_accuracy: 0.8683\n",
            "Epoch 00004: saving model to model_init_2021-12-2910_13_59.732121/model-00004-0.37022-0.86831-1.15441-0.70000.h5\n",
            "\n",
            "Epoch 00004: ReduceLROnPlateau reducing learning rate to 3.906250185536919e-06.\n",
            "67/67 [==============================] - 490s 7s/step - loss: 0.3702 - categorical_accuracy: 0.8683 - val_loss: 1.1544 - val_categorical_accuracy: 0.7000 - lr: 7.8125e-06\n",
            "Epoch 5/10\n",
            "67/67 [==============================] - ETA: 0s - loss: 0.3674 - categorical_accuracy: 0.8648\n",
            "Epoch 00005: saving model to model_init_2021-12-2910_13_59.732121/model-00005-0.36736-0.86479-1.12268-0.71000.h5\n",
            "67/67 [==============================] - 499s 8s/step - loss: 0.3674 - categorical_accuracy: 0.8648 - val_loss: 1.1227 - val_categorical_accuracy: 0.7100 - lr: 3.9063e-06\n",
            "Epoch 6/10\n",
            "67/67 [==============================] - ETA: 0s - loss: 0.3655 - categorical_accuracy: 0.8709\n",
            "Epoch 00006: saving model to model_init_2021-12-2910_13_59.732121/model-00006-0.36550-0.87094-1.04801-0.70500.h5\n",
            "67/67 [==============================] - 493s 7s/step - loss: 0.3655 - categorical_accuracy: 0.8709 - val_loss: 1.0480 - val_categorical_accuracy: 0.7050 - lr: 3.9063e-06\n",
            "Epoch 7/10\n",
            "67/67 [==============================] - ETA: 0s - loss: 0.3329 - categorical_accuracy: 0.8885\n",
            "Epoch 00007: saving model to model_init_2021-12-2910_13_59.732121/model-00007-0.33294-0.88850-1.20810-0.67500.h5\n",
            "67/67 [==============================] - 497s 8s/step - loss: 0.3329 - categorical_accuracy: 0.8885 - val_loss: 1.2081 - val_categorical_accuracy: 0.6750 - lr: 3.9063e-06\n",
            "Epoch 8/10\n",
            "67/67 [==============================] - ETA: 0s - loss: 0.3460 - categorical_accuracy: 0.8903\n",
            "Epoch 00008: saving model to model_init_2021-12-2910_13_59.732121/model-00008-0.34605-0.89025-1.20836-0.68500.h5\n",
            "\n",
            "Epoch 00008: ReduceLROnPlateau reducing learning rate to 1.9531250927684596e-06.\n",
            "67/67 [==============================] - 500s 8s/step - loss: 0.3460 - categorical_accuracy: 0.8903 - val_loss: 1.2084 - val_categorical_accuracy: 0.6850 - lr: 3.9063e-06\n",
            "Epoch 9/10\n",
            "67/67 [==============================] - ETA: 0s - loss: 0.3595 - categorical_accuracy: 0.8657\n",
            "Epoch 00009: saving model to model_init_2021-12-2910_13_59.732121/model-00009-0.35948-0.86567-1.16010-0.70000.h5\n",
            "67/67 [==============================] - 511s 8s/step - loss: 0.3595 - categorical_accuracy: 0.8657 - val_loss: 1.1601 - val_categorical_accuracy: 0.7000 - lr: 1.9531e-06\n",
            "Epoch 10/10\n",
            "67/67 [==============================] - ETA: 0s - loss: 0.3648 - categorical_accuracy: 0.8674\n",
            "Epoch 00010: saving model to model_init_2021-12-2910_13_59.732121/model-00010-0.36484-0.86743-1.03310-0.72000.h5\n",
            "67/67 [==============================] - 499s 8s/step - loss: 0.3648 - categorical_accuracy: 0.8674 - val_loss: 1.0331 - val_categorical_accuracy: 0.7200 - lr: 1.9531e-06\n"
          ]
        },
        {
          "output_type": "execute_result",
          "data": {
            "text/plain": [
              "<keras.callbacks.History at 0x7f35d4514090>"
            ]
          },
          "metadata": {},
          "execution_count": 28
        }
      ],
      "source": [
        "model_b.fit_generator(train_generator, steps_per_epoch=steps_per_epoch, epochs=num_epochs, verbose=1, \n",
        "                    callbacks=callbacks_list, validation_data=val_generator, \n",
        "                    validation_steps=validation_steps, class_weight=None, workers=1, initial_epoch=0)"
      ]
    },
    {
      "cell_type": "markdown",
      "metadata": {
        "id": "uYtZGQUd_e4m"
      },
      "source": [
        "### Change Optimizer to Adadelta Experiment [5]"
      ]
    },
    {
      "cell_type": "code",
      "execution_count": null,
      "metadata": {
        "id": "tw9Q2mzT_e4n",
        "colab": {
          "base_uri": "https://localhost:8080/"
        },
        "outputId": "7f3b6fd3-baa4-498b-ef54-1f23dde9a744"
      },
      "outputs": [
        {
          "output_type": "stream",
          "name": "stdout",
          "text": [
            "Model: \"sequential_2\"\n",
            "_________________________________________________________________\n",
            " Layer (type)                Output Shape              Param #   \n",
            "=================================================================\n",
            " conv3d_8 (Conv3D)           (None, 30, 60, 60, 32)    2624      \n",
            "                                                                 \n",
            " activation_8 (Activation)   (None, 30, 60, 60, 32)    0         \n",
            "                                                                 \n",
            " conv3d_9 (Conv3D)           (None, 30, 60, 60, 32)    27680     \n",
            "                                                                 \n",
            " activation_9 (Activation)   (None, 30, 60, 60, 32)    0         \n",
            "                                                                 \n",
            " max_pooling3d_6 (MaxPooling  (None, 10, 20, 20, 32)   0         \n",
            " 3D)                                                             \n",
            "                                                                 \n",
            " dropout_5 (Dropout)         (None, 10, 20, 20, 32)    0         \n",
            "                                                                 \n",
            " conv3d_10 (Conv3D)          (None, 10, 20, 20, 64)    55360     \n",
            "                                                                 \n",
            " activation_10 (Activation)  (None, 10, 20, 20, 64)    0         \n",
            "                                                                 \n",
            " conv3d_11 (Conv3D)          (None, 10, 20, 20, 64)    110656    \n",
            "                                                                 \n",
            " activation_11 (Activation)  (None, 10, 20, 20, 64)    0         \n",
            "                                                                 \n",
            " max_pooling3d_7 (MaxPooling  (None, 4, 7, 7, 64)      0         \n",
            " 3D)                                                             \n",
            "                                                                 \n",
            " dropout_6 (Dropout)         (None, 4, 7, 7, 64)       0         \n",
            "                                                                 \n",
            " flatten_2 (Flatten)         (None, 12544)             0         \n",
            "                                                                 \n",
            " dense_5 (Dense)             (None, 512)               6423040   \n",
            "                                                                 \n",
            " dropout_7 (Dropout)         (None, 512)               0         \n",
            "                                                                 \n",
            " dense_6 (Dense)             (None, 5)                 2565      \n",
            "                                                                 \n",
            "=================================================================\n",
            "Total params: 6,621,925\n",
            "Trainable params: 6,621,925\n",
            "Non-trainable params: 0\n",
            "_________________________________________________________________\n"
          ]
        }
      ],
      "source": [
        "model_b.compile(optimizer=tf.keras.optimizers.Adadelta(), loss='categorical_crossentropy', metrics=['categorical_accuracy'])\n",
        "model_b.summary()"
      ]
    },
    {
      "cell_type": "code",
      "execution_count": null,
      "metadata": {
        "id": "h9_tncsP_e4n"
      },
      "outputs": [],
      "source": [
        "train_generator = generator_ex(train_path, train_doc, 40)\n",
        "val_generator = generator_ex(val_path, val_doc, 40)"
      ]
    },
    {
      "cell_type": "code",
      "execution_count": null,
      "metadata": {
        "id": "xHbuFT8n_e4n",
        "colab": {
          "base_uri": "https://localhost:8080/"
        },
        "outputId": "678576a5-cec4-4ec1-cc8e-d4bf9cc8f5b4"
      },
      "outputs": [
        {
          "output_type": "stream",
          "name": "stdout",
          "text": [
            "Source path =  /content/Project_data/train ; batch size = 40\n",
            "Epoch 1/10\n",
            "15/67 [=====>........................] - ETA: 13:29 - loss: 0.3269 - categorical_accuracy: 0.8817Batch:  17 Index: 40\n",
            "44/67 [==================>...........] - ETA: 4:09 - loss: 0.3307 - categorical_accuracy: 0.8785Batch:  29 Index: 23\n",
            "67/67 [==============================] - ETA: 0s - loss: 0.3430 - categorical_accuracy: 0.8759Source path =  /content/Project_data/val ; batch size = 40\n",
            "Batch:  3 Index: 40\n",
            "\n",
            "Epoch 00001: saving model to model_init_2021-12-2910_13_59.732121/model-00001-0.34299-0.87594-1.07855-0.71667.h5\n",
            "67/67 [==============================] - 741s 11s/step - loss: 0.3430 - categorical_accuracy: 0.8759 - val_loss: 1.0785 - val_categorical_accuracy: 0.7167 - lr: 0.0010\n",
            "Epoch 2/10\n",
            "12/67 [====>.........................] - ETA: 6:26 - loss: 0.3147 - categorical_accuracy: 0.8991Batch:  35 Index: 19\n",
            "67/67 [==============================] - ETA: 0s - loss: 0.3435 - categorical_accuracy: 0.8773\n",
            "Epoch 00002: saving model to model_init_2021-12-2910_13_59.732121/model-00002-0.34352-0.87725-1.13587-0.71000.h5\n",
            "67/67 [==============================] - 520s 8s/step - loss: 0.3435 - categorical_accuracy: 0.8773 - val_loss: 1.1359 - val_categorical_accuracy: 0.7100 - lr: 0.0010\n",
            "Epoch 3/10\n",
            "67/67 [==============================] - ETA: 0s - loss: 0.3424 - categorical_accuracy: 0.8771\n",
            "Epoch 00003: saving model to model_init_2021-12-2910_13_59.732121/model-00003-0.34240-0.87709-1.17648-0.69500.h5\n",
            "\n",
            "Epoch 00003: ReduceLROnPlateau reducing learning rate to 0.0005000000237487257.\n",
            "67/67 [==============================] - 511s 8s/step - loss: 0.3424 - categorical_accuracy: 0.8771 - val_loss: 1.1765 - val_categorical_accuracy: 0.6950 - lr: 0.0010\n",
            "Epoch 4/10\n",
            "67/67 [==============================] - ETA: 0s - loss: 0.3545 - categorical_accuracy: 0.8657\n",
            "Epoch 00004: saving model to model_init_2021-12-2910_13_59.732121/model-00004-0.35451-0.86567-1.16362-0.70000.h5\n",
            "67/67 [==============================] - 503s 8s/step - loss: 0.3545 - categorical_accuracy: 0.8657 - val_loss: 1.1636 - val_categorical_accuracy: 0.7000 - lr: 5.0000e-04\n",
            "Epoch 5/10\n",
            "67/67 [==============================] - ETA: 0s - loss: 0.3405 - categorical_accuracy: 0.8771\n",
            "Epoch 00005: saving model to model_init_2021-12-2910_13_59.732121/model-00005-0.34052-0.87709-1.18632-0.68500.h5\n",
            "\n",
            "Epoch 00005: ReduceLROnPlateau reducing learning rate to 0.0002500000118743628.\n",
            "67/67 [==============================] - 513s 8s/step - loss: 0.3405 - categorical_accuracy: 0.8771 - val_loss: 1.1863 - val_categorical_accuracy: 0.6850 - lr: 5.0000e-04\n",
            "Epoch 6/10\n",
            "67/67 [==============================] - ETA: 0s - loss: 0.3541 - categorical_accuracy: 0.8692\n",
            "Epoch 00006: saving model to model_init_2021-12-2910_13_59.732121/model-00006-0.35410-0.86918-1.07376-0.70000.h5\n",
            "67/67 [==============================] - 514s 8s/step - loss: 0.3541 - categorical_accuracy: 0.8692 - val_loss: 1.0738 - val_categorical_accuracy: 0.7000 - lr: 2.5000e-04\n",
            "Epoch 7/10\n",
            "67/67 [==============================] - ETA: 0s - loss: 0.3455 - categorical_accuracy: 0.8867\n",
            "Epoch 00007: saving model to model_init_2021-12-2910_13_59.732121/model-00007-0.34554-0.88674-1.25666-0.69000.h5\n",
            "67/67 [==============================] - 510s 8s/step - loss: 0.3455 - categorical_accuracy: 0.8867 - val_loss: 1.2567 - val_categorical_accuracy: 0.6900 - lr: 2.5000e-04\n",
            "Epoch 8/10\n",
            "67/67 [==============================] - ETA: 0s - loss: 0.3387 - categorical_accuracy: 0.8832\n",
            "Epoch 00008: saving model to model_init_2021-12-2910_13_59.732121/model-00008-0.33871-0.88323-1.23921-0.68500.h5\n",
            "\n",
            "Epoch 00008: ReduceLROnPlateau reducing learning rate to 0.0001250000059371814.\n",
            "67/67 [==============================] - 515s 8s/step - loss: 0.3387 - categorical_accuracy: 0.8832 - val_loss: 1.2392 - val_categorical_accuracy: 0.6850 - lr: 2.5000e-04\n",
            "Epoch 9/10\n",
            "67/67 [==============================] - ETA: 0s - loss: 0.3428 - categorical_accuracy: 0.8824\n",
            "Epoch 00009: saving model to model_init_2021-12-2910_13_59.732121/model-00009-0.34278-0.88235-1.16443-0.70000.h5\n",
            "67/67 [==============================] - 513s 8s/step - loss: 0.3428 - categorical_accuracy: 0.8824 - val_loss: 1.1644 - val_categorical_accuracy: 0.7000 - lr: 1.2500e-04\n",
            "Epoch 10/10\n",
            "67/67 [==============================] - ETA: 0s - loss: 0.3450 - categorical_accuracy: 0.8674\n",
            "Epoch 00010: saving model to model_init_2021-12-2910_13_59.732121/model-00010-0.34496-0.86743-1.14350-0.70500.h5\n",
            "\n",
            "Epoch 00010: ReduceLROnPlateau reducing learning rate to 6.25000029685907e-05.\n",
            "67/67 [==============================] - 515s 8s/step - loss: 0.3450 - categorical_accuracy: 0.8674 - val_loss: 1.1435 - val_categorical_accuracy: 0.7050 - lr: 1.2500e-04\n"
          ]
        },
        {
          "output_type": "execute_result",
          "data": {
            "text/plain": [
              "<keras.callbacks.History at 0x7f35d0a34910>"
            ]
          },
          "metadata": {},
          "execution_count": 32
        }
      ],
      "source": [
        "model_b.fit_generator(train_generator, steps_per_epoch=steps_per_epoch, epochs=num_epochs, verbose=1, \n",
        "                    callbacks=callbacks_list, validation_data=val_generator, \n",
        "                    validation_steps=validation_steps, class_weight=None, workers=1, initial_epoch=0)"
      ]
    },
    {
      "cell_type": "markdown",
      "metadata": {
        "id": "VY6hYomj_e4n"
      },
      "source": [
        "### Change epoch to 20 Experiment [6]"
      ]
    },
    {
      "cell_type": "code",
      "execution_count": null,
      "metadata": {
        "id": "1mwBzx9C_e4n",
        "colab": {
          "base_uri": "https://localhost:8080/"
        },
        "outputId": "5d9730ac-d267-45cf-f872-aa896c4702d7"
      },
      "outputs": [
        {
          "output_type": "stream",
          "name": "stdout",
          "text": [
            "# epochs = 20\n"
          ]
        }
      ],
      "source": [
        "num_epochs = 20 # choose the number of epochs\n",
        "print ('# epochs =', num_epochs)"
      ]
    },
    {
      "cell_type": "code",
      "execution_count": null,
      "metadata": {
        "id": "54Hk1XeF_e4o",
        "colab": {
          "base_uri": "https://localhost:8080/"
        },
        "outputId": "bc13b6a2-3c93-49a1-db47-abfe2d82c0ee"
      },
      "outputs": [
        {
          "output_type": "stream",
          "name": "stdout",
          "text": [
            "Model: \"sequential_3\"\n",
            "_________________________________________________________________\n",
            " Layer (type)                Output Shape              Param #   \n",
            "=================================================================\n",
            " conv3d_12 (Conv3D)          (None, 30, 60, 60, 32)    2624      \n",
            "                                                                 \n",
            " activation_12 (Activation)  (None, 30, 60, 60, 32)    0         \n",
            "                                                                 \n",
            " conv3d_13 (Conv3D)          (None, 30, 60, 60, 32)    27680     \n",
            "                                                                 \n",
            " activation_13 (Activation)  (None, 30, 60, 60, 32)    0         \n",
            "                                                                 \n",
            " max_pooling3d_10 (MaxPoolin  (None, 10, 20, 20, 32)   0         \n",
            " g3D)                                                            \n",
            "                                                                 \n",
            " dropout_7 (Dropout)         (None, 10, 20, 20, 32)    0         \n",
            "                                                                 \n",
            " conv3d_14 (Conv3D)          (None, 10, 20, 20, 64)    55360     \n",
            "                                                                 \n",
            " activation_14 (Activation)  (None, 10, 20, 20, 64)    0         \n",
            "                                                                 \n",
            " conv3d_15 (Conv3D)          (None, 10, 20, 20, 64)    110656    \n",
            "                                                                 \n",
            " activation_15 (Activation)  (None, 10, 20, 20, 64)    0         \n",
            "                                                                 \n",
            " max_pooling3d_11 (MaxPoolin  (None, 4, 7, 7, 64)      0         \n",
            " g3D)                                                            \n",
            "                                                                 \n",
            " dropout_8 (Dropout)         (None, 4, 7, 7, 64)       0         \n",
            "                                                                 \n",
            " flatten_3 (Flatten)         (None, 12544)             0         \n",
            "                                                                 \n",
            " dense_8 (Dense)             (None, 512)               6423040   \n",
            "                                                                 \n",
            " dropout_9 (Dropout)         (None, 512)               0         \n",
            "                                                                 \n",
            " dense_9 (Dense)             (None, 5)                 2565      \n",
            "                                                                 \n",
            "=================================================================\n",
            "Total params: 6,621,925\n",
            "Trainable params: 6,621,925\n",
            "Non-trainable params: 0\n",
            "_________________________________________________________________\n"
          ]
        }
      ],
      "source": [
        "import keras\n",
        "model_b.compile(optimizer=tf.keras.optimizers.Adadelta(), loss='categorical_crossentropy', metrics=['categorical_accuracy'])\n",
        "model_b.summary()"
      ]
    },
    {
      "cell_type": "code",
      "execution_count": null,
      "metadata": {
        "id": "g7FeIdrI_e4o"
      },
      "outputs": [],
      "source": [
        "train_generator = generator_ex(train_path, train_doc, 40)\n",
        "val_generator = generator_ex(val_path, val_doc, 40)"
      ]
    },
    {
      "cell_type": "code",
      "execution_count": null,
      "metadata": {
        "id": "_qXfc5l4_e4o",
        "colab": {
          "base_uri": "https://localhost:8080/"
        },
        "outputId": "64248b17-e9b7-4fe7-c9ba-83a872bdb160"
      },
      "outputs": [
        {
          "output_type": "stream",
          "name": "stdout",
          "text": [
            "Source path =  /content/Project_data/train ; batch size = 40\n",
            "Epoch 1/20\n",
            "15/67 [=====>........................] - ETA: 11:58 - loss: 1.6224 - categorical_accuracy: 0.2117Batch:  17 Index: 40\n",
            "44/67 [==================>...........] - ETA: 3:56 - loss: 1.6228 - categorical_accuracy: 0.2056Batch:  29 Index: 23\n",
            "67/67 [==============================] - ETA: 0s - loss: 1.6223 - categorical_accuracy: 0.2035Source path =  /content/Project_data/val ; batch size = 40\n",
            "Batch:  3 Index: 40\n",
            "\n",
            "Epoch 00001: saving model to model_init_2022-01-0420_33_47.813370/model-00001-1.62229-0.20348-1.60949-0.25000.h5\n",
            "67/67 [==============================] - 727s 11s/step - loss: 1.6223 - categorical_accuracy: 0.2035 - val_loss: 1.6095 - val_categorical_accuracy: 0.2500 - lr: 0.0010\n",
            "Epoch 2/20\n",
            "12/67 [====>.........................] - ETA: 6:21 - loss: 1.6187 - categorical_accuracy: 0.1842Batch:  35 Index: 19\n",
            "67/67 [==============================] - ETA: 0s - loss: 1.6123 - categorical_accuracy: 0.2077\n",
            "Epoch 00002: saving model to model_init_2022-01-0420_33_47.813370/model-00002-1.61233-0.20773-1.60292-0.18000.h5\n",
            "67/67 [==============================] - 517s 8s/step - loss: 1.6123 - categorical_accuracy: 0.2077 - val_loss: 1.6029 - val_categorical_accuracy: 0.1800 - lr: 0.0010\n",
            "Epoch 3/20\n",
            "67/67 [==============================] - ETA: 0s - loss: 1.6087 - categorical_accuracy: 0.2125\n",
            "Epoch 00003: saving model to model_init_2022-01-0420_33_47.813370/model-00003-1.60871-0.21247-1.59926-0.22000.h5\n",
            "67/67 [==============================] - 491s 7s/step - loss: 1.6087 - categorical_accuracy: 0.2125 - val_loss: 1.5993 - val_categorical_accuracy: 0.2200 - lr: 0.0010\n",
            "Epoch 4/20\n",
            "67/67 [==============================] - ETA: 0s - loss: 1.6085 - categorical_accuracy: 0.2204\n",
            "Epoch 00004: saving model to model_init_2022-01-0420_33_47.813370/model-00004-1.60849-0.22037-1.59390-0.23000.h5\n",
            "67/67 [==============================] - 490s 7s/step - loss: 1.6085 - categorical_accuracy: 0.2204 - val_loss: 1.5939 - val_categorical_accuracy: 0.2300 - lr: 0.0010\n",
            "Epoch 5/20\n",
            "67/67 [==============================] - ETA: 0s - loss: 1.6020 - categorical_accuracy: 0.2195\n",
            "Epoch 00005: saving model to model_init_2022-01-0420_33_47.813370/model-00005-1.60195-0.21949-1.59290-0.22000.h5\n",
            "67/67 [==============================] - 490s 7s/step - loss: 1.6020 - categorical_accuracy: 0.2195 - val_loss: 1.5929 - val_categorical_accuracy: 0.2200 - lr: 0.0010\n",
            "Epoch 6/20\n",
            "67/67 [==============================] - ETA: 0s - loss: 1.6073 - categorical_accuracy: 0.2116\n",
            "Epoch 00006: saving model to model_init_2022-01-0420_33_47.813370/model-00006-1.60728-0.21159-1.59328-0.22000.h5\n",
            "67/67 [==============================] - 492s 7s/step - loss: 1.6073 - categorical_accuracy: 0.2116 - val_loss: 1.5933 - val_categorical_accuracy: 0.2200 - lr: 0.0010\n",
            "Epoch 7/20\n",
            "67/67 [==============================] - ETA: 0s - loss: 1.6021 - categorical_accuracy: 0.2125\n",
            "Epoch 00007: saving model to model_init_2022-01-0420_33_47.813370/model-00007-1.60210-0.21247-1.58404-0.24000.h5\n",
            "67/67 [==============================] - 495s 7s/step - loss: 1.6021 - categorical_accuracy: 0.2125 - val_loss: 1.5840 - val_categorical_accuracy: 0.2400 - lr: 0.0010\n",
            "Epoch 8/20\n",
            "67/67 [==============================] - ETA: 0s - loss: 1.5917 - categorical_accuracy: 0.2388\n",
            "Epoch 00008: saving model to model_init_2022-01-0420_33_47.813370/model-00008-1.59173-0.23881-1.58986-0.21500.h5\n",
            "67/67 [==============================] - 493s 7s/step - loss: 1.5917 - categorical_accuracy: 0.2388 - val_loss: 1.5899 - val_categorical_accuracy: 0.2150 - lr: 0.0010\n",
            "Epoch 9/20\n",
            "67/67 [==============================] - ETA: 0s - loss: 1.5888 - categorical_accuracy: 0.2291\n",
            "Epoch 00009: saving model to model_init_2022-01-0420_33_47.813370/model-00009-1.58877-0.22915-1.58348-0.23000.h5\n",
            "67/67 [==============================] - 496s 7s/step - loss: 1.5888 - categorical_accuracy: 0.2291 - val_loss: 1.5835 - val_categorical_accuracy: 0.2300 - lr: 0.0010\n",
            "Epoch 10/20\n",
            "67/67 [==============================] - ETA: 0s - loss: 1.5934 - categorical_accuracy: 0.2283\n",
            "Epoch 00010: saving model to model_init_2022-01-0420_33_47.813370/model-00010-1.59340-0.22827-1.58172-0.23500.h5\n",
            "67/67 [==============================] - 495s 7s/step - loss: 1.5934 - categorical_accuracy: 0.2283 - val_loss: 1.5817 - val_categorical_accuracy: 0.2350 - lr: 0.0010\n",
            "Epoch 11/20\n",
            "67/67 [==============================] - ETA: 0s - loss: 1.5867 - categorical_accuracy: 0.2371\n",
            "Epoch 00011: saving model to model_init_2022-01-0420_33_47.813370/model-00011-1.58667-0.23705-1.58486-0.20000.h5\n",
            "67/67 [==============================] - 476s 7s/step - loss: 1.5867 - categorical_accuracy: 0.2371 - val_loss: 1.5849 - val_categorical_accuracy: 0.2000 - lr: 0.0010\n",
            "Epoch 12/20\n",
            "67/67 [==============================] - ETA: 0s - loss: 1.5962 - categorical_accuracy: 0.2133\n",
            "Epoch 00012: saving model to model_init_2022-01-0420_33_47.813370/model-00012-1.59618-0.21335-1.57821-0.22500.h5\n",
            "67/67 [==============================] - 494s 7s/step - loss: 1.5962 - categorical_accuracy: 0.2133 - val_loss: 1.5782 - val_categorical_accuracy: 0.2250 - lr: 0.0010\n",
            "Epoch 13/20\n",
            "67/67 [==============================] - ETA: 0s - loss: 1.5954 - categorical_accuracy: 0.2327\n",
            "Epoch 00013: saving model to model_init_2022-01-0420_33_47.813370/model-00013-1.59540-0.23266-1.57544-0.23500.h5\n",
            "67/67 [==============================] - 494s 7s/step - loss: 1.5954 - categorical_accuracy: 0.2327 - val_loss: 1.5754 - val_categorical_accuracy: 0.2350 - lr: 0.0010\n",
            "Epoch 14/20\n",
            "67/67 [==============================] - ETA: 0s - loss: 1.5845 - categorical_accuracy: 0.2616\n",
            "Epoch 00014: saving model to model_init_2022-01-0420_33_47.813370/model-00014-1.58452-0.26163-1.57498-0.23000.h5\n",
            "67/67 [==============================] - 494s 7s/step - loss: 1.5845 - categorical_accuracy: 0.2616 - val_loss: 1.5750 - val_categorical_accuracy: 0.2300 - lr: 0.0010\n",
            "Epoch 15/20\n",
            "67/67 [==============================] - ETA: 0s - loss: 1.5840 - categorical_accuracy: 0.2406\n",
            "Epoch 00015: saving model to model_init_2022-01-0420_33_47.813370/model-00015-1.58404-0.24056-1.57677-0.21500.h5\n",
            "67/67 [==============================] - 492s 7s/step - loss: 1.5840 - categorical_accuracy: 0.2406 - val_loss: 1.5768 - val_categorical_accuracy: 0.2150 - lr: 0.0010\n",
            "Epoch 16/20\n",
            "67/67 [==============================] - ETA: 0s - loss: 1.5746 - categorical_accuracy: 0.2572\n",
            "Epoch 00016: saving model to model_init_2022-01-0420_33_47.813370/model-00016-1.57456-0.25724-1.56585-0.25500.h5\n",
            "67/67 [==============================] - 483s 7s/step - loss: 1.5746 - categorical_accuracy: 0.2572 - val_loss: 1.5659 - val_categorical_accuracy: 0.2550 - lr: 0.0010\n",
            "Epoch 17/20\n",
            "67/67 [==============================] - ETA: 0s - loss: 1.5777 - categorical_accuracy: 0.2520\n",
            "Epoch 00017: saving model to model_init_2022-01-0420_33_47.813370/model-00017-1.57773-0.25198-1.57607-0.20000.h5\n",
            "67/67 [==============================] - 496s 8s/step - loss: 1.5777 - categorical_accuracy: 0.2520 - val_loss: 1.5761 - val_categorical_accuracy: 0.2000 - lr: 0.0010\n",
            "Epoch 18/20\n",
            "67/67 [==============================] - ETA: 0s - loss: 1.5815 - categorical_accuracy: 0.2388\n",
            "Epoch 00018: saving model to model_init_2022-01-0420_33_47.813370/model-00018-1.58155-0.23881-1.56559-0.26000.h5\n",
            "67/67 [==============================] - 503s 8s/step - loss: 1.5815 - categorical_accuracy: 0.2388 - val_loss: 1.5656 - val_categorical_accuracy: 0.2600 - lr: 0.0010\n",
            "Epoch 19/20\n",
            "67/67 [==============================] - ETA: 0s - loss: 1.5715 - categorical_accuracy: 0.2590\n",
            "Epoch 00019: saving model to model_init_2022-01-0420_33_47.813370/model-00019-1.57148-0.25900-1.56630-0.24000.h5\n",
            "67/67 [==============================] - 500s 8s/step - loss: 1.5715 - categorical_accuracy: 0.2590 - val_loss: 1.5663 - val_categorical_accuracy: 0.2400 - lr: 0.0010\n",
            "Epoch 20/20\n",
            "67/67 [==============================] - ETA: 0s - loss: 1.5722 - categorical_accuracy: 0.2458\n",
            "Epoch 00020: saving model to model_init_2022-01-0420_33_47.813370/model-00020-1.57218-0.24583-1.56546-0.24000.h5\n",
            "67/67 [==============================] - 509s 8s/step - loss: 1.5722 - categorical_accuracy: 0.2458 - val_loss: 1.5655 - val_categorical_accuracy: 0.2400 - lr: 0.0010\n"
          ]
        },
        {
          "output_type": "execute_result",
          "data": {
            "text/plain": [
              "<keras.callbacks.History at 0x7fc82b6bdd10>"
            ]
          },
          "metadata": {},
          "execution_count": 25
        }
      ],
      "source": [
        "model_b.fit_generator(train_generator, steps_per_epoch=steps_per_epoch, epochs=num_epochs, verbose=1, \n",
        "                    callbacks=callbacks_list, validation_data=val_generator, \n",
        "                    validation_steps=validation_steps, class_weight=None, workers=1, initial_epoch=0)"
      ]
    },
    {
      "cell_type": "markdown",
      "metadata": {
        "id": "8rE4s79m_e4o"
      },
      "source": [
        "### Model C Experiment [7]"
      ]
    },
    {
      "cell_type": "code",
      "execution_count": null,
      "metadata": {
        "id": "gjamplNJ_e4o",
        "colab": {
          "base_uri": "https://localhost:8080/"
        },
        "outputId": "1556636d-e84d-48ad-d84f-fdde5780ac45"
      },
      "outputs": [
        {
          "output_type": "stream",
          "name": "stdout",
          "text": [
            "Model: \"sequential_4\"\n",
            "_________________________________________________________________\n",
            " Layer (type)                Output Shape              Param #   \n",
            "=================================================================\n",
            " conv3d_16 (Conv3D)          (None, 30, 60, 60, 32)    2624      \n",
            "                                                                 \n",
            " activation_16 (Activation)  (None, 30, 60, 60, 32)    0         \n",
            "                                                                 \n",
            " conv3d_17 (Conv3D)          (None, 30, 60, 60, 32)    27680     \n",
            "                                                                 \n",
            " activation_17 (Activation)  (None, 30, 60, 60, 32)    0         \n",
            "                                                                 \n",
            " max_pooling3d_12 (MaxPoolin  (None, 10, 20, 20, 32)   0         \n",
            " g3D)                                                            \n",
            "                                                                 \n",
            " dropout_10 (Dropout)        (None, 10, 20, 20, 32)    0         \n",
            "                                                                 \n",
            " conv3d_18 (Conv3D)          (None, 10, 20, 20, 64)    55360     \n",
            "                                                                 \n",
            " activation_18 (Activation)  (None, 10, 20, 20, 64)    0         \n",
            "                                                                 \n",
            " conv3d_19 (Conv3D)          (None, 10, 20, 20, 64)    110656    \n",
            "                                                                 \n",
            " activation_19 (Activation)  (None, 10, 20, 20, 64)    0         \n",
            "                                                                 \n",
            " max_pooling3d_13 (MaxPoolin  (None, 4, 7, 7, 64)      0         \n",
            " g3D)                                                            \n",
            "                                                                 \n",
            " dropout_11 (Dropout)        (None, 4, 7, 7, 64)       0         \n",
            "                                                                 \n",
            " conv3d_20 (Conv3D)          (None, 4, 7, 7, 64)       110656    \n",
            "                                                                 \n",
            " activation_20 (Activation)  (None, 4, 7, 7, 64)       0         \n",
            "                                                                 \n",
            " conv3d_21 (Conv3D)          (None, 4, 7, 7, 64)       110656    \n",
            "                                                                 \n",
            " activation_21 (Activation)  (None, 4, 7, 7, 64)       0         \n",
            "                                                                 \n",
            " max_pooling3d_14 (MaxPoolin  (None, 2, 3, 3, 64)      0         \n",
            " g3D)                                                            \n",
            "                                                                 \n",
            " dropout_12 (Dropout)        (None, 2, 3, 3, 64)       0         \n",
            "                                                                 \n",
            " flatten_4 (Flatten)         (None, 1152)              0         \n",
            "                                                                 \n",
            " dense_10 (Dense)            (None, 512)               590336    \n",
            "                                                                 \n",
            " batch_normalization_8 (Batc  (None, 512)              2048      \n",
            " hNormalization)                                                 \n",
            "                                                                 \n",
            " dropout_13 (Dropout)        (None, 512)               0         \n",
            "                                                                 \n",
            " dense_11 (Dense)            (None, 5)                 2565      \n",
            "                                                                 \n",
            "=================================================================\n",
            "Total params: 1,012,581\n",
            "Trainable params: 1,011,557\n",
            "Non-trainable params: 1,024\n",
            "_________________________________________________________________\n"
          ]
        }
      ],
      "source": [
        "model_c = Sequential()\n",
        "model_c.add(Conv3D(32, kernel_size=(3, 3, 3), input_shape=(x,y,z,channel), padding=\"same\"))\n",
        "model_c.add(Activation('relu'))\n",
        "model_c.add(Conv3D(32, padding=\"same\", kernel_size=(3, 3, 3)))\n",
        "model_c.add(Activation('relu'))\n",
        "model_c.add(MaxPooling3D(pool_size=(3, 3, 3), padding=\"same\"))\n",
        "model_c.add(Dropout(0.25))\n",
        "\n",
        "model_c.add(Conv3D(64, padding=\"same\", kernel_size=(3, 3, 3)))\n",
        "model_c.add(Activation('relu'))\n",
        "model_c.add(Conv3D(64, padding=\"same\", kernel_size=(3, 3, 3)))\n",
        "model_c.add(Activation('relu'))\n",
        "model_c.add(MaxPooling3D(pool_size=(3, 3, 3), padding=\"same\"))\n",
        "model_c.add(Dropout(0.25))\n",
        "\n",
        "model_c.add(Conv3D(64, padding=\"same\", kernel_size=(3, 3, 3)))\n",
        "model_c.add(Activation('relu'))\n",
        "model_c.add(Conv3D(64, padding=\"same\", kernel_size=(3, 3, 3)))\n",
        "model_c.add(Activation('relu'))\n",
        "model_c.add(MaxPooling3D(pool_size=(3, 3, 3), padding=\"same\"))\n",
        "model_c.add(Dropout(0.25))\n",
        "\n",
        "model_c.add(Flatten())\n",
        "model_c.add(Dense(512, activation='relu'))\n",
        "model_c.add(BatchNormalization())\n",
        "model_c.add(Dropout(0.5))\n",
        "model_c.add(Dense(classes, activation='softmax'))\n",
        "model_c.compile(optimizer=tf.keras.optimizers.Adadelta(), loss='categorical_crossentropy', metrics=['categorical_accuracy'])\n",
        "model_c.summary()"
      ]
    },
    {
      "cell_type": "markdown",
      "metadata": {
        "id": "30Dhb4OR_e4p"
      },
      "source": [
        "### Model D Experiment [8]"
      ]
    },
    {
      "cell_type": "code",
      "execution_count": null,
      "metadata": {
        "id": "NI9Rg_JV_e4p",
        "colab": {
          "base_uri": "https://localhost:8080/"
        },
        "outputId": "16d8fc70-25f9-41b1-ec9f-0c78c8816313"
      },
      "outputs": [
        {
          "output_type": "stream",
          "name": "stdout",
          "text": [
            "Model: \"sequential_6\"\n",
            "_________________________________________________________________\n",
            " Layer (type)                Output Shape              Param #   \n",
            "=================================================================\n",
            " conv3d_28 (Conv3D)          (None, 30, 64, 64, 8)     224       \n",
            "                                                                 \n",
            " batch_normalization_10 (Bat  (None, 30, 64, 64, 8)    32        \n",
            " chNormalization)                                                \n",
            "                                                                 \n",
            " activation_28 (Activation)  (None, 30, 64, 64, 8)     0         \n",
            "                                                                 \n",
            " max_pooling3d_18 (MaxPoolin  (None, 15, 32, 32, 8)    0         \n",
            " g3D)                                                            \n",
            "                                                                 \n",
            " conv3d_29 (Conv3D)          (None, 15, 32, 32, 16)    3472      \n",
            "                                                                 \n",
            " batch_normalization_11 (Bat  (None, 15, 32, 32, 16)   64        \n",
            " chNormalization)                                                \n",
            "                                                                 \n",
            " activation_29 (Activation)  (None, 15, 32, 32, 16)    0         \n",
            "                                                                 \n",
            " max_pooling3d_19 (MaxPoolin  (None, 7, 16, 16, 16)    0         \n",
            " g3D)                                                            \n",
            "                                                                 \n",
            " conv3d_30 (Conv3D)          (None, 7, 16, 16, 32)     4640      \n",
            "                                                                 \n",
            " batch_normalization_12 (Bat  (None, 7, 16, 16, 32)    128       \n",
            " chNormalization)                                                \n",
            "                                                                 \n",
            " activation_30 (Activation)  (None, 7, 16, 16, 32)     0         \n",
            "                                                                 \n",
            " max_pooling3d_20 (MaxPoolin  (None, 3, 8, 8, 32)      0         \n",
            " g3D)                                                            \n",
            "                                                                 \n",
            " conv3d_31 (Conv3D)          (None, 3, 8, 8, 64)       18496     \n",
            "                                                                 \n",
            " batch_normalization_13 (Bat  (None, 3, 8, 8, 64)      256       \n",
            " chNormalization)                                                \n",
            "                                                                 \n",
            " activation_31 (Activation)  (None, 3, 8, 8, 64)       0         \n",
            "                                                                 \n",
            " max_pooling3d_21 (MaxPoolin  (None, 1, 4, 4, 64)      0         \n",
            " g3D)                                                            \n",
            "                                                                 \n",
            " flatten_6 (Flatten)         (None, 1024)              0         \n",
            "                                                                 \n",
            " dense_14 (Dense)            (None, 1000)              1025000   \n",
            "                                                                 \n",
            " dropout_18 (Dropout)        (None, 1000)              0         \n",
            "                                                                 \n",
            " dense_15 (Dense)            (None, 500)               500500    \n",
            "                                                                 \n",
            " dropout_19 (Dropout)        (None, 500)               0         \n",
            "                                                                 \n",
            " dense_16 (Dense)            (None, 5)                 2505      \n",
            "                                                                 \n",
            "=================================================================\n",
            "Total params: 1,555,317\n",
            "Trainable params: 1,555,077\n",
            "Non-trainable params: 240\n",
            "_________________________________________________________________\n"
          ]
        }
      ],
      "source": [
        "input_shape=(x,y,z,channel)\n",
        "\n",
        "nb_filters = [8,16,32,64]\n",
        "nb_dense = [1000, 500, 5]\n",
        "# Define model\n",
        "model_d = Sequential()\n",
        "\n",
        "model_d.add(Conv3D(nb_filters[0], \n",
        "                 kernel_size=(3,3,3), \n",
        "                 input_shape=input_shape,\n",
        "                 padding='same'))\n",
        "model_d.add(BatchNormalization())\n",
        "model_d.add(Activation('relu'))\n",
        "\n",
        "model_d.add(MaxPooling3D(pool_size=(2,2,2)))\n",
        "\n",
        "model_d.add(Conv3D(nb_filters[1], \n",
        "                 kernel_size=(3,3,3), \n",
        "                 padding='same'))\n",
        "model_d.add(BatchNormalization())\n",
        "model_d.add(Activation('relu'))\n",
        "\n",
        "model_d.add(MaxPooling3D(pool_size=(2,2,2)))\n",
        "\n",
        "model_d.add(Conv3D(nb_filters[2], \n",
        "                 kernel_size=(1,3,3), \n",
        "                 padding='same'))\n",
        "model_d.add(BatchNormalization())\n",
        "model_d.add(Activation('relu'))\n",
        "\n",
        "model_d.add(MaxPooling3D(pool_size=(2,2,2)))\n",
        "\n",
        "model_d.add(Conv3D(nb_filters[3], \n",
        "                 kernel_size=(1,3,3), \n",
        "                 padding='same'))\n",
        "model_d.add(BatchNormalization())\n",
        "model_d.add(Activation('relu'))\n",
        "\n",
        "model_d.add(MaxPooling3D(pool_size=(2,2,2)))\n",
        "\n",
        "#Flatten Layers\n",
        "model_d.add(Flatten())\n",
        "\n",
        "model_d.add(Dense(nb_dense[0], activation='relu'))\n",
        "model_d.add(Dropout(0.5))\n",
        "\n",
        "model_d.add(Dense(nb_dense[1], activation='relu'))\n",
        "model_d.add(Dropout(0.5))\n",
        "\n",
        "#softmax layer\n",
        "model_d.add(Dense(nb_dense[2], activation='softmax'))\n",
        "model_d.compile(optimizer=tf.keras.optimizers.Adadelta(), loss='categorical_crossentropy', metrics=['categorical_accuracy'])\n",
        "model_d.summary()"
      ]
    },
    {
      "cell_type": "code",
      "execution_count": null,
      "metadata": {
        "id": "bRHH1Vfp_e4q",
        "colab": {
          "base_uri": "https://localhost:8080/"
        },
        "outputId": "92a569ff-2f32-408d-8b69-926747ad556c"
      },
      "outputs": [
        {
          "output_type": "stream",
          "name": "stdout",
          "text": [
            "Source path =  /content/Project_data/train ; batch size = 10\n",
            "Epoch 1/10\n",
            "65/67 [============================>.] - ETA: 7s - loss: 2.8393 - categorical_accuracy: 0.2138 Batch:  67 Index: 10\n",
            "67/67 [==============================] - ETA: 0s - loss: 2.8209 - categorical_accuracy: 0.2157Source path =  /content/Project_data/val ; batch size = 10\n",
            "\n",
            "Epoch 00001: saving model to model_init_2022-01-0414_50_06.200503/model-00001-2.82091-0.21569-1.60420-0.24000.h5\n",
            "67/67 [==============================] - 281s 4s/step - loss: 2.8209 - categorical_accuracy: 0.2157 - val_loss: 1.6042 - val_categorical_accuracy: 0.2400 - lr: 0.0010\n",
            "Epoch 2/10\n",
            "67/67 [==============================] - ETA: 0s - loss: 2.4710 - categorical_accuracy: 0.2736\n",
            "Epoch 00002: saving model to model_init_2022-01-0414_50_06.200503/model-00002-2.47101-0.27363-1.60877-0.22000.h5\n",
            "67/67 [==============================] - 113s 2s/step - loss: 2.4710 - categorical_accuracy: 0.2736 - val_loss: 1.6088 - val_categorical_accuracy: 0.2200 - lr: 0.0010\n",
            "Epoch 3/10\n",
            "67/67 [==============================] - ETA: 0s - loss: 2.4529 - categorical_accuracy: 0.2040\n",
            "Epoch 00003: saving model to model_init_2022-01-0414_50_06.200503/model-00003-2.45292-0.20398-1.61795-0.21000.h5\n",
            "\n",
            "Epoch 00003: ReduceLROnPlateau reducing learning rate to 0.0005000000237487257.\n",
            "67/67 [==============================] - 110s 2s/step - loss: 2.4529 - categorical_accuracy: 0.2040 - val_loss: 1.6179 - val_categorical_accuracy: 0.2100 - lr: 0.0010\n",
            "Epoch 4/10\n",
            "67/67 [==============================] - ETA: 0s - loss: 2.9019 - categorical_accuracy: 0.1791\n",
            "Epoch 00004: saving model to model_init_2022-01-0414_50_06.200503/model-00004-2.90190-0.17910-1.63416-0.27000.h5\n",
            "67/67 [==============================] - 115s 2s/step - loss: 2.9019 - categorical_accuracy: 0.1791 - val_loss: 1.6342 - val_categorical_accuracy: 0.2700 - lr: 5.0000e-04\n",
            "Epoch 5/10\n",
            "67/67 [==============================] - ETA: 0s - loss: 2.7411 - categorical_accuracy: 0.2040\n",
            "Epoch 00005: saving model to model_init_2022-01-0414_50_06.200503/model-00005-2.74111-0.20398-1.58088-0.31000.h5\n",
            "67/67 [==============================] - 118s 2s/step - loss: 2.7411 - categorical_accuracy: 0.2040 - val_loss: 1.5809 - val_categorical_accuracy: 0.3100 - lr: 5.0000e-04\n",
            "Epoch 6/10\n",
            "67/67 [==============================] - ETA: 0s - loss: 2.6555 - categorical_accuracy: 0.1990\n",
            "Epoch 00006: saving model to model_init_2022-01-0414_50_06.200503/model-00006-2.65550-0.19900-1.63781-0.26000.h5\n",
            "67/67 [==============================] - 110s 2s/step - loss: 2.6555 - categorical_accuracy: 0.1990 - val_loss: 1.6378 - val_categorical_accuracy: 0.2600 - lr: 5.0000e-04\n",
            "Epoch 7/10\n",
            "67/67 [==============================] - ETA: 0s - loss: 2.5508 - categorical_accuracy: 0.2189\n",
            "Epoch 00007: saving model to model_init_2022-01-0414_50_06.200503/model-00007-2.55085-0.21891-1.60151-0.29000.h5\n",
            "\n",
            "Epoch 00007: ReduceLROnPlateau reducing learning rate to 0.0002500000118743628.\n",
            "67/67 [==============================] - 113s 2s/step - loss: 2.5508 - categorical_accuracy: 0.2189 - val_loss: 1.6015 - val_categorical_accuracy: 0.2900 - lr: 5.0000e-04\n",
            "Epoch 8/10\n",
            "67/67 [==============================] - ETA: 0s - loss: 2.5811 - categorical_accuracy: 0.2289\n",
            "Epoch 00008: saving model to model_init_2022-01-0414_50_06.200503/model-00008-2.58105-0.22886-1.59969-0.33000.h5\n",
            "67/67 [==============================] - 114s 2s/step - loss: 2.5811 - categorical_accuracy: 0.2289 - val_loss: 1.5997 - val_categorical_accuracy: 0.3300 - lr: 2.5000e-04\n",
            "Epoch 9/10\n",
            "67/67 [==============================] - ETA: 0s - loss: 2.4966 - categorical_accuracy: 0.2239\n",
            "Epoch 00009: saving model to model_init_2022-01-0414_50_06.200503/model-00009-2.49663-0.22388-1.58424-0.33000.h5\n",
            "\n",
            "Epoch 00009: ReduceLROnPlateau reducing learning rate to 0.0001250000059371814.\n",
            "67/67 [==============================] - 115s 2s/step - loss: 2.4966 - categorical_accuracy: 0.2239 - val_loss: 1.5842 - val_categorical_accuracy: 0.3300 - lr: 2.5000e-04\n",
            "Epoch 10/10\n",
            "67/67 [==============================] - ETA: 0s - loss: 2.7244 - categorical_accuracy: 0.2090\n",
            "Epoch 00010: saving model to model_init_2022-01-0414_50_06.200503/model-00010-2.72443-0.20896-1.57130-0.32000.h5\n",
            "67/67 [==============================] - 114s 2s/step - loss: 2.7244 - categorical_accuracy: 0.2090 - val_loss: 1.5713 - val_categorical_accuracy: 0.3200 - lr: 1.2500e-04\n"
          ]
        },
        {
          "output_type": "execute_result",
          "data": {
            "text/plain": [
              "<keras.callbacks.History at 0x7fca9c08bc50>"
            ]
          },
          "metadata": {},
          "execution_count": 28
        }
      ],
      "source": [
        "train_generator = generator_ex(train_path, train_doc, batch_size)\n",
        "val_generator = generator_ex(val_path, val_doc, batch_size)\n",
        "num_epochs = 10\n",
        "model_d.fit_generator(train_generator, steps_per_epoch=steps_per_epoch, epochs=num_epochs, verbose=1, \n",
        "                    callbacks=callbacks_list, validation_data=val_generator, \n",
        "                    validation_steps=validation_steps, class_weight=None, workers=1, initial_epoch=0)"
      ]
    },
    {
      "cell_type": "markdown",
      "metadata": {
        "id": "4SYt5uPX_e4q"
      },
      "source": [
        "### Changing Model with images per frame, width and height of the images Experiment [9]"
      ]
    },
    {
      "cell_type": "code",
      "execution_count": null,
      "metadata": {
        "id": "AOss62nX_e4q"
      },
      "outputs": [],
      "source": [
        "x = 30 # number of frames\n",
        "y = 64 # image width\n",
        "z = 64 # image height \n",
        "\n",
        "classes = 5\n",
        "channel = 1"
      ]
    },
    {
      "cell_type": "code",
      "execution_count": null,
      "metadata": {
        "id": "QnmCJJBw_e4q",
        "colab": {
          "base_uri": "https://localhost:8080/"
        },
        "outputId": "8d1f23db-8bd6-414b-8f1f-1e9631f63e0b"
      },
      "outputs": [
        {
          "output_type": "stream",
          "name": "stdout",
          "text": [
            "Model: \"sequential_5\"\n",
            "_________________________________________________________________\n",
            " Layer (type)                Output Shape              Param #   \n",
            "=================================================================\n",
            " conv3d_22 (Conv3D)          (None, 30, 64, 64, 32)    896       \n",
            "                                                                 \n",
            " activation_22 (Activation)  (None, 30, 64, 64, 32)    0         \n",
            "                                                                 \n",
            " conv3d_23 (Conv3D)          (None, 30, 64, 64, 32)    27680     \n",
            "                                                                 \n",
            " activation_23 (Activation)  (None, 30, 64, 64, 32)    0         \n",
            "                                                                 \n",
            " max_pooling3d_15 (MaxPoolin  (None, 10, 22, 22, 32)   0         \n",
            " g3D)                                                            \n",
            "                                                                 \n",
            " dropout_14 (Dropout)        (None, 10, 22, 22, 32)    0         \n",
            "                                                                 \n",
            " conv3d_24 (Conv3D)          (None, 10, 22, 22, 64)    55360     \n",
            "                                                                 \n",
            " activation_24 (Activation)  (None, 10, 22, 22, 64)    0         \n",
            "                                                                 \n",
            " conv3d_25 (Conv3D)          (None, 10, 22, 22, 64)    110656    \n",
            "                                                                 \n",
            " activation_25 (Activation)  (None, 10, 22, 22, 64)    0         \n",
            "                                                                 \n",
            " max_pooling3d_16 (MaxPoolin  (None, 4, 8, 8, 64)      0         \n",
            " g3D)                                                            \n",
            "                                                                 \n",
            " dropout_15 (Dropout)        (None, 4, 8, 8, 64)       0         \n",
            "                                                                 \n",
            " conv3d_26 (Conv3D)          (None, 4, 8, 8, 64)       110656    \n",
            "                                                                 \n",
            " activation_26 (Activation)  (None, 4, 8, 8, 64)       0         \n",
            "                                                                 \n",
            " conv3d_27 (Conv3D)          (None, 4, 8, 8, 64)       110656    \n",
            "                                                                 \n",
            " activation_27 (Activation)  (None, 4, 8, 8, 64)       0         \n",
            "                                                                 \n",
            " max_pooling3d_17 (MaxPoolin  (None, 2, 3, 3, 64)      0         \n",
            " g3D)                                                            \n",
            "                                                                 \n",
            " dropout_16 (Dropout)        (None, 2, 3, 3, 64)       0         \n",
            "                                                                 \n",
            " flatten_5 (Flatten)         (None, 1152)              0         \n",
            "                                                                 \n",
            " dense_12 (Dense)            (None, 512)               590336    \n",
            "                                                                 \n",
            " batch_normalization_9 (Batc  (None, 512)              2048      \n",
            " hNormalization)                                                 \n",
            "                                                                 \n",
            " dropout_17 (Dropout)        (None, 512)               0         \n",
            "                                                                 \n",
            " dense_13 (Dense)            (None, 5)                 2565      \n",
            "                                                                 \n",
            "=================================================================\n",
            "Total params: 1,010,853\n",
            "Trainable params: 1,009,829\n",
            "Non-trainable params: 1,024\n",
            "_________________________________________________________________\n"
          ]
        }
      ],
      "source": [
        "model_e = Sequential()\n",
        "model_e.add(Conv3D(32, kernel_size=(3, 3, 3), input_shape=(x,y,z,channel), padding=\"same\"))\n",
        "model_e.add(Activation('relu'))\n",
        "model_e.add(Conv3D(32, padding=\"same\", kernel_size=(3, 3, 3)))\n",
        "model_e.add(Activation('relu'))\n",
        "model_e.add(MaxPooling3D(pool_size=(3, 3, 3), padding=\"same\"))\n",
        "model_e.add(Dropout(0.25))\n",
        "\n",
        "model_e.add(Conv3D(64, padding=\"same\", kernel_size=(3, 3, 3)))\n",
        "model_e.add(Activation('relu'))\n",
        "model_e.add(Conv3D(64, padding=\"same\", kernel_size=(3, 3, 3)))\n",
        "model_e.add(Activation('relu'))\n",
        "model_e.add(MaxPooling3D(pool_size=(3, 3, 3), padding=\"same\"))\n",
        "model_e.add(Dropout(0.25))\n",
        "\n",
        "model_e.add(Conv3D(64, padding=\"same\", kernel_size=(3, 3, 3)))\n",
        "model_e.add(Activation('relu'))\n",
        "model_e.add(Conv3D(64, padding=\"same\", kernel_size=(3, 3, 3)))\n",
        "model_e.add(Activation('relu'))\n",
        "model_e.add(MaxPooling3D(pool_size=(3, 3, 3), padding=\"same\"))\n",
        "model_e.add(Dropout(0.25))\n",
        "\n",
        "model_e.add(Flatten())\n",
        "model_e.add(Dense(512, activation='relu'))\n",
        "model_e.add(BatchNormalization())\n",
        "model_e.add(Dropout(0.5))\n",
        "model_e.add(Dense(classes, activation='softmax'))\n",
        "model_e.compile(optimizer=tf.keras.optimizers.Adadelta(), loss='categorical_crossentropy', metrics=['categorical_accuracy'])\n",
        "model_e.summary()"
      ]
    },
    {
      "cell_type": "code",
      "execution_count": null,
      "metadata": {
        "id": "3uCkkrz0_e4r",
        "colab": {
          "base_uri": "https://localhost:8080/"
        },
        "outputId": "373d39ca-9af8-45df-f6f3-7318df3059e6"
      },
      "outputs": [
        {
          "output_type": "stream",
          "name": "stdout",
          "text": [
            "Source path =  /content/Project_data/train ; batch size = 5\n",
            "Epoch 1/20\n",
            "67/67 [==============================] - ETA: 0s - loss: 2.0158 - categorical_accuracy: 0.2149Source path =  /content/Project_data/val ; batch size = 5\n",
            "\n",
            "Epoch 00001: saving model to model_init_2022-01-0414_50_06.200503/model-00001-2.01576-0.21493-1.61631-0.08000.h5\n",
            "67/67 [==============================] - 145s 2s/step - loss: 2.0158 - categorical_accuracy: 0.2149 - val_loss: 1.6163 - val_categorical_accuracy: 0.0800 - lr: 0.0010\n",
            "Epoch 2/20\n",
            "64/67 [===========================>..] - ETA: 5s - loss: 2.0957 - categorical_accuracy: 0.1750Batch:  133 Index: 5\n",
            "67/67 [==============================] - ETA: 0s - loss: 2.1130 - categorical_accuracy: 0.1722\n",
            "Epoch 00002: saving model to model_init_2022-01-0414_50_06.200503/model-00002-2.11298-0.17221-1.60894-0.24000.h5\n",
            "67/67 [==============================] - 141s 2s/step - loss: 2.1130 - categorical_accuracy: 0.1722 - val_loss: 1.6089 - val_categorical_accuracy: 0.2400 - lr: 0.0010\n",
            "Epoch 3/20\n",
            "67/67 [==============================] - ETA: 0s - loss: 2.0422 - categorical_accuracy: 0.1592\n",
            "Epoch 00003: saving model to model_init_2022-01-0414_50_06.200503/model-00003-2.04221-0.15920-1.60923-0.24000.h5\n",
            "67/67 [==============================] - 97s 1s/step - loss: 2.0422 - categorical_accuracy: 0.1592 - val_loss: 1.6092 - val_categorical_accuracy: 0.2400 - lr: 0.0010\n",
            "Epoch 4/20\n",
            "67/67 [==============================] - ETA: 0s - loss: 2.0744 - categorical_accuracy: 0.1592\n",
            "Epoch 00004: saving model to model_init_2022-01-0414_50_06.200503/model-00004-2.07441-0.15920-1.64180-0.22000.h5\n",
            "\n",
            "Epoch 00004: ReduceLROnPlateau reducing learning rate to 0.0005000000237487257.\n",
            "67/67 [==============================] - 103s 2s/step - loss: 2.0744 - categorical_accuracy: 0.1592 - val_loss: 1.6418 - val_categorical_accuracy: 0.2200 - lr: 0.0010\n",
            "Epoch 5/20\n",
            "67/67 [==============================] - ETA: 0s - loss: 2.2122 - categorical_accuracy: 0.1194\n",
            "Epoch 00005: saving model to model_init_2022-01-0414_50_06.200503/model-00005-2.21219-0.11940-1.65264-0.18000.h5\n",
            "67/67 [==============================] - 95s 1s/step - loss: 2.2122 - categorical_accuracy: 0.1194 - val_loss: 1.6526 - val_categorical_accuracy: 0.1800 - lr: 5.0000e-04\n",
            "Epoch 6/20\n",
            "67/67 [==============================] - ETA: 0s - loss: 1.9595 - categorical_accuracy: 0.2239\n",
            "Epoch 00006: saving model to model_init_2022-01-0414_50_06.200503/model-00006-1.95950-0.22388-1.65459-0.24000.h5\n",
            "\n",
            "Epoch 00006: ReduceLROnPlateau reducing learning rate to 0.0002500000118743628.\n",
            "67/67 [==============================] - 97s 1s/step - loss: 1.9595 - categorical_accuracy: 0.2239 - val_loss: 1.6546 - val_categorical_accuracy: 0.2400 - lr: 5.0000e-04\n",
            "Epoch 7/20\n",
            "67/67 [==============================] - ETA: 0s - loss: 1.9421 - categorical_accuracy: 0.2090\n",
            "Epoch 00007: saving model to model_init_2022-01-0414_50_06.200503/model-00007-1.94205-0.20896-1.68035-0.18000.h5\n",
            "67/67 [==============================] - 99s 2s/step - loss: 1.9421 - categorical_accuracy: 0.2090 - val_loss: 1.6803 - val_categorical_accuracy: 0.1800 - lr: 2.5000e-04\n",
            "Epoch 8/20\n",
            "67/67 [==============================] - ETA: 0s - loss: 1.9694 - categorical_accuracy: 0.2338\n",
            "Epoch 00008: saving model to model_init_2022-01-0414_50_06.200503/model-00008-1.96941-0.23383-1.72143-0.26000.h5\n",
            "\n",
            "Epoch 00008: ReduceLROnPlateau reducing learning rate to 0.0001250000059371814.\n",
            "67/67 [==============================] - 92s 1s/step - loss: 1.9694 - categorical_accuracy: 0.2338 - val_loss: 1.7214 - val_categorical_accuracy: 0.2600 - lr: 2.5000e-04\n",
            "Epoch 9/20\n",
            "67/67 [==============================] - ETA: 0s - loss: 1.9936 - categorical_accuracy: 0.1592\n",
            "Epoch 00009: saving model to model_init_2022-01-0414_50_06.200503/model-00009-1.99355-0.15920-1.70941-0.24000.h5\n",
            "67/67 [==============================] - 96s 1s/step - loss: 1.9936 - categorical_accuracy: 0.1592 - val_loss: 1.7094 - val_categorical_accuracy: 0.2400 - lr: 1.2500e-04\n",
            "Epoch 10/20\n",
            "67/67 [==============================] - ETA: 0s - loss: 1.9584 - categorical_accuracy: 0.1741\n",
            "Epoch 00010: saving model to model_init_2022-01-0414_50_06.200503/model-00010-1.95840-0.17413-1.84168-0.22000.h5\n",
            "\n",
            "Epoch 00010: ReduceLROnPlateau reducing learning rate to 6.25000029685907e-05.\n",
            "67/67 [==============================] - 98s 1s/step - loss: 1.9584 - categorical_accuracy: 0.1741 - val_loss: 1.8417 - val_categorical_accuracy: 0.2200 - lr: 1.2500e-04\n",
            "Epoch 11/20\n",
            "67/67 [==============================] - ETA: 0s - loss: 2.0465 - categorical_accuracy: 0.2040\n",
            "Epoch 00011: saving model to model_init_2022-01-0414_50_06.200503/model-00011-2.04649-0.20398-1.83975-0.22000.h5\n",
            "67/67 [==============================] - 90s 1s/step - loss: 2.0465 - categorical_accuracy: 0.2040 - val_loss: 1.8397 - val_categorical_accuracy: 0.2200 - lr: 6.2500e-05\n",
            "Epoch 12/20\n",
            "67/67 [==============================] - ETA: 0s - loss: 2.0609 - categorical_accuracy: 0.1343\n",
            "Epoch 00012: saving model to model_init_2022-01-0414_50_06.200503/model-00012-2.06091-0.13433-1.85193-0.24000.h5\n",
            "\n",
            "Epoch 00012: ReduceLROnPlateau reducing learning rate to 3.125000148429535e-05.\n",
            "67/67 [==============================] - 99s 2s/step - loss: 2.0609 - categorical_accuracy: 0.1343 - val_loss: 1.8519 - val_categorical_accuracy: 0.2400 - lr: 6.2500e-05\n",
            "Epoch 13/20\n",
            "67/67 [==============================] - ETA: 0s - loss: 1.9534 - categorical_accuracy: 0.2040\n",
            "Epoch 00013: saving model to model_init_2022-01-0414_50_06.200503/model-00013-1.95343-0.20398-2.06862-0.16000.h5\n",
            "67/67 [==============================] - 94s 1s/step - loss: 1.9534 - categorical_accuracy: 0.2040 - val_loss: 2.0686 - val_categorical_accuracy: 0.1600 - lr: 3.1250e-05\n",
            "Epoch 14/20\n",
            "67/67 [==============================] - ETA: 0s - loss: 1.9716 - categorical_accuracy: 0.1841\n",
            "Epoch 00014: saving model to model_init_2022-01-0414_50_06.200503/model-00014-1.97160-0.18408-1.73998-0.22000.h5\n",
            "\n",
            "Epoch 00014: ReduceLROnPlateau reducing learning rate to 1.5625000742147677e-05.\n",
            "67/67 [==============================] - 90s 1s/step - loss: 1.9716 - categorical_accuracy: 0.1841 - val_loss: 1.7400 - val_categorical_accuracy: 0.2200 - lr: 3.1250e-05\n",
            "Epoch 15/20\n",
            "67/67 [==============================] - ETA: 0s - loss: 1.8812 - categorical_accuracy: 0.2239\n",
            "Epoch 00015: saving model to model_init_2022-01-0414_50_06.200503/model-00015-1.88118-0.22388-1.87384-0.30000.h5\n",
            "67/67 [==============================] - 97s 1s/step - loss: 1.8812 - categorical_accuracy: 0.2239 - val_loss: 1.8738 - val_categorical_accuracy: 0.3000 - lr: 1.5625e-05\n",
            "Epoch 16/20\n",
            "67/67 [==============================] - ETA: 0s - loss: 1.9351 - categorical_accuracy: 0.1791\n",
            "Epoch 00016: saving model to model_init_2022-01-0414_50_06.200503/model-00016-1.93514-0.17910-1.99156-0.24000.h5\n",
            "\n",
            "Epoch 00016: ReduceLROnPlateau reducing learning rate to 7.812500371073838e-06.\n",
            "67/67 [==============================] - 97s 1s/step - loss: 1.9351 - categorical_accuracy: 0.1791 - val_loss: 1.9916 - val_categorical_accuracy: 0.2400 - lr: 1.5625e-05\n",
            "Epoch 17/20\n",
            "67/67 [==============================] - ETA: 0s - loss: 1.9545 - categorical_accuracy: 0.2239\n",
            "Epoch 00017: saving model to model_init_2022-01-0414_50_06.200503/model-00017-1.95445-0.22388-1.84883-0.22000.h5\n",
            "67/67 [==============================] - 92s 1s/step - loss: 1.9545 - categorical_accuracy: 0.2239 - val_loss: 1.8488 - val_categorical_accuracy: 0.2200 - lr: 7.8125e-06\n",
            "Epoch 18/20\n",
            "67/67 [==============================] - ETA: 0s - loss: 2.0330 - categorical_accuracy: 0.1891\n",
            "Epoch 00018: saving model to model_init_2022-01-0414_50_06.200503/model-00018-2.03297-0.18905-1.89821-0.26000.h5\n",
            "\n",
            "Epoch 00018: ReduceLROnPlateau reducing learning rate to 3.906250185536919e-06.\n",
            "67/67 [==============================] - 97s 1s/step - loss: 2.0330 - categorical_accuracy: 0.1891 - val_loss: 1.8982 - val_categorical_accuracy: 0.2600 - lr: 7.8125e-06\n",
            "Epoch 19/20\n",
            "67/67 [==============================] - ETA: 0s - loss: 2.0375 - categorical_accuracy: 0.1741\n",
            "Epoch 00019: saving model to model_init_2022-01-0414_50_06.200503/model-00019-2.03752-0.17413-1.95451-0.18000.h5\n",
            "67/67 [==============================] - 97s 1s/step - loss: 2.0375 - categorical_accuracy: 0.1741 - val_loss: 1.9545 - val_categorical_accuracy: 0.1800 - lr: 3.9063e-06\n",
            "Epoch 20/20\n",
            "67/67 [==============================] - ETA: 0s - loss: 1.9847 - categorical_accuracy: 0.2139\n",
            "Epoch 00020: saving model to model_init_2022-01-0414_50_06.200503/model-00020-1.98468-0.21393-1.91806-0.26000.h5\n",
            "\n",
            "Epoch 00020: ReduceLROnPlateau reducing learning rate to 1.9531250927684596e-06.\n",
            "67/67 [==============================] - 98s 1s/step - loss: 1.9847 - categorical_accuracy: 0.2139 - val_loss: 1.9181 - val_categorical_accuracy: 0.2600 - lr: 3.9063e-06\n"
          ]
        },
        {
          "output_type": "execute_result",
          "data": {
            "text/plain": [
              "<keras.callbacks.History at 0x7fca93377b90>"
            ]
          },
          "metadata": {},
          "execution_count": 31
        }
      ],
      "source": [
        "batch_size = 5\n",
        "train_generator = generator_ex(train_path, train_doc, batch_size)\n",
        "val_generator = generator_ex(val_path, val_doc, batch_size)\n",
        "num_epochs = 20\n",
        "model_e.fit_generator(train_generator, steps_per_epoch=steps_per_epoch, epochs=num_epochs, verbose=1, \n",
        "                    callbacks=callbacks_list, validation_data=val_generator, \n",
        "                    validation_steps=validation_steps, class_weight=None, workers=1, initial_epoch=0)"
      ]
    },
    {
      "cell_type": "markdown",
      "metadata": {
        "id": "BUCK1XrK_e4r"
      },
      "source": [
        "### Model F Experiment [10]"
      ]
    },
    {
      "cell_type": "code",
      "execution_count": null,
      "metadata": {
        "id": "LRfR_cj2_e4r",
        "colab": {
          "base_uri": "https://localhost:8080/"
        },
        "outputId": "f8568fa7-b252-4b48-a91e-8c81c1a8200e"
      },
      "outputs": [
        {
          "output_type": "stream",
          "name": "stdout",
          "text": [
            "Model: \"sequential_7\"\n",
            "_________________________________________________________________\n",
            " Layer (type)                Output Shape              Param #   \n",
            "=================================================================\n",
            " conv3d_32 (Conv3D)          (None, 30, 120, 120, 8)   224       \n",
            "                                                                 \n",
            " batch_normalization_14 (Bat  (None, 30, 120, 120, 8)  32        \n",
            " chNormalization)                                                \n",
            "                                                                 \n",
            " activation_32 (Activation)  (None, 30, 120, 120, 8)   0         \n",
            "                                                                 \n",
            " max_pooling3d_22 (MaxPoolin  (None, 15, 60, 60, 8)    0         \n",
            " g3D)                                                            \n",
            "                                                                 \n",
            " conv3d_33 (Conv3D)          (None, 15, 60, 60, 16)    3472      \n",
            "                                                                 \n",
            " batch_normalization_15 (Bat  (None, 15, 60, 60, 16)   64        \n",
            " chNormalization)                                                \n",
            "                                                                 \n",
            " activation_33 (Activation)  (None, 15, 60, 60, 16)    0         \n",
            "                                                                 \n",
            " max_pooling3d_23 (MaxPoolin  (None, 7, 30, 30, 16)    0         \n",
            " g3D)                                                            \n",
            "                                                                 \n",
            " conv3d_34 (Conv3D)          (None, 7, 30, 30, 32)     4640      \n",
            "                                                                 \n",
            " batch_normalization_16 (Bat  (None, 7, 30, 30, 32)    128       \n",
            " chNormalization)                                                \n",
            "                                                                 \n",
            " activation_34 (Activation)  (None, 7, 30, 30, 32)     0         \n",
            "                                                                 \n",
            " max_pooling3d_24 (MaxPoolin  (None, 3, 15, 15, 32)    0         \n",
            " g3D)                                                            \n",
            "                                                                 \n",
            " conv3d_35 (Conv3D)          (None, 3, 15, 15, 64)     18496     \n",
            "                                                                 \n",
            " batch_normalization_17 (Bat  (None, 3, 15, 15, 64)    256       \n",
            " chNormalization)                                                \n",
            "                                                                 \n",
            " activation_35 (Activation)  (None, 3, 15, 15, 64)     0         \n",
            "                                                                 \n",
            " max_pooling3d_25 (MaxPoolin  (None, 1, 7, 7, 64)      0         \n",
            " g3D)                                                            \n",
            "                                                                 \n",
            " flatten_7 (Flatten)         (None, 3136)              0         \n",
            "                                                                 \n",
            " dense_17 (Dense)            (None, 1000)              3137000   \n",
            "                                                                 \n",
            " dropout_20 (Dropout)        (None, 1000)              0         \n",
            "                                                                 \n",
            " dense_18 (Dense)            (None, 500)               500500    \n",
            "                                                                 \n",
            " dropout_21 (Dropout)        (None, 500)               0         \n",
            "                                                                 \n",
            " dense_19 (Dense)            (None, 5)                 2505      \n",
            "                                                                 \n",
            "=================================================================\n",
            "Total params: 3,667,317\n",
            "Trainable params: 3,667,077\n",
            "Non-trainable params: 240\n",
            "_________________________________________________________________\n"
          ]
        }
      ],
      "source": [
        "x = 30 # number of frames\n",
        "y = 120 # image width\n",
        "z = 120 # image height \n",
        "\n",
        "classes = 5\n",
        "channel = 1\n",
        "nb_dense = [1000, 500, 5]\n",
        "\n",
        "input_shape=(x,y,z,channel)\n",
        "\n",
        "# Define model\n",
        "model_f = Sequential()\n",
        "\n",
        "model_f.add(Conv3D(nb_filters[0], \n",
        "                 kernel_size=(3,3,3), \n",
        "                 input_shape=input_shape,\n",
        "                 padding='same'))\n",
        "model_f.add(BatchNormalization())\n",
        "model_f.add(Activation('relu'))\n",
        "\n",
        "model_f.add(MaxPooling3D(pool_size=(2,2,2)))\n",
        "\n",
        "model_f.add(Conv3D(nb_filters[1], \n",
        "                 kernel_size=(3,3,3), \n",
        "                 padding='same'))\n",
        "model_f.add(BatchNormalization())\n",
        "model_f.add(Activation('relu'))\n",
        "\n",
        "model_f.add(MaxPooling3D(pool_size=(2,2,2)))\n",
        "\n",
        "model_f.add(Conv3D(nb_filters[2], \n",
        "                 kernel_size=(1,3,3), \n",
        "                 padding='same'))\n",
        "model_f.add(BatchNormalization())\n",
        "model_f.add(Activation('relu'))\n",
        "\n",
        "model_f.add(MaxPooling3D(pool_size=(2,2,2)))\n",
        "\n",
        "model_f.add(Conv3D(nb_filters[3], \n",
        "                 kernel_size=(1,3,3), \n",
        "                 padding='same'))\n",
        "model_f.add(BatchNormalization())\n",
        "model_f.add(Activation('relu'))\n",
        "\n",
        "model_f.add(MaxPooling3D(pool_size=(2,2,2)))\n",
        "\n",
        "#Flatten Layers\n",
        "model_f.add(Flatten())\n",
        "\n",
        "model_f.add(Dense(nb_dense[0], activation='relu'))\n",
        "model_f.add(Dropout(0.5))\n",
        "\n",
        "model_f.add(Dense(nb_dense[1], activation='relu'))\n",
        "model_f.add(Dropout(0.5))\n",
        "\n",
        "#softmax layer\n",
        "model_f.add(Dense(nb_dense[2], activation='softmax'))\n",
        "model_f.compile(optimizer=tf.keras.optimizers.Adadelta(), loss='categorical_crossentropy', metrics=['categorical_accuracy'])\n",
        "model_f.summary()"
      ]
    },
    {
      "cell_type": "code",
      "execution_count": null,
      "metadata": {
        "id": "Q45uPOiS_e4u",
        "colab": {
          "base_uri": "https://localhost:8080/"
        },
        "outputId": "0bc5876c-aeb0-4320-b4cd-37b299305dc7"
      },
      "outputs": [
        {
          "output_type": "stream",
          "name": "stdout",
          "text": [
            "Source path =  /content/Project_data/train ; batch size = 10\n",
            "Epoch 1/30\n",
            "65/67 [============================>.] - ETA: 6s - loss: 3.0574 - categorical_accuracy: 0.2123Batch:  67 Index: 10\n",
            "67/67 [==============================] - ETA: 0s - loss: 3.0633 - categorical_accuracy: 0.2112Source path =  /content/Project_data/val ; batch size = 10\n",
            "\n",
            "Epoch 00001: saving model to model_init_2022-01-0414_50_06.200503/model-00001-3.06329-0.21116-1.64008-0.20000.h5\n",
            "67/67 [==============================] - 256s 4s/step - loss: 3.0633 - categorical_accuracy: 0.2112 - val_loss: 1.6401 - val_categorical_accuracy: 0.2000 - lr: 0.0010\n",
            "Epoch 2/30\n",
            "67/67 [==============================] - ETA: 0s - loss: 3.2528 - categorical_accuracy: 0.2338\n",
            "Epoch 00002: saving model to model_init_2022-01-0414_50_06.200503/model-00002-3.25283-0.23383-1.64901-0.23000.h5\n",
            "67/67 [==============================] - 108s 2s/step - loss: 3.2528 - categorical_accuracy: 0.2338 - val_loss: 1.6490 - val_categorical_accuracy: 0.2300 - lr: 0.0010\n",
            "Epoch 3/30\n",
            "67/67 [==============================] - ETA: 0s - loss: 3.1822 - categorical_accuracy: 0.1791\n",
            "Epoch 00003: saving model to model_init_2022-01-0414_50_06.200503/model-00003-3.18222-0.17910-1.68561-0.23000.h5\n",
            "\n",
            "Epoch 00003: ReduceLROnPlateau reducing learning rate to 0.0005000000237487257.\n",
            "67/67 [==============================] - 107s 2s/step - loss: 3.1822 - categorical_accuracy: 0.1791 - val_loss: 1.6856 - val_categorical_accuracy: 0.2300 - lr: 0.0010\n",
            "Epoch 4/30\n",
            "67/67 [==============================] - ETA: 0s - loss: 3.1801 - categorical_accuracy: 0.1891\n",
            "Epoch 00004: saving model to model_init_2022-01-0414_50_06.200503/model-00004-3.18008-0.18905-1.68639-0.20000.h5\n",
            "67/67 [==============================] - 109s 2s/step - loss: 3.1801 - categorical_accuracy: 0.1891 - val_loss: 1.6864 - val_categorical_accuracy: 0.2000 - lr: 5.0000e-04\n",
            "Epoch 5/30\n",
            "67/67 [==============================] - ETA: 0s - loss: 3.1766 - categorical_accuracy: 0.2139\n",
            "Epoch 00005: saving model to model_init_2022-01-0414_50_06.200503/model-00005-3.17661-0.21393-1.69524-0.26000.h5\n",
            "\n",
            "Epoch 00005: ReduceLROnPlateau reducing learning rate to 0.0002500000118743628.\n",
            "67/67 [==============================] - 109s 2s/step - loss: 3.1766 - categorical_accuracy: 0.2139 - val_loss: 1.6952 - val_categorical_accuracy: 0.2600 - lr: 5.0000e-04\n",
            "Epoch 6/30\n",
            "67/67 [==============================] - ETA: 0s - loss: 3.1255 - categorical_accuracy: 0.1990\n",
            "Epoch 00006: saving model to model_init_2022-01-0414_50_06.200503/model-00006-3.12548-0.19900-1.65058-0.30000.h5\n",
            "67/67 [==============================] - 110s 2s/step - loss: 3.1255 - categorical_accuracy: 0.1990 - val_loss: 1.6506 - val_categorical_accuracy: 0.3000 - lr: 2.5000e-04\n",
            "Epoch 7/30\n",
            "67/67 [==============================] - ETA: 0s - loss: 3.2005 - categorical_accuracy: 0.1642\n",
            "Epoch 00007: saving model to model_init_2022-01-0414_50_06.200503/model-00007-3.20054-0.16418-1.70118-0.27000.h5\n",
            "\n",
            "Epoch 00007: ReduceLROnPlateau reducing learning rate to 0.0001250000059371814.\n",
            "67/67 [==============================] - 109s 2s/step - loss: 3.2005 - categorical_accuracy: 0.1642 - val_loss: 1.7012 - val_categorical_accuracy: 0.2700 - lr: 2.5000e-04\n",
            "Epoch 8/30\n",
            "67/67 [==============================] - ETA: 0s - loss: 2.7808 - categorical_accuracy: 0.2338\n",
            "Epoch 00008: saving model to model_init_2022-01-0414_50_06.200503/model-00008-2.78078-0.23383-1.70501-0.26000.h5\n",
            "67/67 [==============================] - 105s 2s/step - loss: 2.7808 - categorical_accuracy: 0.2338 - val_loss: 1.7050 - val_categorical_accuracy: 0.2600 - lr: 1.2500e-04\n",
            "Epoch 9/30\n",
            "67/67 [==============================] - ETA: 0s - loss: 2.9227 - categorical_accuracy: 0.2239\n",
            "Epoch 00009: saving model to model_init_2022-01-0414_50_06.200503/model-00009-2.92273-0.22388-1.74030-0.25000.h5\n",
            "\n",
            "Epoch 00009: ReduceLROnPlateau reducing learning rate to 6.25000029685907e-05.\n",
            "67/67 [==============================] - 108s 2s/step - loss: 2.9227 - categorical_accuracy: 0.2239 - val_loss: 1.7403 - val_categorical_accuracy: 0.2500 - lr: 1.2500e-04\n",
            "Epoch 10/30\n",
            "67/67 [==============================] - ETA: 0s - loss: 3.0598 - categorical_accuracy: 0.2139\n",
            "Epoch 00010: saving model to model_init_2022-01-0414_50_06.200503/model-00010-3.05976-0.21393-1.66467-0.34000.h5\n",
            "67/67 [==============================] - 107s 2s/step - loss: 3.0598 - categorical_accuracy: 0.2139 - val_loss: 1.6647 - val_categorical_accuracy: 0.3400 - lr: 6.2500e-05\n",
            "Epoch 11/30\n",
            "67/67 [==============================] - ETA: 0s - loss: 2.9781 - categorical_accuracy: 0.2289\n",
            "Epoch 00011: saving model to model_init_2022-01-0414_50_06.200503/model-00011-2.97809-0.22886-1.71913-0.30000.h5\n",
            "\n",
            "Epoch 00011: ReduceLROnPlateau reducing learning rate to 3.125000148429535e-05.\n",
            "67/67 [==============================] - 107s 2s/step - loss: 2.9781 - categorical_accuracy: 0.2289 - val_loss: 1.7191 - val_categorical_accuracy: 0.3000 - lr: 6.2500e-05\n",
            "Epoch 12/30\n",
            "67/67 [==============================] - ETA: 0s - loss: 3.1106 - categorical_accuracy: 0.2239\n",
            "Epoch 00012: saving model to model_init_2022-01-0414_50_06.200503/model-00012-3.11063-0.22388-1.67605-0.31000.h5\n",
            "67/67 [==============================] - 106s 2s/step - loss: 3.1106 - categorical_accuracy: 0.2239 - val_loss: 1.6760 - val_categorical_accuracy: 0.3100 - lr: 3.1250e-05\n",
            "Epoch 13/30\n",
            "67/67 [==============================] - ETA: 0s - loss: 2.8030 - categorical_accuracy: 0.2388\n",
            "Epoch 00013: saving model to model_init_2022-01-0414_50_06.200503/model-00013-2.80304-0.23881-1.70298-0.33000.h5\n",
            "\n",
            "Epoch 00013: ReduceLROnPlateau reducing learning rate to 1.5625000742147677e-05.\n",
            "67/67 [==============================] - 109s 2s/step - loss: 2.8030 - categorical_accuracy: 0.2388 - val_loss: 1.7030 - val_categorical_accuracy: 0.3300 - lr: 3.1250e-05\n",
            "Epoch 14/30\n",
            "67/67 [==============================] - ETA: 0s - loss: 2.7769 - categorical_accuracy: 0.1990\n",
            "Epoch 00014: saving model to model_init_2022-01-0414_50_06.200503/model-00014-2.77692-0.19900-1.67623-0.29000.h5\n",
            "67/67 [==============================] - 108s 2s/step - loss: 2.7769 - categorical_accuracy: 0.1990 - val_loss: 1.6762 - val_categorical_accuracy: 0.2900 - lr: 1.5625e-05\n",
            "Epoch 15/30\n",
            "67/67 [==============================] - ETA: 0s - loss: 3.2669 - categorical_accuracy: 0.1493\n",
            "Epoch 00015: saving model to model_init_2022-01-0414_50_06.200503/model-00015-3.26692-0.14925-1.77783-0.26000.h5\n",
            "\n",
            "Epoch 00015: ReduceLROnPlateau reducing learning rate to 7.812500371073838e-06.\n",
            "67/67 [==============================] - 111s 2s/step - loss: 3.2669 - categorical_accuracy: 0.1493 - val_loss: 1.7778 - val_categorical_accuracy: 0.2600 - lr: 1.5625e-05\n",
            "Epoch 16/30\n",
            "67/67 [==============================] - ETA: 0s - loss: 2.9615 - categorical_accuracy: 0.1841\n",
            "Epoch 00016: saving model to model_init_2022-01-0414_50_06.200503/model-00016-2.96149-0.18408-1.78709-0.30000.h5\n",
            "67/67 [==============================] - 106s 2s/step - loss: 2.9615 - categorical_accuracy: 0.1841 - val_loss: 1.7871 - val_categorical_accuracy: 0.3000 - lr: 7.8125e-06\n",
            "Epoch 17/30\n",
            "67/67 [==============================] - ETA: 0s - loss: 2.8661 - categorical_accuracy: 0.2189\n",
            "Epoch 00017: saving model to model_init_2022-01-0414_50_06.200503/model-00017-2.86611-0.21891-1.68293-0.34000.h5\n",
            "\n",
            "Epoch 00017: ReduceLROnPlateau reducing learning rate to 3.906250185536919e-06.\n",
            "67/67 [==============================] - 110s 2s/step - loss: 2.8661 - categorical_accuracy: 0.2189 - val_loss: 1.6829 - val_categorical_accuracy: 0.3400 - lr: 7.8125e-06\n",
            "Epoch 18/30\n",
            "67/67 [==============================] - ETA: 0s - loss: 3.2703 - categorical_accuracy: 0.2040\n",
            "Epoch 00018: saving model to model_init_2022-01-0414_50_06.200503/model-00018-3.27028-0.20398-1.70928-0.27000.h5\n",
            "67/67 [==============================] - 109s 2s/step - loss: 3.2703 - categorical_accuracy: 0.2040 - val_loss: 1.7093 - val_categorical_accuracy: 0.2700 - lr: 3.9063e-06\n",
            "Epoch 19/30\n",
            "67/67 [==============================] - ETA: 0s - loss: 2.8951 - categorical_accuracy: 0.1990\n",
            "Epoch 00019: saving model to model_init_2022-01-0414_50_06.200503/model-00019-2.89506-0.19900-1.74750-0.33000.h5\n",
            "\n",
            "Epoch 00019: ReduceLROnPlateau reducing learning rate to 1.9531250927684596e-06.\n",
            "67/67 [==============================] - 109s 2s/step - loss: 2.8951 - categorical_accuracy: 0.1990 - val_loss: 1.7475 - val_categorical_accuracy: 0.3300 - lr: 3.9063e-06\n",
            "Epoch 20/30\n",
            "67/67 [==============================] - ETA: 0s - loss: 2.8237 - categorical_accuracy: 0.2189\n",
            "Epoch 00020: saving model to model_init_2022-01-0414_50_06.200503/model-00020-2.82372-0.21891-1.72918-0.27000.h5\n",
            "67/67 [==============================] - 112s 2s/step - loss: 2.8237 - categorical_accuracy: 0.2189 - val_loss: 1.7292 - val_categorical_accuracy: 0.2700 - lr: 1.9531e-06\n",
            "Epoch 21/30\n",
            "67/67 [==============================] - ETA: 0s - loss: 2.8159 - categorical_accuracy: 0.2289\n",
            "Epoch 00021: saving model to model_init_2022-01-0414_50_06.200503/model-00021-2.81594-0.22886-1.72225-0.31000.h5\n",
            "\n",
            "Epoch 00021: ReduceLROnPlateau reducing learning rate to 9.765625463842298e-07.\n",
            "67/67 [==============================] - 107s 2s/step - loss: 2.8159 - categorical_accuracy: 0.2289 - val_loss: 1.7223 - val_categorical_accuracy: 0.3100 - lr: 1.9531e-06\n",
            "Epoch 22/30\n",
            "67/67 [==============================] - ETA: 0s - loss: 2.9851 - categorical_accuracy: 0.2388\n",
            "Epoch 00022: saving model to model_init_2022-01-0414_50_06.200503/model-00022-2.98510-0.23881-1.74914-0.30000.h5\n",
            "67/67 [==============================] - 109s 2s/step - loss: 2.9851 - categorical_accuracy: 0.2388 - val_loss: 1.7491 - val_categorical_accuracy: 0.3000 - lr: 9.7656e-07\n",
            "Epoch 23/30\n",
            "67/67 [==============================] - ETA: 0s - loss: 2.9937 - categorical_accuracy: 0.1990\n",
            "Epoch 00023: saving model to model_init_2022-01-0414_50_06.200503/model-00023-2.99375-0.19900-1.73415-0.30000.h5\n",
            "\n",
            "Epoch 00023: ReduceLROnPlateau reducing learning rate to 4.882812731921149e-07.\n",
            "67/67 [==============================] - 113s 2s/step - loss: 2.9937 - categorical_accuracy: 0.1990 - val_loss: 1.7341 - val_categorical_accuracy: 0.3000 - lr: 9.7656e-07\n",
            "Epoch 24/30\n",
            "67/67 [==============================] - ETA: 0s - loss: 2.9592 - categorical_accuracy: 0.1990\n",
            "Epoch 00024: saving model to model_init_2022-01-0414_50_06.200503/model-00024-2.95919-0.19900-1.60342-0.33000.h5\n",
            "67/67 [==============================] - 104s 2s/step - loss: 2.9592 - categorical_accuracy: 0.1990 - val_loss: 1.6034 - val_categorical_accuracy: 0.3300 - lr: 4.8828e-07\n",
            "Epoch 25/30\n",
            "67/67 [==============================] - ETA: 0s - loss: 2.9585 - categorical_accuracy: 0.2090\n",
            "Epoch 00025: saving model to model_init_2022-01-0414_50_06.200503/model-00025-2.95849-0.20896-1.74752-0.30000.h5\n",
            "67/67 [==============================] - 109s 2s/step - loss: 2.9585 - categorical_accuracy: 0.2090 - val_loss: 1.7475 - val_categorical_accuracy: 0.3000 - lr: 4.8828e-07\n",
            "Epoch 26/30\n",
            "67/67 [==============================] - ETA: 0s - loss: 3.1162 - categorical_accuracy: 0.1841\n",
            "Epoch 00026: saving model to model_init_2022-01-0414_50_06.200503/model-00026-3.11620-0.18408-1.71631-0.32000.h5\n",
            "\n",
            "Epoch 00026: ReduceLROnPlateau reducing learning rate to 2.4414063659605745e-07.\n",
            "67/67 [==============================] - 112s 2s/step - loss: 3.1162 - categorical_accuracy: 0.1841 - val_loss: 1.7163 - val_categorical_accuracy: 0.3200 - lr: 4.8828e-07\n",
            "Epoch 27/30\n",
            "67/67 [==============================] - ETA: 0s - loss: 2.9707 - categorical_accuracy: 0.1841\n",
            "Epoch 00027: saving model to model_init_2022-01-0414_50_06.200503/model-00027-2.97069-0.18408-1.75660-0.26000.h5\n",
            "67/67 [==============================] - 110s 2s/step - loss: 2.9707 - categorical_accuracy: 0.1841 - val_loss: 1.7566 - val_categorical_accuracy: 0.2600 - lr: 2.4414e-07\n",
            "Epoch 28/30\n",
            "67/67 [==============================] - ETA: 0s - loss: 2.9535 - categorical_accuracy: 0.1542\n",
            "Epoch 00028: saving model to model_init_2022-01-0414_50_06.200503/model-00028-2.95352-0.15423-1.68351-0.31000.h5\n",
            "\n",
            "Epoch 00028: ReduceLROnPlateau reducing learning rate to 1.2207031829802872e-07.\n",
            "67/67 [==============================] - 102s 2s/step - loss: 2.9535 - categorical_accuracy: 0.1542 - val_loss: 1.6835 - val_categorical_accuracy: 0.3100 - lr: 2.4414e-07\n",
            "Epoch 29/30\n",
            "67/67 [==============================] - ETA: 0s - loss: 3.2970 - categorical_accuracy: 0.1692\n",
            "Epoch 00029: saving model to model_init_2022-01-0414_50_06.200503/model-00029-3.29697-0.16915-1.79336-0.29000.h5\n",
            "67/67 [==============================] - 114s 2s/step - loss: 3.2970 - categorical_accuracy: 0.1692 - val_loss: 1.7934 - val_categorical_accuracy: 0.2900 - lr: 1.2207e-07\n",
            "Epoch 30/30\n",
            "67/67 [==============================] - ETA: 0s - loss: 2.6888 - categorical_accuracy: 0.2338\n",
            "Epoch 00030: saving model to model_init_2022-01-0414_50_06.200503/model-00030-2.68881-0.23383-1.73928-0.31000.h5\n",
            "\n",
            "Epoch 00030: ReduceLROnPlateau reducing learning rate to 6.103515914901436e-08.\n",
            "67/67 [==============================] - 109s 2s/step - loss: 2.6888 - categorical_accuracy: 0.2338 - val_loss: 1.7393 - val_categorical_accuracy: 0.3100 - lr: 1.2207e-07\n"
          ]
        },
        {
          "output_type": "execute_result",
          "data": {
            "text/plain": [
              "<keras.callbacks.History at 0x7fca95bdb510>"
            ]
          },
          "metadata": {},
          "execution_count": 34
        }
      ],
      "source": [
        "batch_size = 10\n",
        "train_generator = generator_ex(train_path, train_doc, batch_size)\n",
        "val_generator = generator_ex(val_path, val_doc, batch_size)\n",
        "num_epochs = 30\n",
        "model_f.fit_generator(train_generator, steps_per_epoch=steps_per_epoch, epochs=num_epochs, verbose=1, \n",
        "                    callbacks=callbacks_list, validation_data=val_generator, \n",
        "                    validation_steps=validation_steps, class_weight=None, workers=1, initial_epoch=0)"
      ]
    },
    {
      "cell_type": "markdown",
      "metadata": {
        "id": "hZ4E-d5V_e4u"
      },
      "source": [
        "### Model G Experiment [11]"
      ]
    },
    {
      "cell_type": "code",
      "execution_count": null,
      "metadata": {
        "id": "o3qchWbB_e4v",
        "colab": {
          "base_uri": "https://localhost:8080/"
        },
        "outputId": "ab14a86a-4347-4c3a-edcd-98aa5879c6ef"
      },
      "outputs": [
        {
          "output_type": "stream",
          "name": "stdout",
          "text": [
            "Model: \"sequential_8\"\n",
            "_________________________________________________________________\n",
            " Layer (type)                Output Shape              Param #   \n",
            "=================================================================\n",
            " conv3d_36 (Conv3D)          (None, 30, 120, 120, 8)   656       \n",
            "                                                                 \n",
            " batch_normalization_18 (Bat  (None, 30, 120, 120, 8)  32        \n",
            " chNormalization)                                                \n",
            "                                                                 \n",
            " activation_36 (Activation)  (None, 30, 120, 120, 8)   0         \n",
            "                                                                 \n",
            " max_pooling3d_26 (MaxPoolin  (None, 15, 60, 60, 8)    0         \n",
            " g3D)                                                            \n",
            "                                                                 \n",
            " conv3d_37 (Conv3D)          (None, 15, 60, 60, 16)    3472      \n",
            "                                                                 \n",
            " batch_normalization_19 (Bat  (None, 15, 60, 60, 16)   64        \n",
            " chNormalization)                                                \n",
            "                                                                 \n",
            " activation_37 (Activation)  (None, 15, 60, 60, 16)    0         \n",
            "                                                                 \n",
            " max_pooling3d_27 (MaxPoolin  (None, 7, 30, 30, 16)    0         \n",
            " g3D)                                                            \n",
            "                                                                 \n",
            " conv3d_38 (Conv3D)          (None, 7, 30, 30, 32)     4640      \n",
            "                                                                 \n",
            " batch_normalization_20 (Bat  (None, 7, 30, 30, 32)    128       \n",
            " chNormalization)                                                \n",
            "                                                                 \n",
            " activation_38 (Activation)  (None, 7, 30, 30, 32)     0         \n",
            "                                                                 \n",
            " max_pooling3d_28 (MaxPoolin  (None, 3, 15, 15, 32)    0         \n",
            " g3D)                                                            \n",
            "                                                                 \n",
            " conv3d_39 (Conv3D)          (None, 3, 15, 15, 64)     18496     \n",
            "                                                                 \n",
            " batch_normalization_21 (Bat  (None, 3, 15, 15, 64)    256       \n",
            " chNormalization)                                                \n",
            "                                                                 \n",
            " activation_39 (Activation)  (None, 3, 15, 15, 64)     0         \n",
            "                                                                 \n",
            " max_pooling3d_29 (MaxPoolin  (None, 1, 7, 7, 64)      0         \n",
            " g3D)                                                            \n",
            "                                                                 \n",
            " flatten_8 (Flatten)         (None, 3136)              0         \n",
            "                                                                 \n",
            " dense_20 (Dense)            (None, 1000)              3137000   \n",
            "                                                                 \n",
            " dropout_22 (Dropout)        (None, 1000)              0         \n",
            "                                                                 \n",
            " dense_21 (Dense)            (None, 500)               500500    \n",
            "                                                                 \n",
            " dropout_23 (Dropout)        (None, 500)               0         \n",
            "                                                                 \n",
            " dense_22 (Dense)            (None, 5)                 2505      \n",
            "                                                                 \n",
            "=================================================================\n",
            "Total params: 3,667,749\n",
            "Trainable params: 3,667,509\n",
            "Non-trainable params: 240\n",
            "_________________________________________________________________\n"
          ]
        }
      ],
      "source": [
        "x = 30 # number of frames\n",
        "y = 120 # image width\n",
        "z = 120 # image height \n",
        "\n",
        "classes = 5\n",
        "channel = 3\n",
        "nb_dense = [1000, 500, 5]\n",
        "\n",
        "input_shape=(x,y,z,channel)\n",
        "\n",
        "# Define model\n",
        "model_g = Sequential()\n",
        "\n",
        "model_g.add(Conv3D(nb_filters[0], \n",
        "                 kernel_size=(3,3,3), \n",
        "                 input_shape=input_shape,\n",
        "                 padding='same'))\n",
        "model_g.add(BatchNormalization())\n",
        "model_g.add(Activation('relu'))\n",
        "\n",
        "model_g.add(MaxPooling3D(pool_size=(2,2,2)))\n",
        "\n",
        "model_g.add(Conv3D(nb_filters[1], \n",
        "                 kernel_size=(3,3,3), \n",
        "                 padding='same'))\n",
        "model_g.add(BatchNormalization())\n",
        "model_g.add(Activation('relu'))\n",
        "\n",
        "model_g.add(MaxPooling3D(pool_size=(2,2,2)))\n",
        "\n",
        "model_g.add(Conv3D(nb_filters[2], \n",
        "                 kernel_size=(1,3,3), \n",
        "                 padding='same'))\n",
        "model_g.add(BatchNormalization())\n",
        "model_g.add(Activation('relu'))\n",
        "\n",
        "model_g.add(MaxPooling3D(pool_size=(2,2,2)))\n",
        "\n",
        "model_g.add(Conv3D(nb_filters[3], \n",
        "                 kernel_size=(1,3,3), \n",
        "                 padding='same'))\n",
        "model_g.add(BatchNormalization())\n",
        "model_g.add(Activation('relu'))\n",
        "\n",
        "model_g.add(MaxPooling3D(pool_size=(2,2,2)))\n",
        "\n",
        "#Flatten Layers\n",
        "model_g.add(Flatten())\n",
        "\n",
        "model_g.add(Dense(nb_dense[0], activation='relu'))\n",
        "model_g.add(Dropout(0.5))\n",
        "\n",
        "model_g.add(Dense(nb_dense[1], activation='relu'))\n",
        "model_g.add(Dropout(0.5))\n",
        "\n",
        "#softmax layer\n",
        "model_g.add(Dense(nb_dense[2], activation='softmax'))\n",
        "model_g.compile(optimizer=tf.keras.optimizers.Adam(), loss='categorical_crossentropy', metrics=['categorical_accuracy'])\n",
        "model_g.summary()"
      ]
    },
    {
      "cell_type": "code",
      "execution_count": null,
      "metadata": {
        "id": "Hi2M-wkm_e4v",
        "colab": {
          "base_uri": "https://localhost:8080/"
        },
        "outputId": "050f1113-92e7-4c2c-910c-a2f14b30b6a7"
      },
      "outputs": [
        {
          "output_type": "stream",
          "name": "stdout",
          "text": [
            "Source path =  /content/Project_data/train ; batch size = 10\n",
            "Epoch 1/10\n",
            "65/67 [============================>.] - ETA: 6s - loss: 3.1867 - categorical_accuracy: 0.1923 Batch:  67 Index: 10\n",
            "67/67 [==============================] - ETA: 0s - loss: 3.1865 - categorical_accuracy: 0.1916Source path =  /content/Project_data/val ; batch size = 10\n",
            "\n",
            "Epoch 00001: saving model to model_init_2022-01-0414_50_06.200503/model-00001-3.18650-0.19155-1.62603-0.20000.h5\n",
            "67/67 [==============================] - 271s 4s/step - loss: 3.1865 - categorical_accuracy: 0.1916 - val_loss: 1.6260 - val_categorical_accuracy: 0.2000 - lr: 0.0010\n",
            "Epoch 2/10\n",
            "67/67 [==============================] - ETA: 0s - loss: 2.9829 - categorical_accuracy: 0.2587\n",
            "Epoch 00002: saving model to model_init_2022-01-0414_50_06.200503/model-00002-2.98295-0.25871-1.63767-0.26000.h5\n",
            "67/67 [==============================] - 116s 2s/step - loss: 2.9829 - categorical_accuracy: 0.2587 - val_loss: 1.6377 - val_categorical_accuracy: 0.2600 - lr: 0.0010\n",
            "Epoch 3/10\n",
            "67/67 [==============================] - ETA: 0s - loss: 2.7639 - categorical_accuracy: 0.2239\n",
            "Epoch 00003: saving model to model_init_2022-01-0414_50_06.200503/model-00003-2.76391-0.22388-1.62688-0.24000.h5\n",
            "\n",
            "Epoch 00003: ReduceLROnPlateau reducing learning rate to 0.0005000000237487257.\n",
            "67/67 [==============================] - 110s 2s/step - loss: 2.7639 - categorical_accuracy: 0.2239 - val_loss: 1.6269 - val_categorical_accuracy: 0.2400 - lr: 0.0010\n",
            "Epoch 4/10\n",
            "67/67 [==============================] - ETA: 0s - loss: 3.0377 - categorical_accuracy: 0.2040\n",
            "Epoch 00004: saving model to model_init_2022-01-0414_50_06.200503/model-00004-3.03773-0.20398-1.56417-0.27000.h5\n",
            "67/67 [==============================] - 115s 2s/step - loss: 3.0377 - categorical_accuracy: 0.2040 - val_loss: 1.5642 - val_categorical_accuracy: 0.2700 - lr: 5.0000e-04\n",
            "Epoch 5/10\n",
            "67/67 [==============================] - ETA: 0s - loss: 2.5655 - categorical_accuracy: 0.2388\n",
            "Epoch 00005: saving model to model_init_2022-01-0414_50_06.200503/model-00005-2.56554-0.23881-1.63056-0.33000.h5\n",
            "67/67 [==============================] - 109s 2s/step - loss: 2.5655 - categorical_accuracy: 0.2388 - val_loss: 1.6306 - val_categorical_accuracy: 0.3300 - lr: 5.0000e-04\n",
            "Epoch 6/10\n",
            "67/67 [==============================] - ETA: 0s - loss: 2.7657 - categorical_accuracy: 0.2338\n",
            "Epoch 00006: saving model to model_init_2022-01-0414_50_06.200503/model-00006-2.76567-0.23383-1.49353-0.30000.h5\n",
            "67/67 [==============================] - 113s 2s/step - loss: 2.7657 - categorical_accuracy: 0.2338 - val_loss: 1.4935 - val_categorical_accuracy: 0.3000 - lr: 5.0000e-04\n",
            "Epoch 7/10\n",
            "67/67 [==============================] - ETA: 0s - loss: 3.0451 - categorical_accuracy: 0.2040\n",
            "Epoch 00007: saving model to model_init_2022-01-0414_50_06.200503/model-00007-3.04509-0.20398-1.55095-0.27000.h5\n",
            "67/67 [==============================] - 112s 2s/step - loss: 3.0451 - categorical_accuracy: 0.2040 - val_loss: 1.5510 - val_categorical_accuracy: 0.2700 - lr: 5.0000e-04\n",
            "Epoch 8/10\n",
            "67/67 [==============================] - ETA: 0s - loss: 2.9480 - categorical_accuracy: 0.2040\n",
            "Epoch 00008: saving model to model_init_2022-01-0414_50_06.200503/model-00008-2.94802-0.20398-1.55483-0.33000.h5\n",
            "\n",
            "Epoch 00008: ReduceLROnPlateau reducing learning rate to 0.0002500000118743628.\n",
            "67/67 [==============================] - 113s 2s/step - loss: 2.9480 - categorical_accuracy: 0.2040 - val_loss: 1.5548 - val_categorical_accuracy: 0.3300 - lr: 5.0000e-04\n",
            "Epoch 9/10\n",
            "67/67 [==============================] - ETA: 0s - loss: 3.1423 - categorical_accuracy: 0.2139\n",
            "Epoch 00009: saving model to model_init_2022-01-0414_50_06.200503/model-00009-3.14229-0.21393-1.57100-0.29000.h5\n",
            "67/67 [==============================] - 112s 2s/step - loss: 3.1423 - categorical_accuracy: 0.2139 - val_loss: 1.5710 - val_categorical_accuracy: 0.2900 - lr: 2.5000e-04\n",
            "Epoch 10/10\n",
            "67/67 [==============================] - ETA: 0s - loss: 2.5956 - categorical_accuracy: 0.2786\n",
            "Epoch 00010: saving model to model_init_2022-01-0414_50_06.200503/model-00010-2.59564-0.27861-1.54290-0.31000.h5\n",
            "\n",
            "Epoch 00010: ReduceLROnPlateau reducing learning rate to 0.0001250000059371814.\n",
            "67/67 [==============================] - 112s 2s/step - loss: 2.5956 - categorical_accuracy: 0.2786 - val_loss: 1.5429 - val_categorical_accuracy: 0.3100 - lr: 2.5000e-04\n"
          ]
        },
        {
          "output_type": "execute_result",
          "data": {
            "text/plain": [
              "<keras.callbacks.History at 0x7fca94dccb90>"
            ]
          },
          "metadata": {},
          "execution_count": 36
        }
      ],
      "source": [
        "batch_size = 10\n",
        "train_generator = generator_ex(train_path, train_doc, batch_size)\n",
        "val_generator = generator_ex(val_path, val_doc, batch_size)\n",
        "num_epochs = 10\n",
        "model_g.fit_generator(train_generator, steps_per_epoch=steps_per_epoch, epochs=num_epochs, verbose=1, \n",
        "                    callbacks=callbacks_list, validation_data=val_generator, \n",
        "                    validation_steps=validation_steps, class_weight=None, workers=1, initial_epoch=0)"
      ]
    },
    {
      "cell_type": "markdown",
      "metadata": {
        "id": "fj7w1zGQ_e4v"
      },
      "source": [
        "### Model H Experiment [12]"
      ]
    },
    {
      "cell_type": "code",
      "execution_count": null,
      "metadata": {
        "id": "6--46jph_e4v",
        "colab": {
          "base_uri": "https://localhost:8080/"
        },
        "outputId": "c5feaa37-1820-4dde-8b23-dced029b68da"
      },
      "outputs": [
        {
          "output_type": "stream",
          "name": "stdout",
          "text": [
            "Model: \"sequential_9\"\n",
            "_________________________________________________________________\n",
            " Layer (type)                Output Shape              Param #   \n",
            "=================================================================\n",
            " conv3d_40 (Conv3D)          (None, 30, 120, 120, 8)   656       \n",
            "                                                                 \n",
            " batch_normalization_22 (Bat  (None, 30, 120, 120, 8)  32        \n",
            " chNormalization)                                                \n",
            "                                                                 \n",
            " activation_40 (Activation)  (None, 30, 120, 120, 8)   0         \n",
            "                                                                 \n",
            " max_pooling3d_30 (MaxPoolin  (None, 15, 60, 60, 8)    0         \n",
            " g3D)                                                            \n",
            "                                                                 \n",
            " conv3d_41 (Conv3D)          (None, 15, 60, 60, 16)    3472      \n",
            "                                                                 \n",
            " batch_normalization_23 (Bat  (None, 15, 60, 60, 16)   64        \n",
            " chNormalization)                                                \n",
            "                                                                 \n",
            " activation_41 (Activation)  (None, 15, 60, 60, 16)    0         \n",
            "                                                                 \n",
            " max_pooling3d_31 (MaxPoolin  (None, 7, 30, 30, 16)    0         \n",
            " g3D)                                                            \n",
            "                                                                 \n",
            " conv3d_42 (Conv3D)          (None, 7, 30, 30, 32)     4640      \n",
            "                                                                 \n",
            " batch_normalization_24 (Bat  (None, 7, 30, 30, 32)    128       \n",
            " chNormalization)                                                \n",
            "                                                                 \n",
            " activation_42 (Activation)  (None, 7, 30, 30, 32)     0         \n",
            "                                                                 \n",
            " max_pooling3d_32 (MaxPoolin  (None, 3, 15, 15, 32)    0         \n",
            " g3D)                                                            \n",
            "                                                                 \n",
            " conv3d_43 (Conv3D)          (None, 3, 15, 15, 64)     18496     \n",
            "                                                                 \n",
            " batch_normalization_25 (Bat  (None, 3, 15, 15, 64)    256       \n",
            " chNormalization)                                                \n",
            "                                                                 \n",
            " activation_43 (Activation)  (None, 3, 15, 15, 64)     0         \n",
            "                                                                 \n",
            " max_pooling3d_33 (MaxPoolin  (None, 1, 7, 7, 64)      0         \n",
            " g3D)                                                            \n",
            "                                                                 \n",
            " flatten_9 (Flatten)         (None, 3136)              0         \n",
            "                                                                 \n",
            " dense_23 (Dense)            (None, 1000)              3137000   \n",
            "                                                                 \n",
            " dropout_24 (Dropout)        (None, 1000)              0         \n",
            "                                                                 \n",
            " dense_24 (Dense)            (None, 500)               500500    \n",
            "                                                                 \n",
            " dropout_25 (Dropout)        (None, 500)               0         \n",
            "                                                                 \n",
            " dense_25 (Dense)            (None, 5)                 2505      \n",
            "                                                                 \n",
            "=================================================================\n",
            "Total params: 3,667,749\n",
            "Trainable params: 3,667,509\n",
            "Non-trainable params: 240\n",
            "_________________________________________________________________\n"
          ]
        }
      ],
      "source": [
        "x = 30 # number of frames\n",
        "y = 120 # image width\n",
        "z = 120 # image height \n",
        "\n",
        "classes = 5\n",
        "channel = 3\n",
        "\n",
        "input_shape=(x,y,z,channel)\n",
        "\n",
        "# Define model\n",
        "model_h = Sequential()\n",
        "\n",
        "model_h.add(Conv3D(nb_filters[0], \n",
        "                 kernel_size=(3,3,3), \n",
        "                 input_shape=input_shape,\n",
        "                 padding='same'))\n",
        "model_h.add(BatchNormalization())\n",
        "model_h.add(Activation('relu'))\n",
        "\n",
        "model_h.add(MaxPooling3D(pool_size=(2,2,2)))\n",
        "\n",
        "model_h.add(Conv3D(nb_filters[1], \n",
        "                 kernel_size=(3,3,3), \n",
        "                 padding='same'))\n",
        "model_h.add(BatchNormalization())\n",
        "model_h.add(Activation('relu'))\n",
        "\n",
        "model_h.add(MaxPooling3D(pool_size=(2,2,2)))\n",
        "\n",
        "model_h.add(Conv3D(nb_filters[2], \n",
        "                 kernel_size=(1,3,3), \n",
        "                 padding='same'))\n",
        "model_h.add(BatchNormalization())\n",
        "model_h.add(Activation('relu'))\n",
        "\n",
        "model_h.add(MaxPooling3D(pool_size=(2,2,2)))\n",
        "\n",
        "model_h.add(Conv3D(nb_filters[3], \n",
        "                 kernel_size=(1,3,3), \n",
        "                 padding='same'))\n",
        "model_h.add(BatchNormalization())\n",
        "model_h.add(Activation('relu'))\n",
        "\n",
        "model_h.add(MaxPooling3D(pool_size=(2,2,2)))\n",
        "\n",
        "#Flatten Layers\n",
        "model_h.add(Flatten())\n",
        "\n",
        "model_h.add(Dense(nb_dense[0], activation='relu'))\n",
        "model_h.add(Dropout(0.5))\n",
        "\n",
        "model_h.add(Dense(nb_dense[1], activation='relu'))\n",
        "model_h.add(Dropout(0.5))\n",
        "\n",
        "#softmax layer\n",
        "model_h.add(Dense(nb_dense[2], activation='softmax'))\n",
        "model_h.compile(optimizer=tf.keras.optimizers.Adadelta(), loss='categorical_crossentropy', metrics=['categorical_accuracy'])\n",
        "model_h.summary()"
      ]
    },
    {
      "cell_type": "code",
      "execution_count": null,
      "metadata": {
        "id": "YwqBJgQj_e4w",
        "colab": {
          "base_uri": "https://localhost:8080/"
        },
        "outputId": "c74b70fc-eb31-4872-fa8b-2c76c34d305e"
      },
      "outputs": [
        {
          "output_type": "stream",
          "name": "stdout",
          "text": [
            "Source path =  /content/Project_data/train ; batch size = 10\n",
            "Epoch 1/10\n",
            "65/67 [============================>.] - ETA: 6s - loss: 2.8808 - categorical_accuracy: 0.2046 Batch:  67 Index: 10\n",
            "67/67 [==============================] - ETA: 0s - loss: 2.8778 - categorical_accuracy: 0.2021Source path =  /content/Project_data/val ; batch size = 10\n",
            "\n",
            "Epoch 00001: saving model to model_init_2022-01-0414_50_06.200503/model-00001-2.87776-0.20211-1.63510-0.17000.h5\n",
            "67/67 [==============================] - 308s 4s/step - loss: 2.8778 - categorical_accuracy: 0.2021 - val_loss: 1.6351 - val_categorical_accuracy: 0.1700 - lr: 0.0010\n",
            "Epoch 2/10\n",
            "67/67 [==============================] - ETA: 0s - loss: 2.9993 - categorical_accuracy: 0.2090\n",
            "Epoch 00002: saving model to model_init_2022-01-0414_50_06.200503/model-00002-2.99932-0.20896-1.66648-0.21000.h5\n",
            "67/67 [==============================] - 112s 2s/step - loss: 2.9993 - categorical_accuracy: 0.2090 - val_loss: 1.6665 - val_categorical_accuracy: 0.2100 - lr: 0.0010\n",
            "Epoch 3/10\n",
            "67/67 [==============================] - ETA: 0s - loss: 3.0424 - categorical_accuracy: 0.1791\n",
            "Epoch 00003: saving model to model_init_2022-01-0414_50_06.200503/model-00003-3.04243-0.17910-1.67109-0.22000.h5\n",
            "\n",
            "Epoch 00003: ReduceLROnPlateau reducing learning rate to 0.0005000000237487257.\n",
            "67/67 [==============================] - 108s 2s/step - loss: 3.0424 - categorical_accuracy: 0.1791 - val_loss: 1.6711 - val_categorical_accuracy: 0.2200 - lr: 0.0010\n",
            "Epoch 4/10\n",
            "67/67 [==============================] - ETA: 0s - loss: 2.8980 - categorical_accuracy: 0.2139\n",
            "Epoch 00004: saving model to model_init_2022-01-0414_50_06.200503/model-00004-2.89799-0.21393-1.65101-0.29000.h5\n",
            "67/67 [==============================] - 115s 2s/step - loss: 2.8980 - categorical_accuracy: 0.2139 - val_loss: 1.6510 - val_categorical_accuracy: 0.2900 - lr: 5.0000e-04\n",
            "Epoch 5/10\n",
            "67/67 [==============================] - ETA: 0s - loss: 2.7187 - categorical_accuracy: 0.1891\n",
            "Epoch 00005: saving model to model_init_2022-01-0414_50_06.200503/model-00005-2.71871-0.18905-1.66562-0.29000.h5\n",
            "\n",
            "Epoch 00005: ReduceLROnPlateau reducing learning rate to 0.0002500000118743628.\n",
            "67/67 [==============================] - 112s 2s/step - loss: 2.7187 - categorical_accuracy: 0.1891 - val_loss: 1.6656 - val_categorical_accuracy: 0.2900 - lr: 5.0000e-04\n",
            "Epoch 6/10\n",
            "67/67 [==============================] - ETA: 0s - loss: 2.8172 - categorical_accuracy: 0.2040\n",
            "Epoch 00006: saving model to model_init_2022-01-0414_50_06.200503/model-00006-2.81718-0.20398-1.65185-0.16000.h5\n",
            "67/67 [==============================] - 112s 2s/step - loss: 2.8172 - categorical_accuracy: 0.2040 - val_loss: 1.6518 - val_categorical_accuracy: 0.1600 - lr: 2.5000e-04\n",
            "Epoch 7/10\n",
            "67/67 [==============================] - ETA: 0s - loss: 2.8320 - categorical_accuracy: 0.2139\n",
            "Epoch 00007: saving model to model_init_2022-01-0414_50_06.200503/model-00007-2.83202-0.21393-1.63513-0.29000.h5\n",
            "\n",
            "Epoch 00007: ReduceLROnPlateau reducing learning rate to 0.0001250000059371814.\n",
            "67/67 [==============================] - 111s 2s/step - loss: 2.8320 - categorical_accuracy: 0.2139 - val_loss: 1.6351 - val_categorical_accuracy: 0.2900 - lr: 2.5000e-04\n",
            "Epoch 8/10\n",
            "67/67 [==============================] - ETA: 0s - loss: 2.8815 - categorical_accuracy: 0.1592\n",
            "Epoch 00008: saving model to model_init_2022-01-0414_50_06.200503/model-00008-2.88154-0.15920-1.63153-0.25000.h5\n",
            "67/67 [==============================] - 110s 2s/step - loss: 2.8815 - categorical_accuracy: 0.1592 - val_loss: 1.6315 - val_categorical_accuracy: 0.2500 - lr: 1.2500e-04\n",
            "Epoch 9/10\n",
            "67/67 [==============================] - ETA: 0s - loss: 2.6998 - categorical_accuracy: 0.1990\n",
            "Epoch 00009: saving model to model_init_2022-01-0414_50_06.200503/model-00009-2.69981-0.19900-1.63160-0.24000.h5\n",
            "67/67 [==============================] - 111s 2s/step - loss: 2.6998 - categorical_accuracy: 0.1990 - val_loss: 1.6316 - val_categorical_accuracy: 0.2400 - lr: 1.2500e-04\n",
            "Epoch 10/10\n",
            "67/67 [==============================] - ETA: 0s - loss: 2.6802 - categorical_accuracy: 0.2338\n",
            "Epoch 00010: saving model to model_init_2022-01-0414_50_06.200503/model-00010-2.68020-0.23383-1.67757-0.25000.h5\n",
            "\n",
            "Epoch 00010: ReduceLROnPlateau reducing learning rate to 6.25000029685907e-05.\n",
            "67/67 [==============================] - 112s 2s/step - loss: 2.6802 - categorical_accuracy: 0.2338 - val_loss: 1.6776 - val_categorical_accuracy: 0.2500 - lr: 1.2500e-04\n"
          ]
        },
        {
          "output_type": "execute_result",
          "data": {
            "text/plain": [
              "<keras.callbacks.History at 0x7fca94cef790>"
            ]
          },
          "metadata": {},
          "execution_count": 38
        }
      ],
      "source": [
        "batch_size = 10\n",
        "train_generator = generator_ex(train_path, train_doc, batch_size)\n",
        "val_generator = generator_ex(val_path, val_doc, batch_size)\n",
        "num_epochs = 10\n",
        "model_h.fit_generator(train_generator, steps_per_epoch=steps_per_epoch, epochs=num_epochs, verbose=1, \n",
        "                    callbacks=callbacks_list, validation_data=val_generator, \n",
        "                    validation_steps=validation_steps, class_weight=None, workers=1, initial_epoch=0)"
      ]
    },
    {
      "cell_type": "markdown",
      "metadata": {
        "id": "sgz1hlNK_e4w"
      },
      "source": [
        "### Model I Experiment [13]"
      ]
    },
    {
      "cell_type": "code",
      "source": [
        "nb_filters = [8,16,32,64]\n",
        "nb_dense = [256, 128, 5]\n",
        "\n",
        "# Input\n",
        "input_shape=(30,120,120,3)\n",
        "\n",
        "# Define model\n",
        "model_i = Sequential()\n",
        "\n",
        "model_i.add(Conv3D(nb_filters[0], \n",
        "                 kernel_size=(3,3,3), \n",
        "                 input_shape=input_shape,\n",
        "                 padding='same'))\n",
        "model_i.add(BatchNormalization())\n",
        "model_i.add(Activation('relu'))\n",
        "\n",
        "model_i.add(MaxPooling3D(pool_size=(2,2,2)))\n",
        "\n",
        "model_i.add(Conv3D(nb_filters[1], \n",
        "                 kernel_size=(3,3,3), \n",
        "                 padding='same'))\n",
        "model_i.add(BatchNormalization())\n",
        "model_i.add(Activation('relu'))\n",
        "\n",
        "model_i.add(MaxPooling3D(pool_size=(2,2,2)))\n",
        "\n",
        "model_i.add(Conv3D(nb_filters[2], \n",
        "                 kernel_size=(1,3,3), \n",
        "                 padding='same'))\n",
        "model_i.add(BatchNormalization())\n",
        "model_i.add(Activation('relu'))\n",
        "\n",
        "model_i.add(MaxPooling3D(pool_size=(2,2,2)))\n",
        "\n",
        "model_i.add(Conv3D(nb_filters[3], \n",
        "                 kernel_size=(1,3,3), \n",
        "                 padding='same'))\n",
        "model_i.add(Activation('relu'))\n",
        "model_i.add(Dropout(0.25))\n",
        "\n",
        "model_i.add(MaxPooling3D(pool_size=(2,2,2)))\n",
        "\n",
        "#Flatten Layers\n",
        "model_i.add(Flatten())\n",
        "\n",
        "model_i.add(Dense(nb_dense[0], activation='relu'))\n",
        "model_i.add(Dropout(0.25))\n",
        "\n",
        "model_i.add(Dense(nb_dense[1], activation='relu'))\n",
        "model_i.add(Dropout(0.25))\n",
        "\n",
        "#softmax layer\n",
        "model_i.add(Dense(nb_dense[2], activation='softmax'))"
      ],
      "metadata": {
        "id": "nT0UEh7mennZ"
      },
      "execution_count": 45,
      "outputs": []
    },
    {
      "cell_type": "code",
      "source": [
        "optimiser = tf.keras.optimizers.Adam() #write your optimizer\n",
        "model_i.compile(optimizer=optimiser, loss='categorical_crossentropy', metrics=['categorical_accuracy'])\n",
        "print (model_i.summary())"
      ],
      "metadata": {
        "colab": {
          "base_uri": "https://localhost:8080/"
        },
        "id": "isgidUvAenui",
        "outputId": "654e683d-53cd-4b34-a032-7f3c7933e386"
      },
      "execution_count": 46,
      "outputs": [
        {
          "output_type": "stream",
          "name": "stdout",
          "text": [
            "Model: \"sequential_13\"\n",
            "_________________________________________________________________\n",
            " Layer (type)                Output Shape              Param #   \n",
            "=================================================================\n",
            " conv3d_31 (Conv3D)          (None, 30, 120, 120, 8)   656       \n",
            "                                                                 \n",
            " batch_normalization_48 (Bat  (None, 30, 120, 120, 8)  32        \n",
            " chNormalization)                                                \n",
            "                                                                 \n",
            " activation_31 (Activation)  (None, 30, 120, 120, 8)   0         \n",
            "                                                                 \n",
            " max_pooling3d_31 (MaxPoolin  (None, 15, 60, 60, 8)    0         \n",
            " g3D)                                                            \n",
            "                                                                 \n",
            " conv3d_32 (Conv3D)          (None, 15, 60, 60, 16)    3472      \n",
            "                                                                 \n",
            " batch_normalization_49 (Bat  (None, 15, 60, 60, 16)   64        \n",
            " chNormalization)                                                \n",
            "                                                                 \n",
            " activation_32 (Activation)  (None, 15, 60, 60, 16)    0         \n",
            "                                                                 \n",
            " max_pooling3d_32 (MaxPoolin  (None, 7, 30, 30, 16)    0         \n",
            " g3D)                                                            \n",
            "                                                                 \n",
            " conv3d_33 (Conv3D)          (None, 7, 30, 30, 32)     4640      \n",
            "                                                                 \n",
            " batch_normalization_50 (Bat  (None, 7, 30, 30, 32)    128       \n",
            " chNormalization)                                                \n",
            "                                                                 \n",
            " activation_33 (Activation)  (None, 7, 30, 30, 32)     0         \n",
            "                                                                 \n",
            " max_pooling3d_33 (MaxPoolin  (None, 3, 15, 15, 32)    0         \n",
            " g3D)                                                            \n",
            "                                                                 \n",
            " conv3d_34 (Conv3D)          (None, 3, 15, 15, 64)     18496     \n",
            "                                                                 \n",
            " activation_34 (Activation)  (None, 3, 15, 15, 64)     0         \n",
            "                                                                 \n",
            " dropout_24 (Dropout)        (None, 3, 15, 15, 64)     0         \n",
            "                                                                 \n",
            " max_pooling3d_34 (MaxPoolin  (None, 1, 7, 7, 64)      0         \n",
            " g3D)                                                            \n",
            "                                                                 \n",
            " flatten_9 (Flatten)         (None, 3136)              0         \n",
            "                                                                 \n",
            " dense_19 (Dense)            (None, 256)               803072    \n",
            "                                                                 \n",
            " dropout_25 (Dropout)        (None, 256)               0         \n",
            "                                                                 \n",
            " dense_20 (Dense)            (None, 128)               32896     \n",
            "                                                                 \n",
            " dropout_26 (Dropout)        (None, 128)               0         \n",
            "                                                                 \n",
            " dense_21 (Dense)            (None, 5)                 645       \n",
            "                                                                 \n",
            "=================================================================\n",
            "Total params: 864,101\n",
            "Trainable params: 863,989\n",
            "Non-trainable params: 112\n",
            "_________________________________________________________________\n",
            "None\n"
          ]
        }
      ]
    },
    {
      "cell_type": "code",
      "source": [
        "train_generator = generator_ex(train_path, train_doc, batch_size)\n",
        "val_generator = generator_ex(val_path, val_doc, batch_size)"
      ],
      "metadata": {
        "id": "8LB7XPjfenyl"
      },
      "execution_count": 39,
      "outputs": []
    },
    {
      "cell_type": "code",
      "source": [
        "batch_size = 32\n",
        "num_epochs = 10\n",
        "model_i.fit_generator(train_generator, steps_per_epoch=steps_per_epoch, epochs=num_epochs, verbose=1, \n",
        "                    callbacks=callbacks_list, validation_data=val_generator, \n",
        "                    validation_steps=validation_steps, class_weight=None, workers=1, initial_epoch=0)"
      ],
      "metadata": {
        "colab": {
          "base_uri": "https://localhost:8080/"
        },
        "id": "Sqsym1ehen4e",
        "outputId": "c2a8b207-00d6-4f41-f027-8179fbd48300"
      },
      "execution_count": 40,
      "outputs": [
        {
          "output_type": "stream",
          "name": "stdout",
          "text": [
            "Source path =  /content/Project_data/train ; batch size = 32\n",
            "Epoch 1/10\n",
            "19/67 [=======>......................] - ETA: 8:35 - loss: 1.8896 - categorical_accuracy: 0.3026Batch:  21 Index: 32\n",
            "48/67 [====================>.........] - ETA: 2:52 - loss: 1.5566 - categorical_accuracy: 0.3785Batch:  29 Index: 23\n",
            "67/67 [==============================] - ETA: 0s - loss: 1.4594 - categorical_accuracy: 0.4069Source path =  /content/Project_data/val ; batch size = 32\n",
            "Batch:  4 Index: 32\n",
            "\n",
            "Epoch 00001: saving model to model_init_2022-01-0509_46_52.560445/model-00001-1.45936-0.40691-1.33915-0.41129.h5\n",
            "67/67 [==============================] - 605s 9s/step - loss: 1.4594 - categorical_accuracy: 0.4069 - val_loss: 1.3392 - val_categorical_accuracy: 0.4113 - lr: 0.0010\n",
            "Epoch 2/10\n",
            "16/67 [======>.......................] - ETA: 5:18 - loss: 1.1318 - categorical_accuracy: 0.5559Batch:  35 Index: 19\n",
            "67/67 [==============================] - ETA: 0s - loss: 0.9479 - categorical_accuracy: 0.6249\n",
            "Epoch 00002: saving model to model_init_2022-01-0509_46_52.560445/model-00002-0.94791-0.62489-1.44426-0.35000.h5\n",
            "67/67 [==============================] - 412s 6s/step - loss: 0.9479 - categorical_accuracy: 0.6249 - val_loss: 1.4443 - val_categorical_accuracy: 0.3500 - lr: 0.0010\n",
            "Epoch 3/10\n",
            "67/67 [==============================] - ETA: 0s - loss: 0.7688 - categorical_accuracy: 0.7173\n",
            "Epoch 00003: saving model to model_init_2022-01-0509_46_52.560445/model-00003-0.76883-0.71730-0.97189-0.62500.h5\n",
            "67/67 [==============================] - 400s 6s/step - loss: 0.7688 - categorical_accuracy: 0.7173 - val_loss: 0.9719 - val_categorical_accuracy: 0.6250 - lr: 0.0010\n",
            "Epoch 4/10\n",
            "67/67 [==============================] - ETA: 0s - loss: 0.5320 - categorical_accuracy: 0.8068\n",
            "Epoch 00004: saving model to model_init_2022-01-0509_46_52.560445/model-00004-0.53202-0.80685-0.88452-0.67500.h5\n",
            "67/67 [==============================] - 396s 6s/step - loss: 0.5320 - categorical_accuracy: 0.8068 - val_loss: 0.8845 - val_categorical_accuracy: 0.6750 - lr: 0.0010\n",
            "Epoch 5/10\n",
            "67/67 [==============================] - ETA: 0s - loss: 0.3901 - categorical_accuracy: 0.8507\n",
            "Epoch 00005: saving model to model_init_2022-01-0509_46_52.560445/model-00005-0.39013-0.85075-0.93615-0.60000.h5\n",
            "67/67 [==============================] - 396s 6s/step - loss: 0.3901 - categorical_accuracy: 0.8507 - val_loss: 0.9362 - val_categorical_accuracy: 0.6000 - lr: 0.0010\n",
            "Epoch 6/10\n",
            "67/67 [==============================] - ETA: 0s - loss: 0.2773 - categorical_accuracy: 0.8973\n",
            "Epoch 00006: saving model to model_init_2022-01-0509_46_52.560445/model-00006-0.27727-0.89728-1.06135-0.65000.h5\n",
            "\n",
            "Epoch 00006: ReduceLROnPlateau reducing learning rate to 0.0005000000237487257.\n",
            "67/67 [==============================] - 386s 6s/step - loss: 0.2773 - categorical_accuracy: 0.8973 - val_loss: 1.0614 - val_categorical_accuracy: 0.6500 - lr: 0.0010\n",
            "Epoch 7/10\n",
            "67/67 [==============================] - ETA: 0s - loss: 0.1313 - categorical_accuracy: 0.9517\n",
            "Epoch 00007: saving model to model_init_2022-01-0509_46_52.560445/model-00007-0.13132-0.95171-0.83207-0.72500.h5\n",
            "67/67 [==============================] - 384s 6s/step - loss: 0.1313 - categorical_accuracy: 0.9517 - val_loss: 0.8321 - val_categorical_accuracy: 0.7250 - lr: 5.0000e-04\n",
            "Epoch 8/10\n",
            "67/67 [==============================] - ETA: 0s - loss: 0.0759 - categorical_accuracy: 0.9763\n",
            "Epoch 00008: saving model to model_init_2022-01-0509_46_52.560445/model-00008-0.07590-0.97629-1.47239-0.60000.h5\n",
            "67/67 [==============================] - 392s 6s/step - loss: 0.0759 - categorical_accuracy: 0.9763 - val_loss: 1.4724 - val_categorical_accuracy: 0.6000 - lr: 5.0000e-04\n",
            "Epoch 9/10\n",
            "67/67 [==============================] - ETA: 0s - loss: 0.0697 - categorical_accuracy: 0.9745\n",
            "Epoch 00009: saving model to model_init_2022-01-0509_46_52.560445/model-00009-0.06966-0.97454-0.93565-0.67500.h5\n",
            "\n",
            "Epoch 00009: ReduceLROnPlateau reducing learning rate to 0.0002500000118743628.\n",
            "67/67 [==============================] - 399s 6s/step - loss: 0.0697 - categorical_accuracy: 0.9745 - val_loss: 0.9356 - val_categorical_accuracy: 0.6750 - lr: 5.0000e-04\n",
            "Epoch 10/10\n",
            "67/67 [==============================] - ETA: 0s - loss: 0.0374 - categorical_accuracy: 0.9903\n",
            "Epoch 00010: saving model to model_init_2022-01-0509_46_52.560445/model-00010-0.03735-0.99034-0.75413-0.75000.h5\n",
            "67/67 [==============================] - 394s 6s/step - loss: 0.0374 - categorical_accuracy: 0.9903 - val_loss: 0.7541 - val_categorical_accuracy: 0.7500 - lr: 2.5000e-04\n"
          ]
        },
        {
          "output_type": "execute_result",
          "data": {
            "text/plain": [
              "<keras.callbacks.History at 0x7f1261530dd0>"
            ]
          },
          "metadata": {},
          "execution_count": 40
        }
      ]
    },
    {
      "cell_type": "markdown",
      "metadata": {
        "id": "SYBaMKlM_e4w"
      },
      "source": [
        "### Final Model"
      ]
    },
    {
      "cell_type": "code",
      "execution_count": 15,
      "metadata": {
        "id": "qLQMk_EH_e4w"
      },
      "outputs": [],
      "source": [
        "nb_filters = [8,16,32,64]\n",
        "nb_dense = [256, 128, 5]\n",
        "\n",
        "# Input\n",
        "input_shape=(30,120,120,3)\n",
        "\n",
        "# Define model\n",
        "model_final = Sequential()\n",
        "\n",
        "model_final.add(Conv3D(nb_filters[0], \n",
        "                 kernel_size=(3,3,3), \n",
        "                 input_shape=input_shape,\n",
        "                 padding='same'))\n",
        "model_final.add(BatchNormalization())\n",
        "model_final.add(Activation('relu'))\n",
        "\n",
        "model_final.add(MaxPooling3D(pool_size=(2,2,2)))\n",
        "\n",
        "model_final.add(Conv3D(nb_filters[1], \n",
        "                 kernel_size=(3,3,3), \n",
        "                 padding='same'))\n",
        "model_final.add(BatchNormalization())\n",
        "model_final.add(Activation('relu'))\n",
        "\n",
        "model_final.add(MaxPooling3D(pool_size=(2,2,2)))\n",
        "\n",
        "model_final.add(Conv3D(nb_filters[2], \n",
        "                 kernel_size=(1,3,3), \n",
        "                 padding='same'))\n",
        "model_final.add(BatchNormalization())\n",
        "model_final.add(Activation('relu'))\n",
        "\n",
        "model_final.add(MaxPooling3D(pool_size=(2,2,2)))\n",
        "\n",
        "model_final.add(Conv3D(nb_filters[3], \n",
        "                 kernel_size=(1,3,3), \n",
        "                 padding='same'))\n",
        "model_final.add(Activation('relu'))\n",
        "model_final.add(Dropout(0.25))\n",
        "\n",
        "model_final.add(MaxPooling3D(pool_size=(2,2,2)))\n",
        "\n",
        "#Flatten Layers\n",
        "model_final.add(Flatten())\n",
        "\n",
        "model_final.add(Dense(nb_dense[0], activation='relu'))\n",
        "model_final.add(Dropout(0.5))\n",
        "\n",
        "model_final.add(Dense(nb_dense[1], activation='relu'))\n",
        "model_final.add(Dropout(0.5))\n",
        "\n",
        "#softmax layer\n",
        "model_final.add(Dense(nb_dense[2], activation='softmax'))"
      ]
    },
    {
      "cell_type": "code",
      "execution_count": 16,
      "metadata": {
        "id": "Fjo88WQx_e4x",
        "colab": {
          "base_uri": "https://localhost:8080/"
        },
        "outputId": "e7976bf2-3fce-4948-cb99-ea934515d516"
      },
      "outputs": [
        {
          "output_type": "stream",
          "name": "stdout",
          "text": [
            "Model: \"sequential_1\"\n",
            "_________________________________________________________________\n",
            " Layer (type)                Output Shape              Param #   \n",
            "=================================================================\n",
            " conv3d_4 (Conv3D)           (None, 30, 120, 120, 8)   656       \n",
            "                                                                 \n",
            " batch_normalization_4 (Batc  (None, 30, 120, 120, 8)  32        \n",
            " hNormalization)                                                 \n",
            "                                                                 \n",
            " activation_4 (Activation)   (None, 30, 120, 120, 8)   0         \n",
            "                                                                 \n",
            " max_pooling3d_4 (MaxPooling  (None, 15, 60, 60, 8)    0         \n",
            " 3D)                                                             \n",
            "                                                                 \n",
            " conv3d_5 (Conv3D)           (None, 15, 60, 60, 16)    3472      \n",
            "                                                                 \n",
            " batch_normalization_5 (Batc  (None, 15, 60, 60, 16)   64        \n",
            " hNormalization)                                                 \n",
            "                                                                 \n",
            " activation_5 (Activation)   (None, 15, 60, 60, 16)    0         \n",
            "                                                                 \n",
            " max_pooling3d_5 (MaxPooling  (None, 7, 30, 30, 16)    0         \n",
            " 3D)                                                             \n",
            "                                                                 \n",
            " conv3d_6 (Conv3D)           (None, 7, 30, 30, 32)     4640      \n",
            "                                                                 \n",
            " batch_normalization_6 (Batc  (None, 7, 30, 30, 32)    128       \n",
            " hNormalization)                                                 \n",
            "                                                                 \n",
            " activation_6 (Activation)   (None, 7, 30, 30, 32)     0         \n",
            "                                                                 \n",
            " max_pooling3d_6 (MaxPooling  (None, 3, 15, 15, 32)    0         \n",
            " 3D)                                                             \n",
            "                                                                 \n",
            " conv3d_7 (Conv3D)           (None, 3, 15, 15, 64)     18496     \n",
            "                                                                 \n",
            " activation_7 (Activation)   (None, 3, 15, 15, 64)     0         \n",
            "                                                                 \n",
            " dropout_2 (Dropout)         (None, 3, 15, 15, 64)     0         \n",
            "                                                                 \n",
            " max_pooling3d_7 (MaxPooling  (None, 1, 7, 7, 64)      0         \n",
            " 3D)                                                             \n",
            "                                                                 \n",
            " flatten_1 (Flatten)         (None, 3136)              0         \n",
            "                                                                 \n",
            " dense_3 (Dense)             (None, 256)               803072    \n",
            "                                                                 \n",
            " dropout_3 (Dropout)         (None, 256)               0         \n",
            "                                                                 \n",
            " dense_4 (Dense)             (None, 128)               32896     \n",
            "                                                                 \n",
            " dropout_4 (Dropout)         (None, 128)               0         \n",
            "                                                                 \n",
            " dense_5 (Dense)             (None, 5)                 645       \n",
            "                                                                 \n",
            "=================================================================\n",
            "Total params: 864,101\n",
            "Trainable params: 863,989\n",
            "Non-trainable params: 112\n",
            "_________________________________________________________________\n",
            "None\n"
          ]
        }
      ],
      "source": [
        "optimiser = tf.keras.optimizers.Adam() #write your optimizer\n",
        "model_final.compile(optimizer=optimiser, loss='categorical_crossentropy', metrics=['categorical_accuracy'])\n",
        "print (model_final.summary())"
      ]
    },
    {
      "cell_type": "code",
      "execution_count": 17,
      "metadata": {
        "id": "6NcdwS8j_e4x"
      },
      "outputs": [],
      "source": [
        "train_generator = generator_ex(train_path, train_doc, batch_size)\n",
        "val_generator = generator_ex(val_path, val_doc, batch_size)"
      ]
    },
    {
      "cell_type": "code",
      "execution_count": null,
      "metadata": {
        "id": "9-0DnfMg_e4x",
        "colab": {
          "base_uri": "https://localhost:8080/"
        },
        "outputId": "aee4860d-4a8a-40b5-cca0-e26e2ec78106"
      },
      "outputs": [
        {
          "output_type": "stream",
          "name": "stdout",
          "text": [
            "Source path =  /content/Project_data/train ; batch size = 10\n",
            "Epoch 1/20\n",
            "65/67 [============================>.] - ETA: 6s - loss: 1.8880 - categorical_accuracy: 0.2600 Batch:  67 Index: 10\n",
            "67/67 [==============================] - ETA: 0s - loss: 1.8812 - categorical_accuracy: 0.2594Source path =  /content/Project_data/val ; batch size = 10\n",
            "\n",
            "Epoch 00001: saving model to model_init_2022-01-0420_33_47.813370/model-00001-1.88119-0.25943-1.57367-0.32000.h5\n",
            "67/67 [==============================] - 272s 4s/step - loss: 1.8812 - categorical_accuracy: 0.2594 - val_loss: 1.5737 - val_categorical_accuracy: 0.3200 - lr: 0.0010\n",
            "Epoch 2/20\n",
            "67/67 [==============================] - ETA: 0s - loss: 1.5355 - categorical_accuracy: 0.3532\n",
            "Epoch 00002: saving model to model_init_2022-01-0420_33_47.813370/model-00002-1.53549-0.35323-1.56012-0.27000.h5\n",
            "67/67 [==============================] - 112s 2s/step - loss: 1.5355 - categorical_accuracy: 0.3532 - val_loss: 1.5601 - val_categorical_accuracy: 0.2700 - lr: 0.0010\n",
            "Epoch 3/20\n",
            "67/67 [==============================] - ETA: 0s - loss: 1.4821 - categorical_accuracy: 0.3234\n",
            "Epoch 00003: saving model to model_init_2022-01-0420_33_47.813370/model-00003-1.48212-0.32338-1.43723-0.32000.h5\n",
            "67/67 [==============================] - 118s 2s/step - loss: 1.4821 - categorical_accuracy: 0.3234 - val_loss: 1.4372 - val_categorical_accuracy: 0.3200 - lr: 0.0010\n",
            "Epoch 4/20\n",
            "67/67 [==============================] - ETA: 0s - loss: 1.4360 - categorical_accuracy: 0.3483\n",
            "Epoch 00004: saving model to model_init_2022-01-0420_33_47.813370/model-00004-1.43601-0.34826-1.64630-0.24000.h5\n",
            "67/67 [==============================] - 115s 2s/step - loss: 1.4360 - categorical_accuracy: 0.3483 - val_loss: 1.6463 - val_categorical_accuracy: 0.2400 - lr: 0.0010\n",
            "Epoch 5/20\n",
            "67/67 [==============================] - ETA: 0s - loss: 1.4937 - categorical_accuracy: 0.3483\n",
            "Epoch 00005: saving model to model_init_2022-01-0420_33_47.813370/model-00005-1.49367-0.34826-1.38645-0.44000.h5\n",
            "67/67 [==============================] - 115s 2s/step - loss: 1.4937 - categorical_accuracy: 0.3483 - val_loss: 1.3864 - val_categorical_accuracy: 0.4400 - lr: 0.0010\n",
            "Epoch 6/20\n",
            "67/67 [==============================] - ETA: 0s - loss: 1.4206 - categorical_accuracy: 0.3881\n",
            "Epoch 00006: saving model to model_init_2022-01-0420_33_47.813370/model-00006-1.42060-0.38806-1.40452-0.30000.h5\n",
            "67/67 [==============================] - 111s 2s/step - loss: 1.4206 - categorical_accuracy: 0.3881 - val_loss: 1.4045 - val_categorical_accuracy: 0.3000 - lr: 0.0010\n",
            "Epoch 7/20\n",
            "67/67 [==============================] - ETA: 0s - loss: 1.4352 - categorical_accuracy: 0.3483\n",
            "Epoch 00007: saving model to model_init_2022-01-0420_33_47.813370/model-00007-1.43521-0.34826-1.22428-0.53000.h5\n",
            "67/67 [==============================] - 119s 2s/step - loss: 1.4352 - categorical_accuracy: 0.3483 - val_loss: 1.2243 - val_categorical_accuracy: 0.5300 - lr: 0.0010\n",
            "Epoch 8/20\n",
            "67/67 [==============================] - ETA: 0s - loss: 1.3897 - categorical_accuracy: 0.3632\n",
            "Epoch 00008: saving model to model_init_2022-01-0420_33_47.813370/model-00008-1.38967-0.36318-1.24054-0.43000.h5\n",
            "67/67 [==============================] - 120s 2s/step - loss: 1.3897 - categorical_accuracy: 0.3632 - val_loss: 1.2405 - val_categorical_accuracy: 0.4300 - lr: 0.0010\n",
            "Epoch 9/20\n",
            "67/67 [==============================] - ETA: 0s - loss: 1.3419 - categorical_accuracy: 0.4677\n",
            "Epoch 00009: saving model to model_init_2022-01-0420_33_47.813370/model-00009-1.34192-0.46766-1.21827-0.44000.h5\n",
            "67/67 [==============================] - 113s 2s/step - loss: 1.3419 - categorical_accuracy: 0.4677 - val_loss: 1.2183 - val_categorical_accuracy: 0.4400 - lr: 0.0010\n",
            "Epoch 10/20\n",
            "67/67 [==============================] - ETA: 0s - loss: 1.4369 - categorical_accuracy: 0.4378\n",
            "Epoch 00010: saving model to model_init_2022-01-0420_33_47.813370/model-00010-1.43685-0.43781-1.33830-0.58000.h5\n",
            "67/67 [==============================] - 113s 2s/step - loss: 1.4369 - categorical_accuracy: 0.4378 - val_loss: 1.3383 - val_categorical_accuracy: 0.5800 - lr: 0.0010\n",
            "Epoch 11/20\n",
            "67/67 [==============================] - ETA: 0s - loss: 1.2797 - categorical_accuracy: 0.4229\n",
            "Epoch 00011: saving model to model_init_2022-01-0420_33_47.813370/model-00011-1.27967-0.42289-1.19399-0.48000.h5\n",
            "67/67 [==============================] - 113s 2s/step - loss: 1.2797 - categorical_accuracy: 0.4229 - val_loss: 1.1940 - val_categorical_accuracy: 0.4800 - lr: 0.0010\n",
            "Epoch 12/20\n",
            "67/67 [==============================] - ETA: 0s - loss: 1.2875 - categorical_accuracy: 0.5224\n",
            "Epoch 00012: saving model to model_init_2022-01-0420_33_47.813370/model-00012-1.28753-0.52239-1.28202-0.44000.h5\n",
            "67/67 [==============================] - 118s 2s/step - loss: 1.2875 - categorical_accuracy: 0.5224 - val_loss: 1.2820 - val_categorical_accuracy: 0.4400 - lr: 0.0010\n",
            "Epoch 13/20\n",
            "67/67 [==============================] - ETA: 0s - loss: 1.2195 - categorical_accuracy: 0.5025\n",
            "Epoch 00013: saving model to model_init_2022-01-0420_33_47.813370/model-00013-1.21946-0.50249-1.02875-0.63000.h5\n",
            "67/67 [==============================] - 111s 2s/step - loss: 1.2195 - categorical_accuracy: 0.5025 - val_loss: 1.0288 - val_categorical_accuracy: 0.6300 - lr: 0.0010\n",
            "Epoch 14/20\n",
            "67/67 [==============================] - ETA: 0s - loss: 1.1787 - categorical_accuracy: 0.5373\n",
            "Epoch 00014: saving model to model_init_2022-01-0420_33_47.813370/model-00014-1.17867-0.53731-1.03999-0.60000.h5\n",
            "67/67 [==============================] - 111s 2s/step - loss: 1.1787 - categorical_accuracy: 0.5373 - val_loss: 1.0400 - val_categorical_accuracy: 0.6000 - lr: 0.0010\n",
            "Epoch 15/20\n",
            "67/67 [==============================] - ETA: 0s - loss: 1.1608 - categorical_accuracy: 0.5572\n",
            "Epoch 00015: saving model to model_init_2022-01-0420_33_47.813370/model-00015-1.16084-0.55721-1.00446-0.55000.h5\n",
            "67/67 [==============================] - 115s 2s/step - loss: 1.1608 - categorical_accuracy: 0.5572 - val_loss: 1.0045 - val_categorical_accuracy: 0.5500 - lr: 0.0010\n",
            "Epoch 16/20\n",
            "67/67 [==============================] - ETA: 0s - loss: 1.1764 - categorical_accuracy: 0.5025\n",
            "Epoch 00016: saving model to model_init_2022-01-0420_33_47.813370/model-00016-1.17638-0.50249-1.67958-0.22000.h5\n",
            "67/67 [==============================] - 112s 2s/step - loss: 1.1764 - categorical_accuracy: 0.5025 - val_loss: 1.6796 - val_categorical_accuracy: 0.2200 - lr: 0.0010\n",
            "Epoch 17/20\n",
            "67/67 [==============================] - ETA: 0s - loss: 1.1809 - categorical_accuracy: 0.4925\n",
            "Epoch 00017: saving model to model_init_2022-01-0420_33_47.813370/model-00017-1.18086-0.49254-1.28982-0.43000.h5\n",
            "\n",
            "Epoch 00017: ReduceLROnPlateau reducing learning rate to 0.0005000000237487257.\n",
            "67/67 [==============================] - 109s 2s/step - loss: 1.1809 - categorical_accuracy: 0.4925 - val_loss: 1.2898 - val_categorical_accuracy: 0.4300 - lr: 0.0010\n",
            "Epoch 18/20\n",
            "67/67 [==============================] - ETA: 0s - loss: 1.0104 - categorical_accuracy: 0.5572\n",
            "Epoch 00018: saving model to model_init_2022-01-0420_33_47.813370/model-00018-1.01037-0.55721-0.97207-0.58000.h5\n",
            "67/67 [==============================] - 116s 2s/step - loss: 1.0104 - categorical_accuracy: 0.5572 - val_loss: 0.9721 - val_categorical_accuracy: 0.5800 - lr: 5.0000e-04\n",
            "Epoch 19/20\n",
            "67/67 [==============================] - ETA: 0s - loss: 0.9425 - categorical_accuracy: 0.6219\n",
            "Epoch 00019: saving model to model_init_2022-01-0420_33_47.813370/model-00019-0.94252-0.62189-0.78737-0.64000.h5\n",
            "67/67 [==============================] - 115s 2s/step - loss: 0.9425 - categorical_accuracy: 0.6219 - val_loss: 0.7874 - val_categorical_accuracy: 0.6400 - lr: 5.0000e-04\n",
            "Epoch 20/20\n",
            "67/67 [==============================] - ETA: 0s - loss: 0.9603 - categorical_accuracy: 0.6318\n",
            "Epoch 00020: saving model to model_init_2022-01-0420_33_47.813370/model-00020-0.96030-0.63184-0.92718-0.63000.h5\n",
            "67/67 [==============================] - 112s 2s/step - loss: 0.9603 - categorical_accuracy: 0.6318 - val_loss: 0.9272 - val_categorical_accuracy: 0.6300 - lr: 5.0000e-04\n"
          ]
        },
        {
          "output_type": "execute_result",
          "data": {
            "text/plain": [
              "<keras.callbacks.History at 0x7fc7ac9bb890>"
            ]
          },
          "metadata": {},
          "execution_count": 33
        }
      ],
      "source": [
        "batch_size = 10\n",
        "num_epochs = 20\n",
        "model_final.fit_generator(train_generator, steps_per_epoch=steps_per_epoch, epochs=num_epochs, verbose=1, \n",
        "                    callbacks=callbacks_list, validation_data=val_generator, \n",
        "                    validation_steps=validation_steps, class_weight=None, workers=1, initial_epoch=0)"
      ]
    },
    {
      "cell_type": "code",
      "execution_count": null,
      "metadata": {
        "id": "mFoE6yS6_e4x",
        "colab": {
          "base_uri": "https://localhost:8080/"
        },
        "outputId": "c9802a45-712e-4a82-f2ce-039d6f67cd8c"
      },
      "outputs": [
        {
          "output_type": "stream",
          "name": "stdout",
          "text": [
            "Epoch 1/20\n",
            "67/67 [==============================] - ETA: 0s - loss: 0.9390 - categorical_accuracy: 0.6318\n",
            "Epoch 00001: saving model to model_init_2022-01-0420_33_47.813370/model-00001-0.93899-0.63184-0.88141-0.62000.h5\n",
            "67/67 [==============================] - 111s 2s/step - loss: 0.9390 - categorical_accuracy: 0.6318 - val_loss: 0.8814 - val_categorical_accuracy: 0.6200 - lr: 5.0000e-04\n",
            "Epoch 2/20\n",
            "67/67 [==============================] - ETA: 0s - loss: 0.9405 - categorical_accuracy: 0.6318\n",
            "Epoch 00002: saving model to model_init_2022-01-0420_33_47.813370/model-00002-0.94050-0.63184-0.94192-0.56000.h5\n",
            "67/67 [==============================] - 114s 2s/step - loss: 0.9405 - categorical_accuracy: 0.6318 - val_loss: 0.9419 - val_categorical_accuracy: 0.5600 - lr: 5.0000e-04\n",
            "Epoch 3/20\n",
            "67/67 [==============================] - ETA: 0s - loss: 0.9060 - categorical_accuracy: 0.6468\n",
            "Epoch 00003: saving model to model_init_2022-01-0420_33_47.813370/model-00003-0.90602-0.64677-0.87930-0.63000.h5\n",
            "67/67 [==============================] - 114s 2s/step - loss: 0.9060 - categorical_accuracy: 0.6468 - val_loss: 0.8793 - val_categorical_accuracy: 0.6300 - lr: 5.0000e-04\n",
            "Epoch 4/20\n",
            "67/67 [==============================] - ETA: 0s - loss: 0.8833 - categorical_accuracy: 0.6468\n",
            "Epoch 00004: saving model to model_init_2022-01-0420_33_47.813370/model-00004-0.88335-0.64677-0.99446-0.53000.h5\n",
            "67/67 [==============================] - 111s 2s/step - loss: 0.8833 - categorical_accuracy: 0.6468 - val_loss: 0.9945 - val_categorical_accuracy: 0.5300 - lr: 5.0000e-04\n",
            "Epoch 5/20\n",
            "67/67 [==============================] - ETA: 0s - loss: 0.7217 - categorical_accuracy: 0.7065\n",
            "Epoch 00005: saving model to model_init_2022-01-0420_33_47.813370/model-00005-0.72166-0.70647-0.83554-0.64000.h5\n",
            "67/67 [==============================] - 118s 2s/step - loss: 0.7217 - categorical_accuracy: 0.7065 - val_loss: 0.8355 - val_categorical_accuracy: 0.6400 - lr: 5.0000e-04\n",
            "Epoch 6/20\n",
            "67/67 [==============================] - ETA: 0s - loss: 0.8674 - categorical_accuracy: 0.6667\n",
            "Epoch 00006: saving model to model_init_2022-01-0420_33_47.813370/model-00006-0.86740-0.66667-0.88524-0.62000.h5\n",
            "67/67 [==============================] - 109s 2s/step - loss: 0.8674 - categorical_accuracy: 0.6667 - val_loss: 0.8852 - val_categorical_accuracy: 0.6200 - lr: 5.0000e-04\n",
            "Epoch 7/20\n",
            "67/67 [==============================] - ETA: 0s - loss: 0.7291 - categorical_accuracy: 0.7264\n",
            "Epoch 00007: saving model to model_init_2022-01-0420_33_47.813370/model-00007-0.72910-0.72637-0.73898-0.70000.h5\n",
            "67/67 [==============================] - 114s 2s/step - loss: 0.7291 - categorical_accuracy: 0.7264 - val_loss: 0.7390 - val_categorical_accuracy: 0.7000 - lr: 5.0000e-04\n",
            "Epoch 8/20\n",
            "67/67 [==============================] - ETA: 0s - loss: 0.7298 - categorical_accuracy: 0.7313\n",
            "Epoch 00008: saving model to model_init_2022-01-0420_33_47.813370/model-00008-0.72978-0.73134-0.86441-0.57000.h5\n",
            "67/67 [==============================] - 112s 2s/step - loss: 0.7298 - categorical_accuracy: 0.7313 - val_loss: 0.8644 - val_categorical_accuracy: 0.5700 - lr: 5.0000e-04\n",
            "Epoch 9/20\n",
            "67/67 [==============================] - ETA: 0s - loss: 0.6869 - categorical_accuracy: 0.7662\n",
            "Epoch 00009: saving model to model_init_2022-01-0420_33_47.813370/model-00009-0.68690-0.76617-0.77294-0.62000.h5\n",
            "\n",
            "Epoch 00009: ReduceLROnPlateau reducing learning rate to 0.0002500000118743628.\n",
            "67/67 [==============================] - 110s 2s/step - loss: 0.6869 - categorical_accuracy: 0.7662 - val_loss: 0.7729 - val_categorical_accuracy: 0.6200 - lr: 5.0000e-04\n",
            "Epoch 10/20\n",
            "67/67 [==============================] - ETA: 0s - loss: 0.8280 - categorical_accuracy: 0.6667\n",
            "Epoch 00010: saving model to model_init_2022-01-0420_33_47.813370/model-00010-0.82797-0.66667-0.71556-0.71000.h5\n",
            "67/67 [==============================] - 111s 2s/step - loss: 0.8280 - categorical_accuracy: 0.6667 - val_loss: 0.7156 - val_categorical_accuracy: 0.7100 - lr: 2.5000e-04\n",
            "Epoch 11/20\n",
            "67/67 [==============================] - ETA: 0s - loss: 0.5434 - categorical_accuracy: 0.7811\n",
            "Epoch 00011: saving model to model_init_2022-01-0420_33_47.813370/model-00011-0.54342-0.78109-0.72980-0.66000.h5\n",
            "67/67 [==============================] - 114s 2s/step - loss: 0.5434 - categorical_accuracy: 0.7811 - val_loss: 0.7298 - val_categorical_accuracy: 0.6600 - lr: 2.5000e-04\n",
            "Epoch 12/20\n",
            "67/67 [==============================] - ETA: 0s - loss: 0.5480 - categorical_accuracy: 0.8010\n",
            "Epoch 00012: saving model to model_init_2022-01-0420_33_47.813370/model-00012-0.54800-0.80100-0.75575-0.67000.h5\n",
            "\n",
            "Epoch 00012: ReduceLROnPlateau reducing learning rate to 0.0001250000059371814.\n",
            "67/67 [==============================] - 108s 2s/step - loss: 0.5480 - categorical_accuracy: 0.8010 - val_loss: 0.7558 - val_categorical_accuracy: 0.6700 - lr: 2.5000e-04\n",
            "Epoch 13/20\n",
            "67/67 [==============================] - ETA: 0s - loss: 0.6212 - categorical_accuracy: 0.7313\n",
            "Epoch 00013: saving model to model_init_2022-01-0420_33_47.813370/model-00013-0.62125-0.73134-0.71989-0.69000.h5\n",
            "67/67 [==============================] - 121s 2s/step - loss: 0.6212 - categorical_accuracy: 0.7313 - val_loss: 0.7199 - val_categorical_accuracy: 0.6900 - lr: 1.2500e-04\n",
            "Epoch 14/20\n",
            "67/67 [==============================] - ETA: 0s - loss: 0.6075 - categorical_accuracy: 0.7662\n",
            "Epoch 00014: saving model to model_init_2022-01-0420_33_47.813370/model-00014-0.60754-0.76617-0.78709-0.64000.h5\n",
            "\n",
            "Epoch 00014: ReduceLROnPlateau reducing learning rate to 6.25000029685907e-05.\n",
            "67/67 [==============================] - 109s 2s/step - loss: 0.6075 - categorical_accuracy: 0.7662 - val_loss: 0.7871 - val_categorical_accuracy: 0.6400 - lr: 1.2500e-04\n",
            "Epoch 15/20\n",
            "67/67 [==============================] - ETA: 0s - loss: 0.5786 - categorical_accuracy: 0.7960\n",
            "Epoch 00015: saving model to model_init_2022-01-0420_33_47.813370/model-00015-0.57862-0.79602-0.73232-0.71000.h5\n",
            "67/67 [==============================] - 111s 2s/step - loss: 0.5786 - categorical_accuracy: 0.7960 - val_loss: 0.7323 - val_categorical_accuracy: 0.7100 - lr: 6.2500e-05\n",
            "Epoch 16/20\n",
            "67/67 [==============================] - ETA: 0s - loss: 0.5586 - categorical_accuracy: 0.7910\n",
            "Epoch 00016: saving model to model_init_2022-01-0420_33_47.813370/model-00016-0.55859-0.79104-0.69948-0.68000.h5\n",
            "67/67 [==============================] - 115s 2s/step - loss: 0.5586 - categorical_accuracy: 0.7910 - val_loss: 0.6995 - val_categorical_accuracy: 0.6800 - lr: 6.2500e-05\n",
            "Epoch 17/20\n",
            "67/67 [==============================] - ETA: 0s - loss: 0.4937 - categorical_accuracy: 0.7960\n",
            "Epoch 00017: saving model to model_init_2022-01-0420_33_47.813370/model-00017-0.49365-0.79602-0.68760-0.72000.h5\n",
            "67/67 [==============================] - 112s 2s/step - loss: 0.4937 - categorical_accuracy: 0.7960 - val_loss: 0.6876 - val_categorical_accuracy: 0.7200 - lr: 6.2500e-05\n",
            "Epoch 18/20\n",
            "67/67 [==============================] - ETA: 0s - loss: 0.4806 - categorical_accuracy: 0.8458\n",
            "Epoch 00018: saving model to model_init_2022-01-0420_33_47.813370/model-00018-0.48063-0.84577-0.71548-0.68000.h5\n",
            "67/67 [==============================] - 117s 2s/step - loss: 0.4806 - categorical_accuracy: 0.8458 - val_loss: 0.7155 - val_categorical_accuracy: 0.6800 - lr: 6.2500e-05\n",
            "Epoch 19/20\n",
            "67/67 [==============================] - ETA: 0s - loss: 0.5014 - categorical_accuracy: 0.8109\n",
            "Epoch 00019: saving model to model_init_2022-01-0420_33_47.813370/model-00019-0.50137-0.81095-0.73302-0.67000.h5\n",
            "\n",
            "Epoch 00019: ReduceLROnPlateau reducing learning rate to 3.125000148429535e-05.\n",
            "67/67 [==============================] - 111s 2s/step - loss: 0.5014 - categorical_accuracy: 0.8109 - val_loss: 0.7330 - val_categorical_accuracy: 0.6700 - lr: 6.2500e-05\n",
            "Epoch 20/20\n",
            "67/67 [==============================] - ETA: 0s - loss: 0.5952 - categorical_accuracy: 0.7761\n",
            "Epoch 00020: saving model to model_init_2022-01-0420_33_47.813370/model-00020-0.59524-0.77612-0.74710-0.66000.h5\n",
            "67/67 [==============================] - 115s 2s/step - loss: 0.5952 - categorical_accuracy: 0.7761 - val_loss: 0.7471 - val_categorical_accuracy: 0.6600 - lr: 3.1250e-05\n"
          ]
        },
        {
          "output_type": "execute_result",
          "data": {
            "text/plain": [
              "<keras.callbacks.History at 0x7fc7ac6c3650>"
            ]
          },
          "metadata": {},
          "execution_count": 34
        }
      ],
      "source": [
        "batch_size = 32\n",
        "num_epochs = 20\n",
        "model_final.fit_generator(train_generator, steps_per_epoch=steps_per_epoch, epochs=num_epochs, verbose=1, \n",
        "                    callbacks=callbacks_list, validation_data=val_generator, \n",
        "                    validation_steps=validation_steps, class_weight=None, workers=1, initial_epoch=0)"
      ]
    },
    {
      "cell_type": "code",
      "execution_count": null,
      "metadata": {
        "id": "_XRI1wT__e4x",
        "colab": {
          "base_uri": "https://localhost:8080/"
        },
        "outputId": "5c8f49c5-c3bc-4e56-c26a-53de5d7a2587"
      },
      "outputs": [
        {
          "output_type": "stream",
          "name": "stdout",
          "text": [
            "Source path =  /content/Project_data/train ; batch size = 64\n",
            "Epoch 1/20\n",
            " 9/67 [===>..........................] - ETA: 20:59 - loss: 0.4588 - categorical_accuracy: 0.8333Batch:  11 Index: 64\n",
            "38/67 [================>.............] - ETA: 5:30 - loss: 0.4626 - categorical_accuracy: 0.8341Batch:  29 Index: 23\n",
            "67/67 [==============================] - ETA: 0s - loss: 0.4572 - categorical_accuracy: 0.8347Source path =  /content/Project_data/val ; batch size = 64\n",
            "Batch:  2 Index: 64\n",
            "Batch:  3 Index: 36\n",
            "Batch:  4 Index: 28\n",
            "\n",
            "Epoch 00001: saving model to model_init_2022-01-0420_33_47.813370/model-00001-0.45716-0.83469-0.72856-0.68354.h5\n",
            "67/67 [==============================] - 789s 12s/step - loss: 0.4572 - categorical_accuracy: 0.8347 - val_loss: 0.7286 - val_categorical_accuracy: 0.6835 - lr: 3.1250e-05\n",
            "Epoch 2/20\n",
            " 6/67 [=>............................] - ETA: 7:23 - loss: 0.4420 - categorical_accuracy: 0.8158Batch:  35 Index: 19\n",
            "67/67 [==============================] - ETA: 0s - loss: 0.4205 - categorical_accuracy: 0.8482Batch:  7 Index: 16\n",
            "\n",
            "Epoch 00002: saving model to model_init_2022-01-0420_33_47.813370/model-00002-0.42053-0.84822-0.75588-0.64773.h5\n",
            "67/67 [==============================] - 441s 7s/step - loss: 0.4205 - categorical_accuracy: 0.8482 - val_loss: 0.7559 - val_categorical_accuracy: 0.6477 - lr: 3.1250e-05\n",
            "Epoch 3/20\n",
            "67/67 [==============================] - ETA: 0s - loss: 0.4448 - categorical_accuracy: 0.8428\n",
            "Epoch 00003: saving model to model_init_2022-01-0420_33_47.813370/model-00003-0.44476-0.84284-0.56957-0.75000.h5\n",
            "67/67 [==============================] - 404s 6s/step - loss: 0.4448 - categorical_accuracy: 0.8428 - val_loss: 0.5696 - val_categorical_accuracy: 0.7500 - lr: 3.1250e-05\n",
            "Epoch 4/20\n",
            "67/67 [==============================] - ETA: 0s - loss: 0.4675 - categorical_accuracy: 0.8393\n",
            "Epoch 00004: saving model to model_init_2022-01-0420_33_47.813370/model-00004-0.46746-0.83933-0.72264-0.60000.h5\n",
            "67/67 [==============================] - 412s 6s/step - loss: 0.4675 - categorical_accuracy: 0.8393 - val_loss: 0.7226 - val_categorical_accuracy: 0.6000 - lr: 3.1250e-05\n",
            "Epoch 5/20\n",
            "67/67 [==============================] - ETA: 0s - loss: 0.4361 - categorical_accuracy: 0.8411\n",
            "Epoch 00005: saving model to model_init_2022-01-0420_33_47.813370/model-00005-0.43612-0.84109-0.75784-0.65000.h5\n",
            "\n",
            "Epoch 00005: ReduceLROnPlateau reducing learning rate to 1.5625000742147677e-05.\n",
            "67/67 [==============================] - 408s 6s/step - loss: 0.4361 - categorical_accuracy: 0.8411 - val_loss: 0.7578 - val_categorical_accuracy: 0.6500 - lr: 3.1250e-05\n",
            "Epoch 6/20\n",
            "67/67 [==============================] - ETA: 0s - loss: 0.4409 - categorical_accuracy: 0.8437\n",
            "Epoch 00006: saving model to model_init_2022-01-0420_33_47.813370/model-00006-0.44090-0.84372-0.70217-0.67500.h5\n",
            "67/67 [==============================] - 412s 6s/step - loss: 0.4409 - categorical_accuracy: 0.8437 - val_loss: 0.7022 - val_categorical_accuracy: 0.6750 - lr: 1.5625e-05\n",
            "Epoch 7/20\n",
            "67/67 [==============================] - ETA: 0s - loss: 0.4128 - categorical_accuracy: 0.8525\n",
            "Epoch 00007: saving model to model_init_2022-01-0420_33_47.813370/model-00007-0.41279-0.85250-0.61848-0.72500.h5\n",
            "\n",
            "Epoch 00007: ReduceLROnPlateau reducing learning rate to 7.812500371073838e-06.\n",
            "67/67 [==============================] - 412s 6s/step - loss: 0.4128 - categorical_accuracy: 0.8525 - val_loss: 0.6185 - val_categorical_accuracy: 0.7250 - lr: 1.5625e-05\n",
            "Epoch 8/20\n",
            "67/67 [==============================] - ETA: 0s - loss: 0.4316 - categorical_accuracy: 0.8464\n",
            "Epoch 00008: saving model to model_init_2022-01-0420_33_47.813370/model-00008-0.43160-0.84636-0.88306-0.57500.h5\n",
            "67/67 [==============================] - 422s 6s/step - loss: 0.4316 - categorical_accuracy: 0.8464 - val_loss: 0.8831 - val_categorical_accuracy: 0.5750 - lr: 7.8125e-06\n",
            "Epoch 9/20\n",
            "67/67 [==============================] - ETA: 0s - loss: 0.4029 - categorical_accuracy: 0.8569\n",
            "Epoch 00009: saving model to model_init_2022-01-0420_33_47.813370/model-00009-0.40287-0.85689-0.69577-0.67500.h5\n",
            "\n",
            "Epoch 00009: ReduceLROnPlateau reducing learning rate to 3.906250185536919e-06.\n",
            "67/67 [==============================] - 418s 6s/step - loss: 0.4029 - categorical_accuracy: 0.8569 - val_loss: 0.6958 - val_categorical_accuracy: 0.6750 - lr: 7.8125e-06\n",
            "Epoch 10/20\n",
            "67/67 [==============================] - ETA: 0s - loss: 0.4285 - categorical_accuracy: 0.8560\n",
            "Epoch 00010: saving model to model_init_2022-01-0420_33_47.813370/model-00010-0.42849-0.85601-0.78028-0.65000.h5\n",
            "67/67 [==============================] - 414s 6s/step - loss: 0.4285 - categorical_accuracy: 0.8560 - val_loss: 0.7803 - val_categorical_accuracy: 0.6500 - lr: 3.9063e-06\n",
            "Epoch 11/20\n",
            "67/67 [==============================] - ETA: 0s - loss: 0.4277 - categorical_accuracy: 0.8578\n",
            "Epoch 00011: saving model to model_init_2022-01-0420_33_47.813370/model-00011-0.42768-0.85777-0.68742-0.67500.h5\n",
            "\n",
            "Epoch 00011: ReduceLROnPlateau reducing learning rate to 1.9531250927684596e-06.\n",
            "67/67 [==============================] - 414s 6s/step - loss: 0.4277 - categorical_accuracy: 0.8578 - val_loss: 0.6874 - val_categorical_accuracy: 0.6750 - lr: 3.9063e-06\n",
            "Epoch 12/20\n",
            "67/67 [==============================] - ETA: 0s - loss: 0.4001 - categorical_accuracy: 0.8578\n",
            "Epoch 00012: saving model to model_init_2022-01-0420_33_47.813370/model-00012-0.40007-0.85777-0.78234-0.67500.h5\n",
            "67/67 [==============================] - 406s 6s/step - loss: 0.4001 - categorical_accuracy: 0.8578 - val_loss: 0.7823 - val_categorical_accuracy: 0.6750 - lr: 1.9531e-06\n",
            "Epoch 13/20\n",
            "67/67 [==============================] - ETA: 0s - loss: 0.4468 - categorical_accuracy: 0.8411\n",
            "Epoch 00013: saving model to model_init_2022-01-0420_33_47.813370/model-00013-0.44682-0.84109-0.60772-0.72500.h5\n",
            "\n",
            "Epoch 00013: ReduceLROnPlateau reducing learning rate to 9.765625463842298e-07.\n",
            "67/67 [==============================] - 395s 6s/step - loss: 0.4468 - categorical_accuracy: 0.8411 - val_loss: 0.6077 - val_categorical_accuracy: 0.7250 - lr: 1.9531e-06\n",
            "Epoch 14/20\n",
            "67/67 [==============================] - ETA: 0s - loss: 0.4274 - categorical_accuracy: 0.8402\n",
            "Epoch 00014: saving model to model_init_2022-01-0420_33_47.813370/model-00014-0.42737-0.84021-0.76966-0.70000.h5\n",
            "67/67 [==============================] - 386s 6s/step - loss: 0.4274 - categorical_accuracy: 0.8402 - val_loss: 0.7697 - val_categorical_accuracy: 0.7000 - lr: 9.7656e-07\n",
            "Epoch 15/20\n",
            "67/67 [==============================] - ETA: 0s - loss: 0.3981 - categorical_accuracy: 0.8701\n",
            "Epoch 00015: saving model to model_init_2022-01-0420_33_47.813370/model-00015-0.39805-0.87006-0.75691-0.60000.h5\n",
            "\n",
            "Epoch 00015: ReduceLROnPlateau reducing learning rate to 4.882812731921149e-07.\n",
            "67/67 [==============================] - 394s 6s/step - loss: 0.3981 - categorical_accuracy: 0.8701 - val_loss: 0.7569 - val_categorical_accuracy: 0.6000 - lr: 9.7656e-07\n",
            "Epoch 16/20\n",
            "67/67 [==============================] - ETA: 0s - loss: 0.4301 - categorical_accuracy: 0.8472\n",
            "Epoch 00016: saving model to model_init_2022-01-0420_33_47.813370/model-00016-0.43011-0.84723-0.67853-0.72500.h5\n",
            "67/67 [==============================] - 400s 6s/step - loss: 0.4301 - categorical_accuracy: 0.8472 - val_loss: 0.6785 - val_categorical_accuracy: 0.7250 - lr: 4.8828e-07\n",
            "Epoch 17/20\n",
            "67/67 [==============================] - ETA: 0s - loss: 0.4155 - categorical_accuracy: 0.8525\n",
            "Epoch 00017: saving model to model_init_2022-01-0420_33_47.813370/model-00017-0.41549-0.85250-0.71972-0.65000.h5\n",
            "\n",
            "Epoch 00017: ReduceLROnPlateau reducing learning rate to 2.4414063659605745e-07.\n",
            "67/67 [==============================] - 384s 6s/step - loss: 0.4155 - categorical_accuracy: 0.8525 - val_loss: 0.7197 - val_categorical_accuracy: 0.6500 - lr: 4.8828e-07\n",
            "Epoch 18/20\n",
            "67/67 [==============================] - ETA: 0s - loss: 0.4009 - categorical_accuracy: 0.8446\n",
            "Epoch 00018: saving model to model_init_2022-01-0420_33_47.813370/model-00018-0.40092-0.84460-0.78614-0.62500.h5\n",
            "67/67 [==============================] - 397s 6s/step - loss: 0.4009 - categorical_accuracy: 0.8446 - val_loss: 0.7861 - val_categorical_accuracy: 0.6250 - lr: 2.4414e-07\n",
            "Epoch 19/20\n",
            "10/67 [===>..........................] - ETA: 5:21 - loss: 0.3559 - categorical_accuracy: 0.8824"
          ]
        }
      ],
      "source": [
        "batch_size = 64\n",
        "num_epochs = 20\n",
        "\n",
        "train_generator = generator_ex(train_path, train_doc, batch_size)\n",
        "val_generator = generator_ex(val_path, val_doc, batch_size)\n",
        "\n",
        "\n",
        "model_final.fit_generator(train_generator, steps_per_epoch=steps_per_epoch, epochs=num_epochs, verbose=1, \n",
        "                    callbacks=callbacks_list, validation_data=val_generator, \n",
        "                    validation_steps=validation_steps, class_weight=None, workers=1, initial_epoch=0)"
      ]
    },
    {
      "cell_type": "code",
      "execution_count": 18,
      "metadata": {
        "id": "7E3mSOri_e4y",
        "colab": {
          "base_uri": "https://localhost:8080/"
        },
        "outputId": "37b73302-faab-480c-ed31-e12004de73db"
      },
      "outputs": [
        {
          "output_type": "stream",
          "name": "stdout",
          "text": [
            "Source path =  /content/Project_data/train ; batch size = 40\n",
            "Epoch 1/20\n",
            "15/67 [=====>........................] - ETA: 12:10 - loss: 2.1318 - categorical_accuracy: 0.2283Batch:  17 Index: 40\n",
            "44/67 [==================>...........] - ETA: 3:53 - loss: 1.7751 - categorical_accuracy: 0.3014Batch:  29 Index: 23\n",
            "67/67 [==============================] - ETA: 0s - loss: 1.6646 - categorical_accuracy: 0.3223Source path =  /content/Project_data/val ; batch size = 40\n",
            "Batch:  3 Index: 40\n",
            "\n",
            "Epoch 00001: saving model to model_init_2022-01-0509_46_52.560445/model-00001-1.66456-0.32232-1.48050-0.42083.h5\n",
            "67/67 [==============================] - 709s 11s/step - loss: 1.6646 - categorical_accuracy: 0.3223 - val_loss: 1.4805 - val_categorical_accuracy: 0.4208 - lr: 0.0010\n",
            "Epoch 2/20\n",
            "12/67 [====>.........................] - ETA: 6:07 - loss: 1.2951 - categorical_accuracy: 0.4693Batch:  35 Index: 19\n",
            "67/67 [==============================] - ETA: 0s - loss: 1.2141 - categorical_accuracy: 0.4747\n",
            "Epoch 00002: saving model to model_init_2022-01-0509_46_52.560445/model-00002-1.21407-0.47468-1.13092-0.62500.h5\n",
            "67/67 [==============================] - 487s 7s/step - loss: 1.2141 - categorical_accuracy: 0.4747 - val_loss: 1.1309 - val_categorical_accuracy: 0.6250 - lr: 0.0010\n",
            "Epoch 3/20\n",
            "67/67 [==============================] - ETA: 0s - loss: 1.0642 - categorical_accuracy: 0.5856\n",
            "Epoch 00003: saving model to model_init_2022-01-0509_46_52.560445/model-00003-1.06423-0.58560-1.28442-0.46500.h5\n",
            "67/67 [==============================] - 469s 7s/step - loss: 1.0642 - categorical_accuracy: 0.5856 - val_loss: 1.2844 - val_categorical_accuracy: 0.4650 - lr: 0.0010\n",
            "Epoch 4/20\n",
            "67/67 [==============================] - ETA: 0s - loss: 0.8169 - categorical_accuracy: 0.6708\n",
            "Epoch 00004: saving model to model_init_2022-01-0509_46_52.560445/model-00004-0.81690-0.67076-1.03697-0.57000.h5\n",
            "67/67 [==============================] - 534s 8s/step - loss: 0.8169 - categorical_accuracy: 0.6708 - val_loss: 1.0370 - val_categorical_accuracy: 0.5700 - lr: 0.0010\n",
            "Epoch 5/20\n",
            "67/67 [==============================] - ETA: 0s - loss: 0.6664 - categorical_accuracy: 0.7419\n",
            "Epoch 00005: saving model to model_init_2022-01-0509_46_52.560445/model-00005-0.66643-0.74188-1.09007-0.59000.h5\n",
            "67/67 [==============================] - 480s 7s/step - loss: 0.6664 - categorical_accuracy: 0.7419 - val_loss: 1.0901 - val_categorical_accuracy: 0.5900 - lr: 0.0010\n",
            "Epoch 6/20\n",
            "67/67 [==============================] - ETA: 0s - loss: 0.5485 - categorical_accuracy: 0.7814\n",
            "Epoch 00006: saving model to model_init_2022-01-0509_46_52.560445/model-00006-0.54848-0.78139-0.93627-0.61500.h5\n",
            "67/67 [==============================] - 489s 7s/step - loss: 0.5485 - categorical_accuracy: 0.7814 - val_loss: 0.9363 - val_categorical_accuracy: 0.6150 - lr: 0.0010\n",
            "Epoch 7/20\n",
            "67/67 [==============================] - ETA: 0s - loss: 0.4037 - categorical_accuracy: 0.8516\n",
            "Epoch 00007: saving model to model_init_2022-01-0509_46_52.560445/model-00007-0.40371-0.85162-0.86744-0.68000.h5\n",
            "67/67 [==============================] - 545s 8s/step - loss: 0.4037 - categorical_accuracy: 0.8516 - val_loss: 0.8674 - val_categorical_accuracy: 0.6800 - lr: 0.0010\n",
            "Epoch 8/20\n",
            "67/67 [==============================] - ETA: 0s - loss: 0.3197 - categorical_accuracy: 0.8806\n",
            "Epoch 00008: saving model to model_init_2022-01-0509_46_52.560445/model-00008-0.31972-0.88060-0.88962-0.71500.h5\n",
            "67/67 [==============================] - 486s 7s/step - loss: 0.3197 - categorical_accuracy: 0.8806 - val_loss: 0.8896 - val_categorical_accuracy: 0.7150 - lr: 0.0010\n",
            "Epoch 9/20\n",
            "67/67 [==============================] - ETA: 0s - loss: 0.2774 - categorical_accuracy: 0.8964\n",
            "Epoch 00009: saving model to model_init_2022-01-0509_46_52.560445/model-00009-0.27736-0.89640-0.88606-0.68000.h5\n",
            "\n",
            "Epoch 00009: ReduceLROnPlateau reducing learning rate to 0.0005000000237487257.\n",
            "67/67 [==============================] - 543s 8s/step - loss: 0.2774 - categorical_accuracy: 0.8964 - val_loss: 0.8861 - val_categorical_accuracy: 0.6800 - lr: 0.0010\n",
            "Epoch 10/20\n",
            "67/67 [==============================] - ETA: 0s - loss: 0.1649 - categorical_accuracy: 0.9464\n",
            "Epoch 00010: saving model to model_init_2022-01-0509_46_52.560445/model-00010-0.16493-0.94644-0.89526-0.75000.h5\n",
            "67/67 [==============================] - 554s 8s/step - loss: 0.1649 - categorical_accuracy: 0.9464 - val_loss: 0.8953 - val_categorical_accuracy: 0.7500 - lr: 5.0000e-04\n",
            "Epoch 11/20\n",
            "67/67 [==============================] - ETA: 0s - loss: 0.1208 - categorical_accuracy: 0.9658\n",
            "Epoch 00011: saving model to model_init_2022-01-0509_46_52.560445/model-00011-0.12078-0.96576-0.84181-0.75500.h5\n",
            "67/67 [==============================] - 484s 7s/step - loss: 0.1208 - categorical_accuracy: 0.9658 - val_loss: 0.8418 - val_categorical_accuracy: 0.7550 - lr: 5.0000e-04\n",
            "Epoch 12/20\n",
            "67/67 [==============================] - ETA: 0s - loss: 0.1175 - categorical_accuracy: 0.9649\n",
            "Epoch 00012: saving model to model_init_2022-01-0509_46_52.560445/model-00012-0.11753-0.96488-0.88726-0.71000.h5\n",
            "67/67 [==============================] - 493s 7s/step - loss: 0.1175 - categorical_accuracy: 0.9649 - val_loss: 0.8873 - val_categorical_accuracy: 0.7100 - lr: 5.0000e-04\n",
            "Epoch 13/20\n",
            "67/67 [==============================] - ETA: 0s - loss: 0.0992 - categorical_accuracy: 0.9666\n",
            "Epoch 00013: saving model to model_init_2022-01-0509_46_52.560445/model-00013-0.09923-0.96664-0.74579-0.78000.h5\n",
            "67/67 [==============================] - 539s 8s/step - loss: 0.0992 - categorical_accuracy: 0.9666 - val_loss: 0.7458 - val_categorical_accuracy: 0.7800 - lr: 5.0000e-04\n",
            "Epoch 14/20\n",
            "67/67 [==============================] - ETA: 0s - loss: 0.0655 - categorical_accuracy: 0.9807\n",
            "Epoch 00014: saving model to model_init_2022-01-0509_46_52.560445/model-00014-0.06546-0.98068-0.88360-0.76000.h5\n",
            "67/67 [==============================] - 488s 7s/step - loss: 0.0655 - categorical_accuracy: 0.9807 - val_loss: 0.8836 - val_categorical_accuracy: 0.7600 - lr: 5.0000e-04\n",
            "Epoch 15/20\n",
            "67/67 [==============================] - ETA: 0s - loss: 0.0599 - categorical_accuracy: 0.9833\n",
            "Epoch 00015: saving model to model_init_2022-01-0509_46_52.560445/model-00015-0.05989-0.98332-0.90654-0.75500.h5\n",
            "\n",
            "Epoch 00015: ReduceLROnPlateau reducing learning rate to 0.0002500000118743628.\n",
            "67/67 [==============================] - 483s 7s/step - loss: 0.0599 - categorical_accuracy: 0.9833 - val_loss: 0.9065 - val_categorical_accuracy: 0.7550 - lr: 5.0000e-04\n",
            "Epoch 16/20\n",
            "67/67 [==============================] - ETA: 0s - loss: 0.0464 - categorical_accuracy: 0.9895\n",
            "Epoch 00016: saving model to model_init_2022-01-0509_46_52.560445/model-00016-0.04643-0.98946-0.95486-0.72500.h5\n",
            "67/67 [==============================] - 521s 8s/step - loss: 0.0464 - categorical_accuracy: 0.9895 - val_loss: 0.9549 - val_categorical_accuracy: 0.7250 - lr: 2.5000e-04\n",
            "Epoch 17/20\n",
            "67/67 [==============================] - ETA: 0s - loss: 0.0393 - categorical_accuracy: 0.9895\n",
            "Epoch 00017: saving model to model_init_2022-01-0509_46_52.560445/model-00017-0.03935-0.98946-1.08478-0.74000.h5\n",
            "\n",
            "Epoch 00017: ReduceLROnPlateau reducing learning rate to 0.0001250000059371814.\n",
            "67/67 [==============================] - 474s 7s/step - loss: 0.0393 - categorical_accuracy: 0.9895 - val_loss: 1.0848 - val_categorical_accuracy: 0.7400 - lr: 2.5000e-04\n",
            "Epoch 18/20\n",
            "67/67 [==============================] - ETA: 0s - loss: 0.0383 - categorical_accuracy: 0.9903\n",
            "Epoch 00018: saving model to model_init_2022-01-0509_46_52.560445/model-00018-0.03828-0.99034-0.96751-0.76500.h5\n",
            "67/67 [==============================] - 459s 7s/step - loss: 0.0383 - categorical_accuracy: 0.9903 - val_loss: 0.9675 - val_categorical_accuracy: 0.7650 - lr: 1.2500e-04\n",
            "Epoch 19/20\n",
            "67/67 [==============================] - ETA: 0s - loss: 0.0351 - categorical_accuracy: 0.9930\n",
            "Epoch 00019: saving model to model_init_2022-01-0509_46_52.560445/model-00019-0.03512-0.99298-0.93117-0.74000.h5\n",
            "\n",
            "Epoch 00019: ReduceLROnPlateau reducing learning rate to 6.25000029685907e-05.\n",
            "67/67 [==============================] - 457s 7s/step - loss: 0.0351 - categorical_accuracy: 0.9930 - val_loss: 0.9312 - val_categorical_accuracy: 0.7400 - lr: 1.2500e-04\n",
            "Epoch 20/20\n",
            "67/67 [==============================] - ETA: 0s - loss: 0.0283 - categorical_accuracy: 0.9930\n",
            "Epoch 00020: saving model to model_init_2022-01-0509_46_52.560445/model-00020-0.02830-0.99298-0.94678-0.75500.h5\n",
            "67/67 [==============================] - 459s 7s/step - loss: 0.0283 - categorical_accuracy: 0.9930 - val_loss: 0.9468 - val_categorical_accuracy: 0.7550 - lr: 6.2500e-05\n"
          ]
        },
        {
          "output_type": "execute_result",
          "data": {
            "text/plain": [
              "<keras.callbacks.History at 0x7f126a1a7c50>"
            ]
          },
          "metadata": {},
          "execution_count": 18
        }
      ],
      "source": [
        "batch_size = 40\n",
        "num_epochs = 20\n",
        "\n",
        "train_generator = generator_ex(train_path, train_doc, batch_size)\n",
        "val_generator = generator_ex(val_path, val_doc, batch_size)\n",
        "\n",
        "\n",
        "model_final.fit_generator(train_generator, steps_per_epoch=steps_per_epoch, epochs=num_epochs, verbose=1, \n",
        "                    callbacks=callbacks_list, validation_data=val_generator, \n",
        "                    validation_steps=validation_steps, class_weight=None, workers=1, initial_epoch=0)"
      ]
    },
    {
      "cell_type": "markdown",
      "source": [
        "###2D Model with RNN Experiment 15"
      ],
      "metadata": {
        "id": "SkZ5bvssW9uy"
      }
    },
    {
      "cell_type": "code",
      "source": [
        "from keras.layers.recurrent import LSTM\n"
      ],
      "metadata": {
        "id": "YmHkwY1aRSIu"
      },
      "execution_count": 24,
      "outputs": []
    },
    {
      "cell_type": "code",
      "execution_count": 47,
      "metadata": {
        "id": "ymL2j4xS_e4y"
      },
      "outputs": [],
      "source": [
        "#nb_filters = [8,16,32,64]\n",
        "#nb_dense = [256, 128, 5]\n",
        "\n",
        "lstm_cells=128\n",
        "dense_neurons=128\n",
        "dropout=0.25\n",
        "\n",
        "# Input\n",
        "input_shape=(30,120,120,3)\n",
        "\n",
        "model_cnnrnn = Sequential()\n",
        "\n",
        "model_cnnrnn.add(TimeDistributed(Conv2D(8, (3, 3) , padding='same', activation='relu'),\n",
        "                                  input_shape=input_shape))\n",
        "model_cnnrnn.add(TimeDistributed(BatchNormalization()))\n",
        "model_cnnrnn.add(TimeDistributed(MaxPooling2D((2, 2))))\n",
        "        \n",
        "model_cnnrnn.add(TimeDistributed(Conv2D(16, (3, 3) , padding='same', activation='relu')))\n",
        "model_cnnrnn.add(TimeDistributed(BatchNormalization()))\n",
        "model_cnnrnn.add(TimeDistributed(MaxPooling2D((2, 2))))\n",
        "        \n",
        "model_cnnrnn.add(TimeDistributed(Conv2D(32, (3, 3) , padding='same', activation='relu')))\n",
        "model_cnnrnn.add(TimeDistributed(BatchNormalization()))\n",
        "model_cnnrnn.add(TimeDistributed(MaxPooling2D((2, 2))))\n",
        "        \n",
        "model_cnnrnn.add(TimeDistributed(Conv2D(64, (3, 3) , padding='same', activation='relu')))\n",
        "model_cnnrnn.add(TimeDistributed(BatchNormalization()))\n",
        "model_cnnrnn.add(TimeDistributed(MaxPooling2D((2, 2))))\n",
        "        \n",
        "model_cnnrnn.add(TimeDistributed(Conv2D(128, (3, 3) , padding='same', activation='relu')))\n",
        "model_cnnrnn.add(TimeDistributed(BatchNormalization()))\n",
        "model_cnnrnn.add(TimeDistributed(MaxPooling2D((2, 2))))\n",
        "        \n",
        "\n",
        "model_cnnrnn.add(TimeDistributed(Flatten()))\n",
        "\n",
        "\n",
        "model_cnnrnn.add(LSTM(lstm_cells))\n",
        "model_cnnrnn.add(Dropout(dropout))\n",
        "        \n",
        "model_cnnrnn.add(Dense(dense_neurons,activation='relu'))\n",
        "model_cnnrnn.add(Dropout(dropout))\n",
        "        \n",
        "model_cnnrnn.add(Dense(5, activation='softmax'))"
      ]
    },
    {
      "cell_type": "code",
      "source": [
        "optimiser = tf.keras.optimizers.Adam() #write your optimizer\n",
        "model_cnnrnn.compile(optimizer=optimiser, loss='categorical_crossentropy', metrics=['categorical_accuracy'])\n",
        "print (model_cnnrnn.summary())"
      ],
      "metadata": {
        "id": "-Vd5dvX1XG-t",
        "colab": {
          "base_uri": "https://localhost:8080/"
        },
        "outputId": "2ae1a893-df7f-4ab8-8f0e-0efcc4fc1fb0"
      },
      "execution_count": 48,
      "outputs": [
        {
          "output_type": "stream",
          "name": "stdout",
          "text": [
            "Model: \"sequential_14\"\n",
            "_________________________________________________________________\n",
            " Layer (type)                Output Shape              Param #   \n",
            "=================================================================\n",
            " time_distributed_80 (TimeDi  (None, 30, 120, 120, 8)  224       \n",
            " stributed)                                                      \n",
            "                                                                 \n",
            " time_distributed_81 (TimeDi  (None, 30, 120, 120, 8)  32        \n",
            " stributed)                                                      \n",
            "                                                                 \n",
            " time_distributed_82 (TimeDi  (None, 30, 60, 60, 8)    0         \n",
            " stributed)                                                      \n",
            "                                                                 \n",
            " time_distributed_83 (TimeDi  (None, 30, 60, 60, 16)   1168      \n",
            " stributed)                                                      \n",
            "                                                                 \n",
            " time_distributed_84 (TimeDi  (None, 30, 60, 60, 16)   64        \n",
            " stributed)                                                      \n",
            "                                                                 \n",
            " time_distributed_85 (TimeDi  (None, 30, 30, 30, 16)   0         \n",
            " stributed)                                                      \n",
            "                                                                 \n",
            " time_distributed_86 (TimeDi  (None, 30, 30, 30, 32)   4640      \n",
            " stributed)                                                      \n",
            "                                                                 \n",
            " time_distributed_87 (TimeDi  (None, 30, 30, 30, 32)   128       \n",
            " stributed)                                                      \n",
            "                                                                 \n",
            " time_distributed_88 (TimeDi  (None, 30, 15, 15, 32)   0         \n",
            " stributed)                                                      \n",
            "                                                                 \n",
            " time_distributed_89 (TimeDi  (None, 30, 15, 15, 64)   18496     \n",
            " stributed)                                                      \n",
            "                                                                 \n",
            " time_distributed_90 (TimeDi  (None, 30, 15, 15, 64)   256       \n",
            " stributed)                                                      \n",
            "                                                                 \n",
            " time_distributed_91 (TimeDi  (None, 30, 7, 7, 64)     0         \n",
            " stributed)                                                      \n",
            "                                                                 \n",
            " time_distributed_92 (TimeDi  (None, 30, 7, 7, 128)    73856     \n",
            " stributed)                                                      \n",
            "                                                                 \n",
            " time_distributed_93 (TimeDi  (None, 30, 7, 7, 128)    512       \n",
            " stributed)                                                      \n",
            "                                                                 \n",
            " time_distributed_94 (TimeDi  (None, 30, 3, 3, 128)    0         \n",
            " stributed)                                                      \n",
            "                                                                 \n",
            " time_distributed_95 (TimeDi  (None, 30, 1152)         0         \n",
            " stributed)                                                      \n",
            "                                                                 \n",
            " lstm_4 (LSTM)               (None, 128)               655872    \n",
            "                                                                 \n",
            " dropout_27 (Dropout)        (None, 128)               0         \n",
            "                                                                 \n",
            " dense_22 (Dense)            (None, 128)               16512     \n",
            "                                                                 \n",
            " dropout_28 (Dropout)        (None, 128)               0         \n",
            "                                                                 \n",
            " dense_23 (Dense)            (None, 5)                 645       \n",
            "                                                                 \n",
            "=================================================================\n",
            "Total params: 772,405\n",
            "Trainable params: 771,909\n",
            "Non-trainable params: 496\n",
            "_________________________________________________________________\n",
            "None\n"
          ]
        }
      ]
    },
    {
      "cell_type": "code",
      "source": [
        "batch_size = 32\n",
        "train_generator = generator_ex(train_path, train_doc, batch_size)\n",
        "val_generator = generator_ex(val_path, val_doc, batch_size)\n",
        "num_epochs = 10\n",
        "model_cnnrnn.fit_generator(train_generator, steps_per_epoch=steps_per_epoch, epochs=num_epochs, verbose=1, \n",
        "                    callbacks=callbacks_list, validation_data=val_generator, \n",
        "                    validation_steps=validation_steps, class_weight=None, workers=1, initial_epoch=0)"
      ],
      "metadata": {
        "id": "UMawOBTfXQIb",
        "colab": {
          "base_uri": "https://localhost:8080/"
        },
        "outputId": "02987e51-0801-4ddd-fc4b-216600f1eebc"
      },
      "execution_count": null,
      "outputs": [
        {
          "output_type": "stream",
          "name": "stdout",
          "text": [
            "Source path =  /content/Project_data/train ; batch size = 32\n",
            "Epoch 1/10\n",
            "19/67 [=======>......................] - ETA: 8:33 - loss: 1.4769 - categorical_accuracy: 0.3503Batch:  21 Index: 32\n",
            "48/67 [====================>.........] - ETA: 2:52 - loss: 1.3322 - categorical_accuracy: 0.4151Batch:  29 Index: 23\n",
            "67/67 [==============================] - ETA: 0s - loss: 1.2841 - categorical_accuracy: 0.4457Source path =  /content/Project_data/val ; batch size = 32\n",
            "Batch:  4 Index: 32\n",
            "\n",
            "Epoch 00001: saving model to model_init_2022-01-0509_46_52.560445/model-00001-1.28415-0.44572-2.02988-0.22581.h5\n",
            "67/67 [==============================] - 616s 9s/step - loss: 1.2841 - categorical_accuracy: 0.4457 - val_loss: 2.0299 - val_categorical_accuracy: 0.2258 - lr: 0.0010\n",
            "Epoch 2/10\n",
            "16/67 [======>.......................] - ETA: 5:40 - loss: 1.1169 - categorical_accuracy: 0.5362Batch:  35 Index: 19\n",
            "67/67 [==============================] - ETA: 0s - loss: 1.0222 - categorical_accuracy: 0.5925\n",
            "Epoch 00002: saving model to model_init_2022-01-0509_46_52.560445/model-00002-1.02223-0.59250-3.67499-0.15000.h5\n",
            "67/67 [==============================] - 426s 6s/step - loss: 1.0222 - categorical_accuracy: 0.5925 - val_loss: 3.6750 - val_categorical_accuracy: 0.1500 - lr: 0.0010\n",
            "Epoch 3/10\n",
            "67/67 [==============================] - ETA: 0s - loss: 0.9407 - categorical_accuracy: 0.6277\n",
            "Epoch 00003: saving model to model_init_2022-01-0509_46_52.560445/model-00003-0.94067-0.62774-3.19315-0.22500.h5\n",
            "\n",
            "Epoch 00003: ReduceLROnPlateau reducing learning rate to 0.0005000000237487257.\n",
            "67/67 [==============================] - 403s 6s/step - loss: 0.9407 - categorical_accuracy: 0.6277 - val_loss: 3.1931 - val_categorical_accuracy: 0.2250 - lr: 0.0010\n",
            "Epoch 4/10\n",
            "67/67 [==============================] - ETA: 0s - loss: 0.6853 - categorical_accuracy: 0.7454\n",
            "Epoch 00004: saving model to model_init_2022-01-0509_46_52.560445/model-00004-0.68530-0.74539-3.33155-0.22500.h5\n",
            "67/67 [==============================] - 405s 6s/step - loss: 0.6853 - categorical_accuracy: 0.7454 - val_loss: 3.3316 - val_categorical_accuracy: 0.2250 - lr: 5.0000e-04\n",
            "Epoch 5/10\n",
            "67/67 [==============================] - ETA: 0s - loss: 0.5785 - categorical_accuracy: 0.7875\n",
            "Epoch 00005: saving model to model_init_2022-01-0509_46_52.560445/model-00005-0.57851-0.78753-3.80540-0.25000.h5\n",
            "\n",
            "Epoch 00005: ReduceLROnPlateau reducing learning rate to 0.0002500000118743628.\n",
            "67/67 [==============================] - 398s 6s/step - loss: 0.5785 - categorical_accuracy: 0.7875 - val_loss: 3.8054 - val_categorical_accuracy: 0.2500 - lr: 5.0000e-04\n",
            "Epoch 6/10\n",
            "67/67 [==============================] - ETA: 0s - loss: 0.4112 - categorical_accuracy: 0.8622\n",
            "Epoch 00006: saving model to model_init_2022-01-0509_46_52.560445/model-00006-0.41116-0.86216-2.63866-0.40000.h5\n",
            "67/67 [==============================] - 397s 6s/step - loss: 0.4112 - categorical_accuracy: 0.8622 - val_loss: 2.6387 - val_categorical_accuracy: 0.4000 - lr: 2.5000e-04\n",
            "Epoch 7/10\n",
            "67/67 [==============================] - ETA: 0s - loss: 0.3279 - categorical_accuracy: 0.8920\n",
            "Epoch 00007: saving model to model_init_2022-01-0509_46_52.560445/model-00007-0.32793-0.89201-2.18902-0.35000.h5\n",
            "\n",
            "Epoch 00007: ReduceLROnPlateau reducing learning rate to 0.0001250000059371814.\n",
            "67/67 [==============================] - 404s 6s/step - loss: 0.3279 - categorical_accuracy: 0.8920 - val_loss: 2.1890 - val_categorical_accuracy: 0.3500 - lr: 2.5000e-04\n",
            "Epoch 8/10\n",
            "67/67 [==============================] - ETA: 0s - loss: 0.2707 - categorical_accuracy: 0.9148\n",
            "Epoch 00008: saving model to model_init_2022-01-0509_46_52.560445/model-00008-0.27067-0.91484-1.69565-0.50000.h5\n",
            "67/67 [==============================] - 406s 6s/step - loss: 0.2707 - categorical_accuracy: 0.9148 - val_loss: 1.6956 - val_categorical_accuracy: 0.5000 - lr: 1.2500e-04\n",
            "Epoch 9/10\n",
            "49/67 [====================>.........] - ETA: 1:43 - loss: 0.1911 - categorical_accuracy: 0.9532"
          ]
        }
      ]
    }
  ],
  "metadata": {
    "kernelspec": {
      "display_name": "Python 3",
      "language": "python",
      "name": "python3"
    },
    "language_info": {
      "codemirror_mode": {
        "name": "ipython",
        "version": 3
      },
      "file_extension": ".py",
      "mimetype": "text/x-python",
      "name": "python",
      "nbconvert_exporter": "python",
      "pygments_lexer": "ipython3",
      "version": "3.6.4"
    },
    "colab": {
      "name": "Heena_Liakath_Neural_Nets_Project.ipynb",
      "provenance": [],
      "collapsed_sections": []
    },
    "accelerator": "GPU"
  },
  "nbformat": 4,
  "nbformat_minor": 0
}